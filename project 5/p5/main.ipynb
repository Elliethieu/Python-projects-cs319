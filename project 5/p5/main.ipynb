{
 "cells": [
  {
   "cell_type": "code",
   "execution_count": 1,
   "id": "d9c78858",
   "metadata": {},
   "outputs": [],
   "source": [
    "# project: p5\n",
    "# submitter: thieu\n",
    "# partner: None\n",
    "# hours: 4"
   ]
  },
  {
   "cell_type": "code",
   "execution_count": 2,
   "id": "7b457384",
   "metadata": {},
   "outputs": [
    {
     "data": {
      "text/plain": [
       "['__builtins__',\n",
       " '__cached__',\n",
       " '__doc__',\n",
       " '__file__',\n",
       " '__hurricane__',\n",
       " '__init__',\n",
       " '__loader__',\n",
       " '__name__',\n",
       " '__package__',\n",
       " '__spec__',\n",
       " 'count',\n",
       " 'get_damage',\n",
       " 'get_deaths',\n",
       " 'get_dissipated',\n",
       " 'get_formed',\n",
       " 'get_mph',\n",
       " 'get_name']"
      ]
     },
     "execution_count": 2,
     "metadata": {},
     "output_type": "execute_result"
    }
   ],
   "source": [
    "import project\n",
    "dir(project)"
   ]
  },
  {
   "cell_type": "code",
   "execution_count": 3,
   "id": "a1ad8a80",
   "metadata": {},
   "outputs": [
    {
     "data": {
      "text/plain": [
       "141"
      ]
     },
     "execution_count": 3,
     "metadata": {},
     "output_type": "execute_result"
    }
   ],
   "source": [
    "#Q1\n",
    "project.count()"
   ]
  },
  {
   "cell_type": "code",
   "execution_count": 4,
   "id": "1e0648fb",
   "metadata": {},
   "outputs": [
    {
     "data": {
      "text/plain": [
       "'Isaias'"
      ]
     },
     "execution_count": 4,
     "metadata": {},
     "output_type": "execute_result"
    }
   ],
   "source": [
    "#Q2\n",
    "project.get_name(86)"
   ]
  },
  {
   "cell_type": "code",
   "execution_count": 5,
   "id": "5640d31e",
   "metadata": {},
   "outputs": [
    {
     "data": {
      "text/plain": [
       "1"
      ]
     },
     "execution_count": 5,
     "metadata": {},
     "output_type": "execute_result"
    }
   ],
   "source": [
    "#Q3\n",
    "project.get_deaths(-1)"
   ]
  },
  {
   "cell_type": "code",
   "execution_count": 6,
   "id": "1f18a69e",
   "metadata": {},
   "outputs": [
    {
     "data": {
      "text/plain": [
       "2"
      ]
     },
     "execution_count": 6,
     "metadata": {},
     "output_type": "execute_result"
    }
   ],
   "source": [
    "#Q4\n",
    "n=0\n",
    "for idx in range(project.count()):\n",
    "    if project.get_name(idx).lower() == \"omar\":\n",
    "        n += 1\n",
    "n"
   ]
  },
  {
   "cell_type": "code",
   "execution_count": 7,
   "id": "8a280155",
   "metadata": {},
   "outputs": [
    {
     "data": {
      "text/plain": [
       "75"
      ]
     },
     "execution_count": 7,
     "metadata": {},
     "output_type": "execute_result"
    }
   ],
   "source": [
    "#Q5\n",
    "slowest = 100\n",
    "for idx in range(project.count()):\n",
    "    if project.get_mph(idx) < slowest:\n",
    "        slowest = project.get_mph(idx)\n",
    "\n",
    "slowest"
   ]
  },
  {
   "cell_type": "code",
   "execution_count": 8,
   "id": "c1a2318a",
   "metadata": {},
   "outputs": [
    {
     "data": {
      "text/plain": [
       "115"
      ]
     },
     "execution_count": 8,
     "metadata": {},
     "output_type": "execute_result"
    }
   ],
   "source": [
    "#Q6\n",
    "slowest = 100\n",
    "for idx in range(project.count()):\n",
    "    if project.get_mph(idx) < slowest:\n",
    "        slowest = project.get_mph(idx)\n",
    "\n",
    "fastest = 0\n",
    "for idx in range(project.count()):\n",
    "    if project.get_mph(idx) > fastest:\n",
    "        fastest = project.get_mph(idx)\n",
    "\n",
    "fastest - slowest"
   ]
  },
  {
   "cell_type": "code",
   "execution_count": 9,
   "id": "94d34fcd",
   "metadata": {},
   "outputs": [],
   "source": [
    "def format_damage(damage):\n",
    "    if damage[-1] == \"K\":\n",
    "        damage_number = float(damage[:-1])*1000\n",
    "    if damage[-1] == \"M\":\n",
    "        damage_number = float(damage[:-1])*1000000\n",
    "    if damage[-1] == \"B\":\n",
    "        damage_number = float(damage[:-1])*1000000000\n",
    "    return damage_number"
   ]
  },
  {
   "cell_type": "code",
   "execution_count": 10,
   "id": "f81ab67c",
   "metadata": {},
   "outputs": [
    {
     "data": {
      "text/plain": [
       "68700000000.0"
      ]
     },
     "execution_count": 10,
     "metadata": {},
     "output_type": "execute_result"
    }
   ],
   "source": [
    "#Q7\n",
    "\n",
    "for idx in range(project.count()):\n",
    "    if project.get_name(idx) == \"Sandy\":\n",
    "        Sandy_index = idx\n",
    "\n",
    "project.get_damage(Sandy_index)\n",
    "format_damage(project.get_damage(Sandy_index))"
   ]
  },
  {
   "cell_type": "code",
   "execution_count": 11,
   "id": "4989eb85",
   "metadata": {},
   "outputs": [
    {
     "data": {
      "text/plain": [
       "80000000.0"
      ]
     },
     "execution_count": 11,
     "metadata": {},
     "output_type": "execute_result"
    }
   ],
   "source": [
    "format_damage(project.get_damage(-1))"
   ]
  },
  {
   "cell_type": "code",
   "execution_count": 12,
   "id": "4969af98",
   "metadata": {},
   "outputs": [
    {
     "name": "stdout",
     "output_type": "stream",
     "text": [
      "Baker 2550000.0\n",
      "Camille 1420000000.0\n",
      "Frederic 1770000000.0\n",
      "Opal 4700000000.0\n",
      "Ivan 26100000000.0\n",
      "Katrina 125000000000.0\n"
     ]
    },
    {
     "data": {
      "text/plain": [
       "'Katrina'"
      ]
     },
     "execution_count": 12,
     "metadata": {},
     "output_type": "execute_result"
    }
   ],
   "source": [
    "#Q8\n",
    "most_damage = 0\n",
    "\n",
    "for idx in range(0, project.count()):\n",
    "    if format_damage(project.get_damage(idx)) > most_damage:\n",
    "        most_damage_idx = idx\n",
    "        most_damage  = format_damage(project.get_damage(idx))  \n",
    "        name_most_damage = project.get_name(idx)\n",
    "        print (name_most_damage, format_damage(project.get_damage(idx)))\n",
    "        \n",
    "name_most_damage"
   ]
  },
  {
   "cell_type": "code",
   "execution_count": 13,
   "id": "724637a9",
   "metadata": {},
   "outputs": [
    {
     "data": {
      "text/plain": [
       "175"
      ]
     },
     "execution_count": 13,
     "metadata": {},
     "output_type": "execute_result"
    }
   ],
   "source": [
    "#Q9 \n",
    "project.get_mph(most_damage_idx)"
   ]
  },
  {
   "cell_type": "code",
   "execution_count": 14,
   "id": "e1467d7e",
   "metadata": {},
   "outputs": [
    {
     "data": {
      "text/plain": [
       "2704200000.0"
      ]
     },
     "execution_count": 14,
     "metadata": {},
     "output_type": "execute_result"
    }
   ],
   "source": [
    "#Q10\n",
    "total_damage = 0\n",
    "\n",
    "for idx in range(0, project.count()):\n",
    "    if project.get_name(idx).startswith(\"E\"):\n",
    "        total_damage += format_damage(project.get_damage(idx)) \n",
    "        \n",
    "total_damage\n"
   ]
  },
  {
   "cell_type": "code",
   "execution_count": 15,
   "id": "68ea99d0",
   "metadata": {},
   "outputs": [],
   "source": [
    "def get_month(date):\n",
    "    \"\"\"Returns the month when the date is the in the 'mm/dd/yyyy' format\"\"\"\n",
    "    return int(date[:2])\n",
    "\n",
    "\n",
    "def get_day(date):\n",
    "    \"\"\"Returns the day when the date is the in the 'mm/dd/yyyy' format\"\"\"\n",
    "    return int(date[3:5])\n",
    "    #pass  # TODO: Use string slicing to return the day\n",
    "\n",
    "\n",
    "def get_year(date):\n",
    "    \"\"\"Returns the year when the date is the in the 'mm/dd/yyyy' format\"\"\"\n",
    "    return int(date[-4:])"
   ]
  },
  {
   "cell_type": "code",
   "execution_count": 16,
   "id": "b6d45a60",
   "metadata": {},
   "outputs": [],
   "source": [
    "def deadliest_in_range(year1, year2):\n",
    "    \"\"\"Gets the index of the deadliest hurricane formed or dissipated within the given year range\"\"\"\n",
    "    worst_idx = None\n",
    "    worst_deaths = 0\n",
    "    for i in range(project.count()):\n",
    "        if year1 <= get_year(project.get_formed(i)) <= year2 or year1 <= get_year(project.get_dissipated(i)) <= year2:  # TODO: Check if year is in range\n",
    "            if worst_idx is None or project.get_deaths(i) >= worst_deaths:  # TODO: Is it worse than the previous deadliest hurricane?\n",
    "                worst_deaths = project.get_deaths(i)\n",
    "                worst_idx = i\n",
    "    return worst_idx"
   ]
  },
  {
   "cell_type": "code",
   "execution_count": 17,
   "id": "90864801",
   "metadata": {},
   "outputs": [
    {
     "data": {
      "text/plain": [
       "'David'"
      ]
     },
     "execution_count": 17,
     "metadata": {},
     "output_type": "execute_result"
    }
   ],
   "source": [
    "#Q11\n",
    "project.get_name(deadliest_in_range(1901, 2000))"
   ]
  },
  {
   "cell_type": "code",
   "execution_count": 18,
   "id": "19cc9467",
   "metadata": {},
   "outputs": [
    {
     "data": {
      "text/plain": [
       "1899"
      ]
     },
     "execution_count": 18,
     "metadata": {},
     "output_type": "execute_result"
    }
   ],
   "source": [
    "#Q12\n",
    "get_year(project.get_formed(deadliest_in_range(0,3000)))"
   ]
  },
  {
   "cell_type": "code",
   "execution_count": 19,
   "id": "e2814344",
   "metadata": {},
   "outputs": [
    {
     "data": {
      "text/plain": [
       "91610000000"
      ]
     },
     "execution_count": 19,
     "metadata": {},
     "output_type": "execute_result"
    }
   ],
   "source": [
    "#Q13\n",
    "int(format_damage(project.get_damage(deadliest_in_range(2001,2021))))"
   ]
  },
  {
   "cell_type": "code",
   "execution_count": 20,
   "id": "d8d89e87",
   "metadata": {},
   "outputs": [
    {
     "data": {
      "text/plain": [
       "140"
      ]
     },
     "execution_count": 20,
     "metadata": {},
     "output_type": "execute_result"
    }
   ],
   "source": [
    "#Q14\n",
    "fastest_speed_0_deaths = 0\n",
    "\n",
    "for i in range(project.count()):\n",
    "    if project.get_deaths(i) == 0:\n",
    "        if project.get_mph(i) > fastest_speed_0_deaths:\n",
    "            idx_fastest_speed_0_deaths = i\n",
    "            fastest_speed_0_deaths = project.get_mph(i)\n",
    "\n",
    "#project.get_name(idx_fastest_speed_0_deaths)             \n",
    "fastest_speed_0_deaths           \n",
    "    "
   ]
  },
  {
   "cell_type": "code",
   "execution_count": 21,
   "id": "ea89ded3",
   "metadata": {},
   "outputs": [],
   "source": [
    "def get_year_total(query_year):\n",
    "    \"\"\"Gets the amount of hurricanes formed in the specified year\"\"\"\n",
    "    num_of_hurricanes = 0\n",
    "    for i in range(project.count()):\n",
    "        if get_year(project.get_formed(i)) == query_year:\n",
    "            num_of_hurricanes +=1\n",
    "            \n",
    "    return num_of_hurricanes"
   ]
  },
  {
   "cell_type": "code",
   "execution_count": 22,
   "id": "0fa5a274",
   "metadata": {},
   "outputs": [
    {
     "data": {
      "text/plain": [
       "3"
      ]
     },
     "execution_count": 22,
     "metadata": {},
     "output_type": "execute_result"
    }
   ],
   "source": [
    "#Q15\n",
    "get_year_total(2002)"
   ]
  },
  {
   "cell_type": "code",
   "execution_count": 23,
   "id": "fe1b40cc",
   "metadata": {},
   "outputs": [],
   "source": [
    "def get_decade_total(start_of_decade):\n",
    "    total_hurricane_decade = 0\n",
    "    for year in range(start_of_decade, start_of_decade +10):\n",
    "        total_hurricane_year = get_year_total(year)\n",
    "        total_hurricane_decade += total_hurricane_year\n",
    "        \n",
    "    return total_hurricane_decade"
   ]
  },
  {
   "cell_type": "code",
   "execution_count": 24,
   "id": "add4b38f",
   "metadata": {},
   "outputs": [
    {
     "data": {
      "text/plain": [
       "22"
      ]
     },
     "execution_count": 24,
     "metadata": {},
     "output_type": "execute_result"
    }
   ],
   "source": [
    "#Q16\n",
    "get_decade_total(2011)"
   ]
  },
  {
   "cell_type": "code",
   "execution_count": 25,
   "id": "a20893bd",
   "metadata": {},
   "outputs": [
    {
     "data": {
      "text/plain": [
       "'1991 to 2000'"
      ]
     },
     "execution_count": 25,
     "metadata": {},
     "output_type": "execute_result"
    }
   ],
   "source": [
    "#Q17\n",
    "\n",
    "def get_worst_decade(start_of_century):\n",
    "    most_decade_total=0\n",
    "    for i in range(start_of_century, start_of_century +100):\n",
    "        if i % 10 == 1:\n",
    "            if get_decade_total(i) > most_decade_total:\n",
    "                most_decade_total = get_decade_total(i)\n",
    "                decade_with_most_decade_total_start = i\n",
    "    return str(decade_with_most_decade_total_start) + \" to \" + str(decade_with_most_decade_total_start + 9)\n",
    "\n",
    "get_worst_decade(1901)"
   ]
  },
  {
   "cell_type": "code",
   "execution_count": 26,
   "id": "c76357df",
   "metadata": {},
   "outputs": [
    {
     "data": {
      "text/plain": [
       "59"
      ]
     },
     "execution_count": 26,
     "metadata": {},
     "output_type": "execute_result"
    }
   ],
   "source": [
    "#Q18\n",
    "storms_last_at_least_2_months = 0\n",
    "for i in range(project.count()):\n",
    "    if get_month(project.get_formed(i)) != get_month(project.get_dissipated(i)):\n",
    "        storms_last_at_least_2_months +=1\n",
    "\n",
    "storms_last_at_least_2_months  \n",
    "        "
   ]
  },
  {
   "cell_type": "code",
   "execution_count": 27,
   "id": "d05dff9e",
   "metadata": {},
   "outputs": [],
   "source": [
    "import datetime\n",
    "\n",
    "def get_number_of_days(start_date, end_date):\n",
    "    \"\"\"Gets the number of days between the start_date (in 'mm/dd/yyyy' format) and end_date (in 'mm/dd/yyyy' format)\"\"\"\n",
    "    day1 = datetime.datetime.strptime(start_date, '%m/%d/%Y') # The second argument is a format string to tell the function how to process the date string\n",
    "    day2 = datetime.datetime.strptime(end_date, '%m/%d/%Y')\n",
    "    delta = day2 - day1\n",
    "    return delta.days"
   ]
  },
  {
   "cell_type": "code",
   "execution_count": 28,
   "id": "64e6f81a",
   "metadata": {},
   "outputs": [
    {
     "data": {
      "text/plain": [
       "'Dora'"
      ]
     },
     "execution_count": 28,
     "metadata": {},
     "output_type": "execute_result"
    }
   ],
   "source": [
    "#Q19\n",
    "def Dora_or_Karen():\n",
    "    for idx in range(project.count()):\n",
    "        if project.get_name(idx) == \"Dora\":\n",
    "            Dora_index = idx\n",
    "        if project.get_name(idx) == \"Karen\":\n",
    "            Karen_index = idx\n",
    "    Dora_days = get_number_of_days(project.get_formed(Dora_index), project.get_dissipated(Dora_index))\n",
    "    Karen_days = get_number_of_days(project.get_formed(Karen_index), project.get_dissipated(Karen_index))\n",
    "\n",
    "    if Dora_days > Karen_days:\n",
    "        return \"Dora\"\n",
    "    else:\n",
    "        return \"Karen\"\n",
    "    \n",
    "Dora_or_Karen()"
   ]
  },
  {
   "cell_type": "code",
   "execution_count": 29,
   "id": "85fed2b4",
   "metadata": {},
   "outputs": [
    {
     "data": {
      "text/plain": [
       "'Earl'"
      ]
     },
     "execution_count": 29,
     "metadata": {},
     "output_type": "execute_result"
    }
   ],
   "source": [
    "#Q20\n",
    "deadliest_formation_date = project.get_formed(deadliest_in_range(1981,2000))\n",
    "\n",
    "closest_before_deadliest = 100\n",
    "\n",
    "for idx in range(project.count()):\n",
    "    if 0 < get_number_of_days(project.get_dissipated(idx), deadliest_formation_date) < closest_before_deadliest:\n",
    "        idx_closest_before_deadliest = idx\n",
    "        closest_before_deadliest = get_number_of_days(project.get_dissipated(idx), deadliest_formation_date)\n",
    "\n",
    "project.get_name(idx_closest_before_deadliest)"
   ]
  },
  {
   "cell_type": "code",
   "execution_count": null,
   "id": "477b9219",
   "metadata": {},
   "outputs": [],
   "source": []
  }
 ],
 "metadata": {
  "kernelspec": {
   "display_name": "Python 3",
   "language": "python",
   "name": "python3"
  },
  "language_info": {
   "codemirror_mode": {
    "name": "ipython",
    "version": 3
   },
   "file_extension": ".py",
   "mimetype": "text/x-python",
   "name": "python",
   "nbconvert_exporter": "python",
   "pygments_lexer": "ipython3",
   "version": "3.8.8"
  }
 },
 "nbformat": 4,
 "nbformat_minor": 5
}
