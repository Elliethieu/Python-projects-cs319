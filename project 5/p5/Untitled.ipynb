{
 "cells": [
  {
   "cell_type": "code",
   "execution_count": 7,
   "id": "868b2468",
   "metadata": {},
   "outputs": [
    {
     "name": "stdout",
     "output_type": "stream",
     "text": [
      "Key: 1 Value: st\n",
      "Key: two Value: nd\n",
      "Key: 3 Value: rd\n",
      "Key: 4 Value: th\n"
     ]
    }
   ],
   "source": [
    "num_dict = {1:\"st\", \"two\":\"nd\", 3:\"rd\", 4:\"th\"}\n",
    "for key in num_dict:\n",
    "    print(\"Key: \"+ str(key) +\" Value: \" + num_dict[key] )"
   ]
  },
  {
   "cell_type": "code",
   "execution_count": 2,
   "id": "fe1afd78",
   "metadata": {},
   "outputs": [
    {
     "data": {
      "text/plain": [
       "dict"
      ]
     },
     "execution_count": 2,
     "metadata": {},
     "output_type": "execute_result"
    }
   ],
   "source": [
    "var1 = { }\n",
    "type(var1)"
   ]
  },
  {
   "cell_type": "code",
   "execution_count": 3,
   "id": "960867fc",
   "metadata": {},
   "outputs": [],
   "source": [
    "var3 = {'Bucky', 'Badger'}"
   ]
  },
  {
   "cell_type": "code",
   "execution_count": 4,
   "id": "fad924a8",
   "metadata": {},
   "outputs": [
    {
     "data": {
      "text/plain": [
       "set"
      ]
     },
     "execution_count": 4,
     "metadata": {},
     "output_type": "execute_result"
    }
   ],
   "source": [
    "type(var3)"
   ]
  },
  {
   "cell_type": "code",
   "execution_count": 5,
   "id": "cab49145",
   "metadata": {},
   "outputs": [],
   "source": [
    "var4 = [10, 20, [30, 40]]"
   ]
  },
  {
   "cell_type": "code",
   "execution_count": 6,
   "id": "f9c8a8f3",
   "metadata": {},
   "outputs": [
    {
     "data": {
      "text/plain": [
       "list"
      ]
     },
     "execution_count": 6,
     "metadata": {},
     "output_type": "execute_result"
    }
   ],
   "source": [
    "type(var4)"
   ]
  },
  {
   "cell_type": "code",
   "execution_count": 8,
   "id": "9370c30d",
   "metadata": {},
   "outputs": [],
   "source": [
    "dict2 = dict()"
   ]
  },
  {
   "cell_type": "code",
   "execution_count": 9,
   "id": "648261fe",
   "metadata": {},
   "outputs": [
    {
     "data": {
      "text/plain": [
       "{}"
      ]
     },
     "execution_count": 9,
     "metadata": {},
     "output_type": "execute_result"
    }
   ],
   "source": [
    "dict2"
   ]
  },
  {
   "cell_type": "code",
   "execution_count": 10,
   "id": "15c391e9",
   "metadata": {},
   "outputs": [],
   "source": [
    "list=[0,2,1]"
   ]
  },
  {
   "cell_type": "code",
   "execution_count": 11,
   "id": "e51247bb",
   "metadata": {},
   "outputs": [],
   "source": [
    "list.sort()"
   ]
  },
  {
   "cell_type": "code",
   "execution_count": 12,
   "id": "f6938d6b",
   "metadata": {},
   "outputs": [
    {
     "data": {
      "text/plain": [
       "[0, 1, 2]"
      ]
     },
     "execution_count": 12,
     "metadata": {},
     "output_type": "execute_result"
    }
   ],
   "source": [
    "list"
   ]
  },
  {
   "cell_type": "code",
   "execution_count": null,
   "id": "6c01e6a1",
   "metadata": {},
   "outputs": [],
   "source": []
  }
 ],
 "metadata": {
  "kernelspec": {
   "display_name": "Python 3",
   "language": "python",
   "name": "python3"
  },
  "language_info": {
   "codemirror_mode": {
    "name": "ipython",
    "version": 3
   },
   "file_extension": ".py",
   "mimetype": "text/x-python",
   "name": "python",
   "nbconvert_exporter": "python",
   "pygments_lexer": "ipython3",
   "version": "3.8.8"
  }
 },
 "nbformat": 4,
 "nbformat_minor": 5
}
