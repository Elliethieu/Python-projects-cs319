{
 "cells": [
  {
   "cell_type": "code",
   "execution_count": 1,
   "id": "74424349",
   "metadata": {
    "execution": {
     "iopub.execute_input": "2021-10-07T02:48:55.989812Z",
     "iopub.status.busy": "2021-10-07T02:48:55.987124Z",
     "iopub.status.idle": "2021-10-07T02:48:56.007904Z",
     "shell.execute_reply": "2021-10-07T02:48:56.010864Z"
    }
   },
   "outputs": [],
   "source": [
    "# project: p4\n",
    "# submitter: thieu\n",
    "# partner: None\n",
    "# hours: 4"
   ]
  },
  {
   "cell_type": "code",
   "execution_count": 2,
   "id": "0553fb23",
   "metadata": {
    "execution": {
     "iopub.execute_input": "2021-10-07T02:48:56.027816Z",
     "iopub.status.busy": "2021-10-07T02:48:56.023868Z",
     "iopub.status.idle": "2021-10-07T02:48:56.071736Z",
     "shell.execute_reply": "2021-10-07T02:48:56.069738Z"
    }
   },
   "outputs": [],
   "source": [
    "import project"
   ]
  },
  {
   "cell_type": "code",
   "execution_count": 3,
   "id": "1181c82f",
   "metadata": {
    "execution": {
     "iopub.execute_input": "2021-10-07T02:48:56.083674Z",
     "iopub.status.busy": "2021-10-07T02:48:56.081677Z",
     "iopub.status.idle": "2021-10-07T02:48:56.102479Z",
     "shell.execute_reply": "2021-10-07T02:48:56.100484Z"
    }
   },
   "outputs": [],
   "source": [
    "import math"
   ]
  },
  {
   "cell_type": "code",
   "execution_count": 4,
   "id": "c7ab2957",
   "metadata": {
    "execution": {
     "iopub.execute_input": "2021-10-07T02:48:56.120436Z",
     "iopub.status.busy": "2021-10-07T02:48:56.118442Z",
     "iopub.status.idle": "2021-10-07T02:48:56.133396Z",
     "shell.execute_reply": "2021-10-07T02:48:56.134393Z"
    }
   },
   "outputs": [],
   "source": [
    "def damage(attacker, defender):\n",
    "    physical_damage = 10 * project.get_attack(attacker) / project.get_defense(defender)\n",
    "    special_damage = 10 * project.get_sp_atk(attacker) / project.get_sp_def(defender)\n",
    "    if physical_damage >= special_damage:\n",
    "        return physical_damage\n",
    "    else:\n",
    "        return special_damage"
   ]
  },
  {
   "cell_type": "code",
   "execution_count": 5,
   "id": "4b6d1cca",
   "metadata": {
    "execution": {
     "iopub.execute_input": "2021-10-07T02:48:56.168301Z",
     "iopub.status.busy": "2021-10-07T02:48:56.161322Z",
     "iopub.status.idle": "2021-10-07T02:48:56.181266Z",
     "shell.execute_reply": "2021-10-07T02:48:56.182263Z"
    }
   },
   "outputs": [
    {
     "data": {
      "text/plain": [
       "5.769230769230769"
      ]
     },
     "execution_count": 1,
     "metadata": {},
     "output_type": "execute_result"
    }
   ],
   "source": [
    "#Q1\n",
    "damage(\"Scraggy\", \"Golem\")"
   ]
  },
  {
   "cell_type": "code",
   "execution_count": 6,
   "id": "830e9d07",
   "metadata": {
    "execution": {
     "iopub.execute_input": "2021-10-07T02:48:56.193291Z",
     "iopub.status.busy": "2021-10-07T02:48:56.191405Z",
     "iopub.status.idle": "2021-10-07T02:48:56.210048Z",
     "shell.execute_reply": "2021-10-07T02:48:56.211047Z"
    }
   },
   "outputs": [
    {
     "data": {
      "text/plain": [
       "17.272727272727273"
      ]
     },
     "execution_count": 1,
     "metadata": {},
     "output_type": "execute_result"
    }
   ],
   "source": [
    "#Q2\n",
    "damage(\"Magnemite\", \"Nidorina\")"
   ]
  },
  {
   "cell_type": "code",
   "execution_count": 7,
   "id": "a17709b5",
   "metadata": {
    "execution": {
     "iopub.execute_input": "2021-10-07T02:48:56.220022Z",
     "iopub.status.busy": "2021-10-07T02:48:56.218050Z",
     "iopub.status.idle": "2021-10-07T02:48:56.244351Z",
     "shell.execute_reply": "2021-10-07T02:48:56.246346Z"
    }
   },
   "outputs": [
    {
     "data": {
      "text/plain": [
       "0.5"
      ]
     },
     "execution_count": 1,
     "metadata": {},
     "output_type": "execute_result"
    }
   ],
   "source": [
    "project.get_type_effectiveness(\"Fire\", \"Water\")"
   ]
  },
  {
   "cell_type": "code",
   "execution_count": 8,
   "id": "6d16f9c6",
   "metadata": {
    "execution": {
     "iopub.execute_input": "2021-10-07T02:48:56.263301Z",
     "iopub.status.busy": "2021-10-07T02:48:56.260667Z",
     "iopub.status.idle": "2021-10-07T02:48:56.278266Z",
     "shell.execute_reply": "2021-10-07T02:48:56.275274Z"
    }
   },
   "outputs": [
    {
     "data": {
      "text/plain": [
       "2.0"
      ]
     },
     "execution_count": 1,
     "metadata": {},
     "output_type": "execute_result"
    }
   ],
   "source": [
    "project.get_type_effectiveness(\"Fire\", \"Grass\")"
   ]
  },
  {
   "cell_type": "code",
   "execution_count": 9,
   "id": "bbfe5dab",
   "metadata": {
    "execution": {
     "iopub.execute_input": "2021-10-07T02:48:56.293220Z",
     "iopub.status.busy": "2021-10-07T02:48:56.290228Z",
     "iopub.status.idle": "2021-10-07T02:48:56.308180Z",
     "shell.execute_reply": "2021-10-07T02:48:56.306186Z"
    }
   },
   "outputs": [
    {
     "data": {
      "text/plain": [
       "1.0"
      ]
     },
     "execution_count": 1,
     "metadata": {},
     "output_type": "execute_result"
    }
   ],
   "source": [
    "project.get_type_effectiveness(\"Fire\", \"Poison\")"
   ]
  },
  {
   "cell_type": "code",
   "execution_count": 10,
   "id": "7e63c9b0",
   "metadata": {
    "execution": {
     "iopub.execute_input": "2021-10-07T02:48:56.324137Z",
     "iopub.status.busy": "2021-10-07T02:48:56.322142Z",
     "iopub.status.idle": "2021-10-07T02:48:56.339097Z",
     "shell.execute_reply": "2021-10-07T02:48:56.340095Z"
    }
   },
   "outputs": [],
   "source": [
    "def type_bonus(attack_type, defender):\n",
    "    defender_type1 = project.get_type1(defender)\n",
    "    defender_type2 = project.get_type2(defender)\n",
    "    bonus = project.get_type_effectiveness(attack_type, defender_type1)\n",
    "    if defender_type2 != \"None\":\n",
    "        bonus = project.get_type_effectiveness(attack_type, defender_type1) * project.get_type_effectiveness(attack_type, defender_type2)\n",
    "    return bonus"
   ]
  },
  {
   "cell_type": "code",
   "execution_count": 11,
   "id": "97ef4f82",
   "metadata": {
    "execution": {
     "iopub.execute_input": "2021-10-07T02:48:56.353064Z",
     "iopub.status.busy": "2021-10-07T02:48:56.351071Z",
     "iopub.status.idle": "2021-10-07T02:48:56.370050Z",
     "shell.execute_reply": "2021-10-07T02:48:56.371047Z"
    }
   },
   "outputs": [
    {
     "data": {
      "text/plain": [
       "2.0"
      ]
     },
     "execution_count": 1,
     "metadata": {},
     "output_type": "execute_result"
    }
   ],
   "source": [
    "#Q3\n",
    "type_bonus(\"Electric\", \"Magikarp\")"
   ]
  },
  {
   "cell_type": "code",
   "execution_count": 12,
   "id": "a18a6f7d",
   "metadata": {
    "execution": {
     "iopub.execute_input": "2021-10-07T02:48:56.386974Z",
     "iopub.status.busy": "2021-10-07T02:48:56.383985Z",
     "iopub.status.idle": "2021-10-07T02:48:56.400964Z",
     "shell.execute_reply": "2021-10-07T02:48:56.402962Z"
    }
   },
   "outputs": [
    {
     "data": {
      "text/plain": [
       "0.25"
      ]
     },
     "execution_count": 1,
     "metadata": {},
     "output_type": "execute_result"
    }
   ],
   "source": [
    "#Q4\n",
    "type_bonus(\"Bug\", \"Gastly\")"
   ]
  },
  {
   "cell_type": "code",
   "execution_count": 13,
   "id": "1e80c055",
   "metadata": {
    "execution": {
     "iopub.execute_input": "2021-10-07T02:48:56.418884Z",
     "iopub.status.busy": "2021-10-07T02:48:56.416889Z",
     "iopub.status.idle": "2021-10-07T02:48:56.432143Z",
     "shell.execute_reply": "2021-10-07T02:48:56.434138Z"
    }
   },
   "outputs": [],
   "source": [
    "bonus= type_bonus(project.get_type1(\"Magikarp\"), \"Charizard\")"
   ]
  },
  {
   "cell_type": "code",
   "execution_count": 14,
   "id": "0cf3a0de",
   "metadata": {
    "execution": {
     "iopub.execute_input": "2021-10-07T02:48:56.450096Z",
     "iopub.status.busy": "2021-10-07T02:48:56.447619Z",
     "iopub.status.idle": "2021-10-07T02:48:56.465090Z",
     "shell.execute_reply": "2021-10-07T02:48:56.463095Z"
    }
   },
   "outputs": [
    {
     "data": {
      "text/plain": [
       "2.0"
      ]
     },
     "execution_count": 1,
     "metadata": {},
     "output_type": "execute_result"
    }
   ],
   "source": [
    "bonus"
   ]
  },
  {
   "cell_type": "code",
   "execution_count": 15,
   "id": "e8538e5b",
   "metadata": {
    "execution": {
     "iopub.execute_input": "2021-10-07T02:48:56.480019Z",
     "iopub.status.busy": "2021-10-07T02:48:56.477733Z",
     "iopub.status.idle": "2021-10-07T02:48:56.494975Z",
     "shell.execute_reply": "2021-10-07T02:48:56.497967Z"
    }
   },
   "outputs": [
    {
     "data": {
      "text/plain": [
       "3.5294117647058822"
      ]
     },
     "execution_count": 1,
     "metadata": {},
     "output_type": "execute_result"
    }
   ],
   "source": [
    "damage(\"Magikarp\",\"Charizard\") * bonus"
   ]
  },
  {
   "cell_type": "code",
   "execution_count": 16,
   "id": "40c145cd",
   "metadata": {
    "execution": {
     "iopub.execute_input": "2021-10-07T02:48:56.518911Z",
     "iopub.status.busy": "2021-10-07T02:48:56.516116Z",
     "iopub.status.idle": "2021-10-07T02:48:56.544232Z",
     "shell.execute_reply": "2021-10-07T02:48:56.545839Z"
    }
   },
   "outputs": [
    {
     "data": {
      "text/plain": [
       "0.25"
      ]
     },
     "execution_count": 1,
     "metadata": {},
     "output_type": "execute_result"
    }
   ],
   "source": [
    "type_bonus(project.get_type1(\"Weedle\"), \"Charizard\")"
   ]
  },
  {
   "cell_type": "code",
   "execution_count": 17,
   "id": "a095edb0",
   "metadata": {
    "execution": {
     "iopub.execute_input": "2021-10-07T02:48:56.562794Z",
     "iopub.status.busy": "2021-10-07T02:48:56.560310Z",
     "iopub.status.idle": "2021-10-07T02:48:56.572805Z",
     "shell.execute_reply": "2021-10-07T02:48:56.573807Z"
    }
   },
   "outputs": [
    {
     "data": {
      "text/plain": [
       "1.0"
      ]
     },
     "execution_count": 1,
     "metadata": {},
     "output_type": "execute_result"
    }
   ],
   "source": [
    "type_bonus(project.get_type2(\"Weedle\"), \"Charizard\")"
   ]
  },
  {
   "cell_type": "code",
   "execution_count": 18,
   "id": "dacee145",
   "metadata": {
    "execution": {
     "iopub.execute_input": "2021-10-07T02:48:56.590760Z",
     "iopub.status.busy": "2021-10-07T02:48:56.588728Z",
     "iopub.status.idle": "2021-10-07T02:48:56.605679Z",
     "shell.execute_reply": "2021-10-07T02:48:56.603685Z"
    }
   },
   "outputs": [],
   "source": [
    "def get_num_types(pkmn):\n",
    "    if project.get_type1(pkmn) == 'None':\n",
    "        return 0\n",
    "    elif project.get_type2(pkmn) == 'None':\n",
    "        return 1\n",
    "    else:\n",
    "        return 2"
   ]
  },
  {
   "cell_type": "code",
   "execution_count": 19,
   "id": "649d49cd",
   "metadata": {
    "execution": {
     "iopub.execute_input": "2021-10-07T02:48:56.629704Z",
     "iopub.status.busy": "2021-10-07T02:48:56.625625Z",
     "iopub.status.idle": "2021-10-07T02:48:56.636597Z",
     "shell.execute_reply": "2021-10-07T02:48:56.634602Z"
    }
   },
   "outputs": [],
   "source": [
    "def effective_damage(attacker, defender):\n",
    "    attacker_num_types = get_num_types(attacker)\n",
    "    #print(\"number of attacks is\", attacker_num_types)\n",
    "    \n",
    "    if attacker_num_types == 1:\n",
    "        bonus = type_bonus(project.get_type1(attacker), defender)\n",
    "        attack_type = project.get_type1(attacker)\n",
    "    else: \n",
    "        bonus1 = type_bonus(project.get_type1(attacker), defender)\n",
    "        bonus2 = type_bonus(project.get_type2(attacker), defender)\n",
    "        if bonus1 >= bonus2:\n",
    "            bonus = bonus1\n",
    "            attack_type = project.get_type1(attacker)\n",
    "        else:\n",
    "            bonus = bonus2\n",
    "            attack_type = project.get_type1(attacker)\n",
    "\n",
    "    #print(\"bonus is\", bonus)\n",
    "    #print(\"damage is\", damage(attacker, defender))\n",
    "    damage_done = damage(attacker, defender) * bonus\n",
    "    #return bonus\n",
    "    return(damage_done)"
   ]
  },
  {
   "cell_type": "code",
   "execution_count": 20,
   "id": "fdffac87",
   "metadata": {
    "execution": {
     "iopub.execute_input": "2021-10-07T02:48:56.652555Z",
     "iopub.status.busy": "2021-10-07T02:48:56.648790Z",
     "iopub.status.idle": "2021-10-07T02:48:56.668511Z",
     "shell.execute_reply": "2021-10-07T02:48:56.666517Z"
    }
   },
   "outputs": [
    {
     "data": {
      "text/plain": [
       "41.06666666666667"
      ]
     },
     "execution_count": 1,
     "metadata": {},
     "output_type": "execute_result"
    }
   ],
   "source": [
    "#Q5\n",
    "effective_damage(\"Mewtwo\", \"Gengar\")"
   ]
  },
  {
   "cell_type": "code",
   "execution_count": 21,
   "id": "72274e17",
   "metadata": {
    "execution": {
     "iopub.execute_input": "2021-10-07T02:48:56.684469Z",
     "iopub.status.busy": "2021-10-07T02:48:56.681476Z",
     "iopub.status.idle": "2021-10-07T02:48:56.699464Z",
     "shell.execute_reply": "2021-10-07T02:48:56.697468Z"
    }
   },
   "outputs": [
    {
     "data": {
      "text/plain": [
       "22.5"
      ]
     },
     "execution_count": 1,
     "metadata": {},
     "output_type": "execute_result"
    }
   ],
   "source": [
    "#Q6\n",
    "effective_damage(\"Wooper\", \"Pikachu\")"
   ]
  },
  {
   "cell_type": "code",
   "execution_count": 22,
   "id": "51319ae1",
   "metadata": {
    "execution": {
     "iopub.execute_input": "2021-10-07T02:48:56.717424Z",
     "iopub.status.busy": "2021-10-07T02:48:56.714389Z",
     "iopub.status.idle": "2021-10-07T02:48:56.729383Z",
     "shell.execute_reply": "2021-10-07T02:48:56.730380Z"
    }
   },
   "outputs": [
    {
     "data": {
      "text/plain": [
       "12.307692307692308"
      ]
     },
     "execution_count": 1,
     "metadata": {},
     "output_type": "execute_result"
    }
   ],
   "source": [
    "#Q7\n",
    "effective_damage(\"Slowpoke\", \"Steelix\")"
   ]
  },
  {
   "cell_type": "code",
   "execution_count": 23,
   "id": "ffa5bdbe",
   "metadata": {
    "execution": {
     "iopub.execute_input": "2021-10-07T02:48:56.746337Z",
     "iopub.status.busy": "2021-10-07T02:48:56.744310Z",
     "iopub.status.idle": "2021-10-07T02:48:56.761296Z",
     "shell.execute_reply": "2021-10-07T02:48:56.759691Z"
    }
   },
   "outputs": [],
   "source": [
    "def num_hits(attacker, defender):\n",
    "    return math.ceil(project.get_hp(defender)/effective_damage(attacker, defender))"
   ]
  },
  {
   "cell_type": "code",
   "execution_count": 24,
   "id": "b57e7775",
   "metadata": {
    "execution": {
     "iopub.execute_input": "2021-10-07T02:48:56.777220Z",
     "iopub.status.busy": "2021-10-07T02:48:56.774228Z",
     "iopub.status.idle": "2021-10-07T02:48:56.790354Z",
     "shell.execute_reply": "2021-10-07T02:48:56.792349Z"
    }
   },
   "outputs": [
    {
     "data": {
      "text/plain": [
       "8"
      ]
     },
     "execution_count": 1,
     "metadata": {},
     "output_type": "execute_result"
    }
   ],
   "source": [
    "#Q8\n",
    "num_hits(\"Metapod\", \"Slowpoke\")"
   ]
  },
  {
   "cell_type": "code",
   "execution_count": 25,
   "id": "4917819d",
   "metadata": {
    "execution": {
     "iopub.execute_input": "2021-10-07T02:48:56.809342Z",
     "iopub.status.busy": "2021-10-07T02:48:56.805705Z",
     "iopub.status.idle": "2021-10-07T02:48:56.822303Z",
     "shell.execute_reply": "2021-10-07T02:48:56.820277Z"
    }
   },
   "outputs": [
    {
     "data": {
      "text/plain": [
       "9"
      ]
     },
     "execution_count": 1,
     "metadata": {},
     "output_type": "execute_result"
    }
   ],
   "source": [
    "#Q9\n",
    "num_hits(\"Pikachu\", \"Snivy\")"
   ]
  },
  {
   "cell_type": "code",
   "execution_count": 26,
   "id": "f5dbc89f",
   "metadata": {
    "execution": {
     "iopub.execute_input": "2021-10-07T02:48:56.846493Z",
     "iopub.status.busy": "2021-10-07T02:48:56.844212Z",
     "iopub.status.idle": "2021-10-07T02:48:56.853220Z",
     "shell.execute_reply": "2021-10-07T02:48:56.855217Z"
    }
   },
   "outputs": [],
   "source": [
    "def battle(pkmn1, pkmn2):\n",
    "    num_hits_pkmn1_attack = num_hits(pkmn1, pkmn2)\n",
    "    num_hits_pkmn2_attack = num_hits(pkmn2, pkmn1)\n",
    "    if  num_hits_pkmn1_attack - num_hits_pkmn2_attack > 10 :\n",
    "        return pkmn1 + \" ran away\"\n",
    "    elif num_hits_pkmn2_attack - num_hits_pkmn1_attack > 10 :\n",
    "        return pkmn2 + \" ran away\"\n",
    "    else:      \n",
    "        if num_hits_pkmn1_attack > num_hits_pkmn2_attack :\n",
    "            return pkmn2\n",
    "        elif num_hits_pkmn1_attack < num_hits_pkmn2_attack :\n",
    "            return pkmn1\n",
    "        else :\n",
    "            if project.get_speed(pkmn1) > project.get_speed(pkmn2):\n",
    "                return pkmn1\n",
    "            elif project.get_speed(pkmn1) < project.get_speed(pkmn2):\n",
    "                return pkmn2\n",
    "            else: \n",
    "                return \"Draw\"\n",
    "    #TODO: Return the name of the pkmn that can take more hits from the other\n",
    "    # pkmn. If both pkmn faint within the same number of moves, return the\n",
    "    # string 'Draw'"
   ]
  },
  {
   "cell_type": "code",
   "execution_count": 27,
   "id": "24298357",
   "metadata": {
    "execution": {
     "iopub.execute_input": "2021-10-07T02:48:56.871391Z",
     "iopub.status.busy": "2021-10-07T02:48:56.868181Z",
     "iopub.status.idle": "2021-10-07T02:48:56.886258Z",
     "shell.execute_reply": "2021-10-07T02:48:56.885260Z"
    }
   },
   "outputs": [
    {
     "data": {
      "text/plain": [
       "'Sceptile'"
      ]
     },
     "execution_count": 1,
     "metadata": {},
     "output_type": "execute_result"
    }
   ],
   "source": [
    "#Q10\n",
    "battle('Krabby', 'Sceptile')"
   ]
  },
  {
   "cell_type": "code",
   "execution_count": 28,
   "id": "72bbba58",
   "metadata": {
    "execution": {
     "iopub.execute_input": "2021-10-07T02:48:56.903219Z",
     "iopub.status.busy": "2021-10-07T02:48:56.900222Z",
     "iopub.status.idle": "2021-10-07T02:48:56.919348Z",
     "shell.execute_reply": "2021-10-07T02:48:56.917354Z"
    }
   },
   "outputs": [
    {
     "data": {
      "text/plain": [
       "'Heracross'"
      ]
     },
     "execution_count": 1,
     "metadata": {},
     "output_type": "execute_result"
    }
   ],
   "source": [
    "#Q11\n",
    "battle('Heracross', 'Blastoise')"
   ]
  },
  {
   "cell_type": "code",
   "execution_count": 29,
   "id": "490e5344",
   "metadata": {
    "execution": {
     "iopub.execute_input": "2021-10-07T02:48:56.937302Z",
     "iopub.status.busy": "2021-10-07T02:48:56.934802Z",
     "iopub.status.idle": "2021-10-07T02:48:56.949303Z",
     "shell.execute_reply": "2021-10-07T02:48:56.951298Z"
    }
   },
   "outputs": [
    {
     "data": {
      "text/plain": [
       "'Weedle'"
      ]
     },
     "execution_count": 1,
     "metadata": {},
     "output_type": "execute_result"
    }
   ],
   "source": [
    "battle('Weedle', 'Metapod')"
   ]
  },
  {
   "cell_type": "code",
   "execution_count": 30,
   "id": "ee2c6f2d",
   "metadata": {
    "execution": {
     "iopub.execute_input": "2021-10-07T02:48:56.967036Z",
     "iopub.status.busy": "2021-10-07T02:48:56.964229Z",
     "iopub.status.idle": "2021-10-07T02:48:56.981218Z",
     "shell.execute_reply": "2021-10-07T02:48:56.982215Z"
    }
   },
   "outputs": [
    {
     "data": {
      "text/plain": [
       "'Starly'"
      ]
     },
     "execution_count": 1,
     "metadata": {},
     "output_type": "execute_result"
    }
   ],
   "source": [
    "#Q12\n",
    "battle('Starly', 'Pidgey')"
   ]
  },
  {
   "cell_type": "code",
   "execution_count": 31,
   "id": "88a73ba1",
   "metadata": {
    "execution": {
     "iopub.execute_input": "2021-10-07T02:48:56.999138Z",
     "iopub.status.busy": "2021-10-07T02:48:56.996145Z",
     "iopub.status.idle": "2021-10-07T02:48:57.015092Z",
     "shell.execute_reply": "2021-10-07T02:48:57.013098Z"
    }
   },
   "outputs": [
    {
     "data": {
      "text/plain": [
       "'Spearow'"
      ]
     },
     "execution_count": 1,
     "metadata": {},
     "output_type": "execute_result"
    }
   ],
   "source": [
    "#Q13\n",
    "battle('Bulbasaur', 'Spearow')"
   ]
  },
  {
   "cell_type": "code",
   "execution_count": 32,
   "id": "678675dc",
   "metadata": {
    "execution": {
     "iopub.execute_input": "2021-10-07T02:48:57.031048Z",
     "iopub.status.busy": "2021-10-07T02:48:57.029059Z",
     "iopub.status.idle": "2021-10-07T02:48:57.043147Z",
     "shell.execute_reply": "2021-10-07T02:48:57.041062Z"
    }
   },
   "outputs": [
    {
     "data": {
      "text/plain": [
       "'Bellsprout ran away'"
      ]
     },
     "execution_count": 1,
     "metadata": {},
     "output_type": "execute_result"
    }
   ],
   "source": [
    "#Q14\n",
    "battle('Heatran', 'Bellsprout')"
   ]
  },
  {
   "cell_type": "code",
   "execution_count": 33,
   "id": "94459a58",
   "metadata": {
    "execution": {
     "iopub.execute_input": "2021-10-07T02:48:57.057980Z",
     "iopub.status.busy": "2021-10-07T02:48:57.055485Z",
     "iopub.status.idle": "2021-10-07T02:48:57.071974Z",
     "shell.execute_reply": "2021-10-07T02:48:57.073970Z"
    }
   },
   "outputs": [
    {
     "data": {
      "text/plain": [
       "'Meditite ran away'"
      ]
     },
     "execution_count": 1,
     "metadata": {},
     "output_type": "execute_result"
    }
   ],
   "source": [
    "#Q15\n",
    "battle('Meditite', 'Gyarados')"
   ]
  },
  {
   "cell_type": "code",
   "execution_count": 34,
   "id": "0fad7183",
   "metadata": {
    "execution": {
     "iopub.execute_input": "2021-10-07T02:48:57.088938Z",
     "iopub.status.busy": "2021-10-07T02:48:57.086229Z",
     "iopub.status.idle": "2021-10-07T02:48:57.105850Z",
     "shell.execute_reply": "2021-10-07T02:48:57.104852Z"
    }
   },
   "outputs": [
    {
     "data": {
      "text/plain": [
       "'Draw'"
      ]
     },
     "execution_count": 1,
     "metadata": {},
     "output_type": "execute_result"
    }
   ],
   "source": [
    "#Q16\n",
    "battle('Mudkip', 'Gulpin')"
   ]
  },
  {
   "cell_type": "code",
   "execution_count": 35,
   "id": "c379370e",
   "metadata": {
    "execution": {
     "iopub.execute_input": "2021-10-07T02:48:57.136806Z",
     "iopub.status.busy": "2021-10-07T02:48:57.131786Z",
     "iopub.status.idle": "2021-10-07T02:48:57.153422Z",
     "shell.execute_reply": "2021-10-07T02:48:57.151429Z"
    }
   },
   "outputs": [],
   "source": [
    "def two_on_two_battle(pkmn1, pkmn2, pkmn3, pkmn4):\n",
    "    if battle(pkmn1, pkmn3) == \"Draw\" or battle(pkmn2, pkmn4) ==  \"Draw\" or battle(pkmn1, pkmn3) == pkmn1 + \" ran away\" or battle(pkmn1, pkmn3) == pkmn3 + \" ran away\" or battle(pkmn2, pkmn4) == pkmn2 + \" ran away\" or battle(pkmn2, pkmn4) == pkmn4 + \" ran away\": \n",
    "        return \"No result\"\n",
    "    elif battle(pkmn1, pkmn3) == pkmn1 and battle(pkmn2, pkmn4) == pkmn2:\n",
    "        return \"Team A wins\"\n",
    "    elif battle(pkmn1, pkmn3) == pkmn3 and battle(pkmn2, pkmn4) == pkmn4:\n",
    "        return \"Team B wins\"\n",
    "    else:\n",
    "        champion_round1_battle_1 = battle(pkmn1, pkmn3)\n",
    "        champion_round1_battle_2 = battle(pkmn2, pkmn4)\n",
    "        final_winner = battle(champion_round1_battle_1, champion_round1_battle_2)\n",
    "        if final_winner == pkmn1 or final_winner == pkmn2:\n",
    "            return \"Team A wins\"\n",
    "        elif final_winner == pkmn3 or final_winner == pkmn4:\n",
    "            return \"Team B wins\"\n",
    "        else: \n",
    "            return \"No result\"\n",
    "    # TODO: implement the first round\n",
    "    # TODO: implement the second round\n",
    "    "
   ]
  },
  {
   "cell_type": "code",
   "execution_count": 36,
   "id": "b4337ecc",
   "metadata": {
    "execution": {
     "iopub.execute_input": "2021-10-07T02:48:57.169379Z",
     "iopub.status.busy": "2021-10-07T02:48:57.167356Z",
     "iopub.status.idle": "2021-10-07T02:48:57.183623Z",
     "shell.execute_reply": "2021-10-07T02:48:57.184621Z"
    }
   },
   "outputs": [
    {
     "data": {
      "text/plain": [
       "'No result'"
      ]
     },
     "execution_count": 1,
     "metadata": {},
     "output_type": "execute_result"
    }
   ],
   "source": [
    "two_on_two_battle(\"Meditite\", \"Mudkip\", \"Gyarados\", \"Gulpin\")"
   ]
  },
  {
   "cell_type": "code",
   "execution_count": 37,
   "id": "c29355cd",
   "metadata": {
    "execution": {
     "iopub.execute_input": "2021-10-07T02:48:57.202573Z",
     "iopub.status.busy": "2021-10-07T02:48:57.199816Z",
     "iopub.status.idle": "2021-10-07T02:48:57.217546Z",
     "shell.execute_reply": "2021-10-07T02:48:57.214511Z"
    }
   },
   "outputs": [
    {
     "data": {
      "text/plain": [
       "'Team B wins'"
      ]
     },
     "execution_count": 1,
     "metadata": {},
     "output_type": "execute_result"
    }
   ],
   "source": [
    "two_on_two_battle('Bulbasaur', 'Pidgey', 'Spearow', 'Starly')"
   ]
  },
  {
   "cell_type": "code",
   "execution_count": 38,
   "id": "c3850ed5",
   "metadata": {
    "execution": {
     "iopub.execute_input": "2021-10-07T02:48:57.235488Z",
     "iopub.status.busy": "2021-10-07T02:48:57.231967Z",
     "iopub.status.idle": "2021-10-07T02:48:57.246420Z",
     "shell.execute_reply": "2021-10-07T02:48:57.248415Z"
    }
   },
   "outputs": [
    {
     "data": {
      "text/plain": [
       "'Team B wins'"
      ]
     },
     "execution_count": 1,
     "metadata": {},
     "output_type": "execute_result"
    }
   ],
   "source": [
    "#Q17\n",
    "two_on_two_battle('Squirtle', 'Mudkip', 'Infernape', 'Charizard')"
   ]
  },
  {
   "cell_type": "code",
   "execution_count": 39,
   "id": "4c4a2f69",
   "metadata": {
    "execution": {
     "iopub.execute_input": "2021-10-07T02:48:57.264381Z",
     "iopub.status.busy": "2021-10-07T02:48:57.261810Z",
     "iopub.status.idle": "2021-10-07T02:48:57.277339Z",
     "shell.execute_reply": "2021-10-07T02:48:57.279367Z"
    }
   },
   "outputs": [
    {
     "data": {
      "text/plain": [
       "'Team A wins'"
      ]
     },
     "execution_count": 1,
     "metadata": {},
     "output_type": "execute_result"
    }
   ],
   "source": [
    "#Q18\n",
    "two_on_two_battle(\"Umbreon\", \"Flareon\", \"Jolteon\", \"Glaceon\")"
   ]
  },
  {
   "cell_type": "code",
   "execution_count": 40,
   "id": "762cdee1",
   "metadata": {
    "execution": {
     "iopub.execute_input": "2021-10-07T02:48:57.297320Z",
     "iopub.status.busy": "2021-10-07T02:48:57.294335Z",
     "iopub.status.idle": "2021-10-07T02:48:57.308294Z",
     "shell.execute_reply": "2021-10-07T02:48:57.307297Z"
    }
   },
   "outputs": [
    {
     "data": {
      "text/plain": [
       "'Team A wins'"
      ]
     },
     "execution_count": 1,
     "metadata": {},
     "output_type": "execute_result"
    }
   ],
   "source": [
    "#Q19\n",
    "two_on_two_battle(\"Electivire\", \"Arcanine\", \"Greninja\", \"Charizard\")"
   ]
  },
  {
   "cell_type": "code",
   "execution_count": 41,
   "id": "b7f8dd77",
   "metadata": {
    "execution": {
     "iopub.execute_input": "2021-10-07T02:48:57.327214Z",
     "iopub.status.busy": "2021-10-07T02:48:57.323604Z",
     "iopub.status.idle": "2021-10-07T02:48:57.340176Z",
     "shell.execute_reply": "2021-10-07T02:48:57.338182Z"
    }
   },
   "outputs": [
    {
     "data": {
      "text/plain": [
       "'Team B wins'"
      ]
     },
     "execution_count": 1,
     "metadata": {},
     "output_type": "execute_result"
    }
   ],
   "source": [
    "#Q20\n",
    "two_on_two_battle('Flygon', 'Sceptile', 'Garchomp', 'Torterra')"
   ]
  },
  {
   "cell_type": "code",
   "execution_count": null,
   "id": "bb6031a0",
   "metadata": {},
   "outputs": [],
   "source": []
  }
 ],
 "metadata": {
  "kernelspec": {
   "display_name": "Python 3",
   "language": "python",
   "name": "python3"
  },
  "language_info": {
   "codemirror_mode": {
    "name": "ipython",
    "version": 3
   },
   "file_extension": ".py",
   "mimetype": "text/x-python",
   "name": "python",
   "nbconvert_exporter": "python",
   "pygments_lexer": "ipython3",
   "version": "3.8.8"
  }
 },
 "nbformat": 4,
 "nbformat_minor": 5
}
