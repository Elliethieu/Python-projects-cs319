{
 "cells": [
  {
   "cell_type": "code",
   "execution_count": 1,
   "id": "74424349",
   "metadata": {},
   "outputs": [],
   "source": [
    "# project: p4\n",
    "# submitter: thieu\n",
    "# partner: None\n",
    "# hours: 4"
   ]
  },
  {
   "cell_type": "code",
   "execution_count": 2,
   "id": "0553fb23",
   "metadata": {},
   "outputs": [],
   "source": [
    "import project"
   ]
  },
  {
   "cell_type": "code",
   "execution_count": 3,
   "id": "1181c82f",
   "metadata": {},
   "outputs": [],
   "source": [
    "import math"
   ]
  },
  {
   "cell_type": "code",
   "execution_count": 4,
   "id": "c7ab2957",
   "metadata": {},
   "outputs": [],
   "source": [
    "def damage(attacker, defender):\n",
    "    physical_damage = 10 * project.get_attack(attacker) / project.get_defense(defender)\n",
    "    special_damage = 10 * project.get_sp_atk(attacker) / project.get_sp_def(defender)\n",
    "    if physical_damage >= special_damage:\n",
    "        return physical_damage\n",
    "    else:\n",
    "        return special_damage"
   ]
  },
  {
   "cell_type": "code",
   "execution_count": 5,
   "id": "4b6d1cca",
   "metadata": {},
   "outputs": [
    {
     "data": {
      "text/plain": [
       "5.769230769230769"
      ]
     },
     "execution_count": 5,
     "metadata": {},
     "output_type": "execute_result"
    }
   ],
   "source": [
    "#Q1\n",
    "damage(\"Scraggy\", \"Golem\")"
   ]
  },
  {
   "cell_type": "code",
   "execution_count": 6,
   "id": "830e9d07",
   "metadata": {},
   "outputs": [
    {
     "data": {
      "text/plain": [
       "17.272727272727273"
      ]
     },
     "execution_count": 6,
     "metadata": {},
     "output_type": "execute_result"
    }
   ],
   "source": [
    "#Q2\n",
    "damage(\"Magnemite\", \"Nidorina\")"
   ]
  },
  {
   "cell_type": "code",
   "execution_count": 7,
   "id": "a17709b5",
   "metadata": {},
   "outputs": [
    {
     "data": {
      "text/plain": [
       "0.5"
      ]
     },
     "execution_count": 7,
     "metadata": {},
     "output_type": "execute_result"
    }
   ],
   "source": [
    "project.get_type_effectiveness(\"Fire\", \"Water\")"
   ]
  },
  {
   "cell_type": "code",
   "execution_count": 8,
   "id": "6d16f9c6",
   "metadata": {},
   "outputs": [
    {
     "data": {
      "text/plain": [
       "2.0"
      ]
     },
     "execution_count": 8,
     "metadata": {},
     "output_type": "execute_result"
    }
   ],
   "source": [
    "project.get_type_effectiveness(\"Fire\", \"Grass\")"
   ]
  },
  {
   "cell_type": "code",
   "execution_count": 9,
   "id": "bbfe5dab",
   "metadata": {},
   "outputs": [
    {
     "data": {
      "text/plain": [
       "1.0"
      ]
     },
     "execution_count": 9,
     "metadata": {},
     "output_type": "execute_result"
    }
   ],
   "source": [
    "project.get_type_effectiveness(\"Fire\", \"Poison\")"
   ]
  },
  {
   "cell_type": "code",
   "execution_count": 10,
   "id": "7e63c9b0",
   "metadata": {},
   "outputs": [],
   "source": [
    "def type_bonus(attack_type, defender):\n",
    "    defender_type1 = project.get_type1(defender)\n",
    "    defender_type2 = project.get_type2(defender)\n",
    "    bonus = project.get_type_effectiveness(attack_type, defender_type1)\n",
    "    if defender_type2 != \"None\":\n",
    "        bonus = project.get_type_effectiveness(attack_type, defender_type1) * project.get_type_effectiveness(attack_type, defender_type2)\n",
    "    return bonus"
   ]
  },
  {
   "cell_type": "code",
   "execution_count": 11,
   "id": "97ef4f82",
   "metadata": {},
   "outputs": [
    {
     "data": {
      "text/plain": [
       "2.0"
      ]
     },
     "execution_count": 11,
     "metadata": {},
     "output_type": "execute_result"
    }
   ],
   "source": [
    "#Q3\n",
    "type_bonus(\"Electric\", \"Magikarp\")"
   ]
  },
  {
   "cell_type": "code",
   "execution_count": 12,
   "id": "a18a6f7d",
   "metadata": {},
   "outputs": [
    {
     "data": {
      "text/plain": [
       "0.25"
      ]
     },
     "execution_count": 12,
     "metadata": {},
     "output_type": "execute_result"
    }
   ],
   "source": [
    "#Q4\n",
    "type_bonus(\"Bug\", \"Gastly\")"
   ]
  },
  {
   "cell_type": "code",
   "execution_count": 13,
   "id": "1e80c055",
   "metadata": {},
   "outputs": [],
   "source": [
    "bonus= type_bonus(project.get_type1(\"Magikarp\"), \"Charizard\")"
   ]
  },
  {
   "cell_type": "code",
   "execution_count": 14,
   "id": "0cf3a0de",
   "metadata": {},
   "outputs": [
    {
     "data": {
      "text/plain": [
       "2.0"
      ]
     },
     "execution_count": 14,
     "metadata": {},
     "output_type": "execute_result"
    }
   ],
   "source": [
    "bonus"
   ]
  },
  {
   "cell_type": "code",
   "execution_count": 15,
   "id": "e8538e5b",
   "metadata": {},
   "outputs": [
    {
     "data": {
      "text/plain": [
       "3.5294117647058822"
      ]
     },
     "execution_count": 15,
     "metadata": {},
     "output_type": "execute_result"
    }
   ],
   "source": [
    "damage(\"Magikarp\",\"Charizard\") * bonus"
   ]
  },
  {
   "cell_type": "code",
   "execution_count": 16,
   "id": "40c145cd",
   "metadata": {},
   "outputs": [
    {
     "data": {
      "text/plain": [
       "0.25"
      ]
     },
     "execution_count": 16,
     "metadata": {},
     "output_type": "execute_result"
    }
   ],
   "source": [
    "type_bonus(project.get_type1(\"Weedle\"), \"Charizard\")"
   ]
  },
  {
   "cell_type": "code",
   "execution_count": 17,
   "id": "a095edb0",
   "metadata": {},
   "outputs": [
    {
     "data": {
      "text/plain": [
       "1.0"
      ]
     },
     "execution_count": 17,
     "metadata": {},
     "output_type": "execute_result"
    }
   ],
   "source": [
    "type_bonus(project.get_type2(\"Weedle\"), \"Charizard\")"
   ]
  },
  {
   "cell_type": "code",
   "execution_count": 18,
   "id": "dacee145",
   "metadata": {},
   "outputs": [],
   "source": [
    "def get_num_types(pkmn):\n",
    "    if project.get_type1(pkmn) == 'None':\n",
    "        return 0\n",
    "    elif project.get_type2(pkmn) == 'None':\n",
    "        return 1\n",
    "    else:\n",
    "        return 2"
   ]
  },
  {
   "cell_type": "code",
   "execution_count": 19,
   "id": "649d49cd",
   "metadata": {},
   "outputs": [],
   "source": [
    "def effective_damage(attacker, defender):\n",
    "    attacker_num_types = get_num_types(attacker)\n",
    "    #print(\"number of attacks is\", attacker_num_types)\n",
    "    \n",
    "    if attacker_num_types == 1:\n",
    "        bonus = type_bonus(project.get_type1(attacker), defender)\n",
    "        attack_type = project.get_type1(attacker)\n",
    "    else: \n",
    "        bonus1 = type_bonus(project.get_type1(attacker), defender)\n",
    "        bonus2 = type_bonus(project.get_type2(attacker), defender)\n",
    "        if bonus1 >= bonus2:\n",
    "            bonus = bonus1\n",
    "            attack_type = project.get_type1(attacker)\n",
    "        else:\n",
    "            bonus = bonus2\n",
    "            attack_type = project.get_type1(attacker)\n",
    "\n",
    "    #print(\"bonus is\", bonus)\n",
    "    #print(\"damage is\", damage(attacker, defender))\n",
    "    damage_done = damage(attacker, defender) * bonus\n",
    "    #return bonus\n",
    "    return(damage_done)"
   ]
  },
  {
   "cell_type": "code",
   "execution_count": 20,
   "id": "fdffac87",
   "metadata": {},
   "outputs": [
    {
     "data": {
      "text/plain": [
       "41.06666666666667"
      ]
     },
     "execution_count": 20,
     "metadata": {},
     "output_type": "execute_result"
    }
   ],
   "source": [
    "#Q5\n",
    "effective_damage(\"Mewtwo\", \"Gengar\")"
   ]
  },
  {
   "cell_type": "code",
   "execution_count": 21,
   "id": "72274e17",
   "metadata": {},
   "outputs": [
    {
     "data": {
      "text/plain": [
       "22.5"
      ]
     },
     "execution_count": 21,
     "metadata": {},
     "output_type": "execute_result"
    }
   ],
   "source": [
    "#Q6\n",
    "effective_damage(\"Wooper\", \"Pikachu\")"
   ]
  },
  {
   "cell_type": "code",
   "execution_count": 22,
   "id": "51319ae1",
   "metadata": {},
   "outputs": [
    {
     "data": {
      "text/plain": [
       "12.307692307692308"
      ]
     },
     "execution_count": 22,
     "metadata": {},
     "output_type": "execute_result"
    }
   ],
   "source": [
    "#Q7\n",
    "effective_damage(\"Slowpoke\", \"Steelix\")"
   ]
  },
  {
   "cell_type": "code",
   "execution_count": 23,
   "id": "ffa5bdbe",
   "metadata": {},
   "outputs": [],
   "source": [
    "def num_hits(attacker, defender):\n",
    "    return math.ceil(project.get_hp(defender)/effective_damage(attacker, defender))"
   ]
  },
  {
   "cell_type": "code",
   "execution_count": 24,
   "id": "b57e7775",
   "metadata": {},
   "outputs": [
    {
     "data": {
      "text/plain": [
       "8"
      ]
     },
     "execution_count": 24,
     "metadata": {},
     "output_type": "execute_result"
    }
   ],
   "source": [
    "#Q8\n",
    "num_hits(\"Metapod\", \"Slowpoke\")"
   ]
  },
  {
   "cell_type": "code",
   "execution_count": 25,
   "id": "4917819d",
   "metadata": {},
   "outputs": [
    {
     "data": {
      "text/plain": [
       "9"
      ]
     },
     "execution_count": 25,
     "metadata": {},
     "output_type": "execute_result"
    }
   ],
   "source": [
    "#Q9\n",
    "num_hits(\"Pikachu\", \"Snivy\")"
   ]
  },
  {
   "cell_type": "code",
   "execution_count": 26,
   "id": "f5dbc89f",
   "metadata": {},
   "outputs": [],
   "source": [
    "def battle(pkmn1, pkmn2):\n",
    "    num_hits_pkmn1_attack = num_hits(pkmn1, pkmn2)\n",
    "    num_hits_pkmn2_attack = num_hits(pkmn2, pkmn1)\n",
    "    if  num_hits_pkmn1_attack - num_hits_pkmn2_attack > 10 :\n",
    "        return pkmn1 + \" ran away\"\n",
    "    elif num_hits_pkmn2_attack - num_hits_pkmn1_attack > 10 :\n",
    "        return pkmn2 + \" ran away\"\n",
    "    else:      \n",
    "        if num_hits_pkmn1_attack > num_hits_pkmn2_attack :\n",
    "            return pkmn2\n",
    "        elif num_hits_pkmn1_attack < num_hits_pkmn2_attack :\n",
    "            return pkmn1\n",
    "        else :\n",
    "            if project.get_speed(pkmn1) > project.get_speed(pkmn2):\n",
    "                return pkmn1\n",
    "            elif project.get_speed(pkmn1) < project.get_speed(pkmn2):\n",
    "                return pkmn2\n",
    "            else: \n",
    "                return \"Draw\"\n",
    "    #TODO: Return the name of the pkmn that can take more hits from the other\n",
    "    # pkmn. If both pkmn faint within the same number of moves, return the\n",
    "    # string 'Draw'"
   ]
  },
  {
   "cell_type": "code",
   "execution_count": 27,
   "id": "24298357",
   "metadata": {},
   "outputs": [
    {
     "data": {
      "text/plain": [
       "'Sceptile'"
      ]
     },
     "execution_count": 27,
     "metadata": {},
     "output_type": "execute_result"
    }
   ],
   "source": [
    "#Q10\n",
    "battle('Krabby', 'Sceptile')"
   ]
  },
  {
   "cell_type": "code",
   "execution_count": 28,
   "id": "72bbba58",
   "metadata": {},
   "outputs": [
    {
     "data": {
      "text/plain": [
       "'Heracross'"
      ]
     },
     "execution_count": 28,
     "metadata": {},
     "output_type": "execute_result"
    }
   ],
   "source": [
    "#Q11\n",
    "battle('Heracross', 'Blastoise')"
   ]
  },
  {
   "cell_type": "code",
   "execution_count": 29,
   "id": "490e5344",
   "metadata": {},
   "outputs": [
    {
     "data": {
      "text/plain": [
       "'Weedle'"
      ]
     },
     "execution_count": 29,
     "metadata": {},
     "output_type": "execute_result"
    }
   ],
   "source": [
    "battle('Weedle', 'Metapod')"
   ]
  },
  {
   "cell_type": "code",
   "execution_count": 30,
   "id": "ee2c6f2d",
   "metadata": {},
   "outputs": [
    {
     "data": {
      "text/plain": [
       "'Starly'"
      ]
     },
     "execution_count": 30,
     "metadata": {},
     "output_type": "execute_result"
    }
   ],
   "source": [
    "#Q12\n",
    "battle('Starly', 'Pidgey')"
   ]
  },
  {
   "cell_type": "code",
   "execution_count": 31,
   "id": "88a73ba1",
   "metadata": {},
   "outputs": [
    {
     "data": {
      "text/plain": [
       "'Spearow'"
      ]
     },
     "execution_count": 31,
     "metadata": {},
     "output_type": "execute_result"
    }
   ],
   "source": [
    "#Q13\n",
    "battle('Bulbasaur', 'Spearow')"
   ]
  },
  {
   "cell_type": "code",
   "execution_count": 32,
   "id": "678675dc",
   "metadata": {},
   "outputs": [
    {
     "data": {
      "text/plain": [
       "'Bellsprout ran away'"
      ]
     },
     "execution_count": 32,
     "metadata": {},
     "output_type": "execute_result"
    }
   ],
   "source": [
    "#Q14\n",
    "battle('Heatran', 'Bellsprout')"
   ]
  },
  {
   "cell_type": "code",
   "execution_count": 33,
   "id": "94459a58",
   "metadata": {},
   "outputs": [
    {
     "data": {
      "text/plain": [
       "'Meditite ran away'"
      ]
     },
     "execution_count": 33,
     "metadata": {},
     "output_type": "execute_result"
    }
   ],
   "source": [
    "#Q15\n",
    "battle('Meditite', 'Gyarados')"
   ]
  },
  {
   "cell_type": "code",
   "execution_count": 34,
   "id": "0fad7183",
   "metadata": {},
   "outputs": [
    {
     "data": {
      "text/plain": [
       "'Draw'"
      ]
     },
     "execution_count": 34,
     "metadata": {},
     "output_type": "execute_result"
    }
   ],
   "source": [
    "#Q16\n",
    "battle('Mudkip', 'Gulpin')"
   ]
  },
  {
   "cell_type": "code",
   "execution_count": 35,
   "id": "c379370e",
   "metadata": {},
   "outputs": [],
   "source": [
    "def two_on_two_battle(pkmn1, pkmn2, pkmn3, pkmn4):\n",
    "    if battle(pkmn1, pkmn3) == \"Draw\" or battle(pkmn2, pkmn4) ==  \"Draw\" or battle(pkmn1, pkmn3) == pkmn1 + \" ran away\" or battle(pkmn1, pkmn3) == pkmn3 + \" ran away\" or battle(pkmn2, pkmn4) == pkmn2 + \" ran away\" or battle(pkmn2, pkmn4) == pkmn4 + \" ran away\": \n",
    "        return \"No result\"\n",
    "    elif battle(pkmn1, pkmn3) == pkmn1 and battle(pkmn2, pkmn4) == pkmn2:\n",
    "        return \"Team A wins\"\n",
    "    elif battle(pkmn1, pkmn3) == pkmn3 and battle(pkmn2, pkmn4) == pkmn4:\n",
    "        return \"Team B wins\"\n",
    "    else:\n",
    "        champion_round1_battle_1 = battle(pkmn1, pkmn3)\n",
    "        champion_round1_battle_2 = battle(pkmn2, pkmn4)\n",
    "        final_winner = battle(champion_round1_battle_1, champion_round1_battle_2)\n",
    "        if final_winner == pkmn1 or final_winner == pkmn2:\n",
    "            return \"Team A wins\"\n",
    "        elif final_winner == pkmn3 or final_winner == pkmn4:\n",
    "            return \"Team B wins\"\n",
    "        else: \n",
    "            return \"No result\"\n",
    "    # TODO: implement the first round\n",
    "    # TODO: implement the second round\n",
    "    "
   ]
  },
  {
   "cell_type": "code",
   "execution_count": 36,
   "id": "b4337ecc",
   "metadata": {},
   "outputs": [
    {
     "data": {
      "text/plain": [
       "'No result'"
      ]
     },
     "execution_count": 36,
     "metadata": {},
     "output_type": "execute_result"
    }
   ],
   "source": [
    "two_on_two_battle(\"Meditite\", \"Mudkip\", \"Gyarados\", \"Gulpin\")"
   ]
  },
  {
   "cell_type": "code",
   "execution_count": 37,
   "id": "c29355cd",
   "metadata": {},
   "outputs": [
    {
     "data": {
      "text/plain": [
       "'Team B wins'"
      ]
     },
     "execution_count": 37,
     "metadata": {},
     "output_type": "execute_result"
    }
   ],
   "source": [
    "two_on_two_battle('Bulbasaur', 'Pidgey', 'Spearow', 'Starly')"
   ]
  },
  {
   "cell_type": "code",
   "execution_count": 38,
   "id": "c3850ed5",
   "metadata": {},
   "outputs": [
    {
     "data": {
      "text/plain": [
       "'Team B wins'"
      ]
     },
     "execution_count": 38,
     "metadata": {},
     "output_type": "execute_result"
    }
   ],
   "source": [
    "#Q17\n",
    "two_on_two_battle('Squirtle', 'Mudkip', 'Infernape', 'Charizard')"
   ]
  },
  {
   "cell_type": "code",
   "execution_count": 39,
   "id": "4c4a2f69",
   "metadata": {},
   "outputs": [
    {
     "data": {
      "text/plain": [
       "'Team A wins'"
      ]
     },
     "execution_count": 39,
     "metadata": {},
     "output_type": "execute_result"
    }
   ],
   "source": [
    "#Q18\n",
    "two_on_two_battle(\"Umbreon\", \"Flareon\", \"Jolteon\", \"Glaceon\")"
   ]
  },
  {
   "cell_type": "code",
   "execution_count": 40,
   "id": "762cdee1",
   "metadata": {},
   "outputs": [
    {
     "data": {
      "text/plain": [
       "'Team A wins'"
      ]
     },
     "execution_count": 40,
     "metadata": {},
     "output_type": "execute_result"
    }
   ],
   "source": [
    "#Q19\n",
    "two_on_two_battle(\"Electivire\", \"Arcanine\", \"Greninja\", \"Charizard\")"
   ]
  },
  {
   "cell_type": "code",
   "execution_count": 41,
   "id": "b7f8dd77",
   "metadata": {},
   "outputs": [
    {
     "data": {
      "text/plain": [
       "'Team B wins'"
      ]
     },
     "execution_count": 41,
     "metadata": {},
     "output_type": "execute_result"
    }
   ],
   "source": [
    "#Q20\n",
    "two_on_two_battle('Flygon', 'Sceptile', 'Garchomp', 'Torterra')"
   ]
  },
  {
   "cell_type": "code",
   "execution_count": null,
   "id": "bb6031a0",
   "metadata": {},
   "outputs": [],
   "source": []
  }
 ],
 "metadata": {
  "kernelspec": {
   "display_name": "Python 3",
   "language": "python",
   "name": "python3"
  },
  "language_info": {
   "codemirror_mode": {
    "name": "ipython",
    "version": 3
   },
   "file_extension": ".py",
   "mimetype": "text/x-python",
   "name": "python",
   "nbconvert_exporter": "python",
   "pygments_lexer": "ipython3",
   "version": "3.8.8"
  }
 },
 "nbformat": 4,
 "nbformat_minor": 5
}
