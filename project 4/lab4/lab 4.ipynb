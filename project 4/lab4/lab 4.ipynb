{
 "cells": [
  {
   "cell_type": "code",
   "execution_count": 1,
   "id": "6bed74ff",
   "metadata": {
    "scrolled": true
   },
   "outputs": [
    {
     "name": "stdout",
     "output_type": "stream",
     "text": [
      "Kanto is the correct region\n"
     ]
    }
   ],
   "source": [
    "import project\n",
    "\n",
    "if project.get_region('Pikachu') == 'Kanto':\n",
    "    print ('Kanto is the correct region')\n",
    "else:\n",
    "    print ('Kanto is not the correct region.')"
   ]
  },
  {
   "cell_type": "code",
   "execution_count": 4,
   "id": "68882da5",
   "metadata": {},
   "outputs": [
    {
     "name": "stdout",
     "output_type": "stream",
     "text": [
      "Kanto is not the correct region.\n"
     ]
    }
   ],
   "source": [
    "import project\n",
    "\n",
    "if project.get_region('Greninja') == 'Kanto':\n",
    "    print ('Kanto is the correct region')\n",
    "else:\n",
    "    print ('Kanto is not the correct region.')"
   ]
  },
  {
   "cell_type": "code",
   "execution_count": 5,
   "id": "e2a422a8",
   "metadata": {},
   "outputs": [
    {
     "ename": "KeyError",
     "evalue": "'CS'",
     "output_type": "error",
     "traceback": [
      "\u001b[1;31m---------------------------------------------------------------------------\u001b[0m",
      "\u001b[1;31mKeyError\u001b[0m                                  Traceback (most recent call last)",
      "\u001b[1;32m<ipython-input-5-ac19f86122fa>\u001b[0m in \u001b[0;36m<module>\u001b[1;34m\u001b[0m\n\u001b[0;32m      1\u001b[0m \u001b[1;32mimport\u001b[0m \u001b[0mproject\u001b[0m\u001b[1;33m\u001b[0m\u001b[1;33m\u001b[0m\u001b[0m\n\u001b[0;32m      2\u001b[0m \u001b[1;33m\u001b[0m\u001b[0m\n\u001b[1;32m----> 3\u001b[1;33m \u001b[1;32mif\u001b[0m \u001b[0mproject\u001b[0m\u001b[1;33m.\u001b[0m\u001b[0mget_region\u001b[0m\u001b[1;33m(\u001b[0m\u001b[1;34m'CS'\u001b[0m\u001b[1;33m)\u001b[0m \u001b[1;33m==\u001b[0m \u001b[1;34m'Kanto'\u001b[0m\u001b[1;33m:\u001b[0m\u001b[1;33m\u001b[0m\u001b[1;33m\u001b[0m\u001b[0m\n\u001b[0m\u001b[0;32m      4\u001b[0m     \u001b[0mprint\u001b[0m \u001b[1;33m(\u001b[0m\u001b[1;34m'Kanto is the correct region'\u001b[0m\u001b[1;33m)\u001b[0m\u001b[1;33m\u001b[0m\u001b[1;33m\u001b[0m\u001b[0m\n\u001b[0;32m      5\u001b[0m \u001b[1;32melse\u001b[0m\u001b[1;33m:\u001b[0m\u001b[1;33m\u001b[0m\u001b[1;33m\u001b[0m\u001b[0m\n",
      "\u001b[1;32m~\\Dropbox\\cs220\\lab4\\project.py\u001b[0m in \u001b[0;36mget_region\u001b[1;34m(pkmn)\u001b[0m\n\u001b[0;32m     45\u001b[0m \u001b[1;32mdef\u001b[0m \u001b[0mget_region\u001b[0m\u001b[1;33m(\u001b[0m\u001b[0mpkmn\u001b[0m\u001b[1;33m)\u001b[0m\u001b[1;33m:\u001b[0m\u001b[1;33m\u001b[0m\u001b[1;33m\u001b[0m\u001b[0m\n\u001b[0;32m     46\u001b[0m     \u001b[1;34m\"\"\"get_region(pkmn) returns the region of the Pokémon with the name 'pkmn' \"\"\"\u001b[0m\u001b[1;33m\u001b[0m\u001b[1;33m\u001b[0m\u001b[0m\n\u001b[1;32m---> 47\u001b[1;33m     \u001b[1;32mreturn\u001b[0m \u001b[0m__pokemon__\u001b[0m\u001b[1;33m[\u001b[0m\u001b[0mpkmn\u001b[0m\u001b[1;33m]\u001b[0m\u001b[1;33m[\u001b[0m\u001b[1;34m'Region'\u001b[0m\u001b[1;33m]\u001b[0m\u001b[1;33m\u001b[0m\u001b[1;33m\u001b[0m\u001b[0m\n\u001b[0m\u001b[0;32m     48\u001b[0m \u001b[1;33m\u001b[0m\u001b[0m\n\u001b[0;32m     49\u001b[0m \u001b[1;32mdef\u001b[0m \u001b[0mget_type1\u001b[0m\u001b[1;33m(\u001b[0m\u001b[0mpkmn\u001b[0m\u001b[1;33m)\u001b[0m\u001b[1;33m:\u001b[0m\u001b[1;33m\u001b[0m\u001b[1;33m\u001b[0m\u001b[0m\n",
      "\u001b[1;31mKeyError\u001b[0m: 'CS'"
     ]
    }
   ],
   "source": [
    "import project\n",
    "\n",
    "if project.get_region('CS') == 'Kanto':\n",
    "    print ('Kanto is the correct region')\n",
    "else:\n",
    "    print ('Kanto is not the correct region.')"
   ]
  },
  {
   "cell_type": "code",
   "execution_count": 6,
   "id": "61a927e7",
   "metadata": {},
   "outputs": [
    {
     "name": "stdout",
     "output_type": "stream",
     "text": [
      "Snorlax\n"
     ]
    }
   ],
   "source": [
    "if project.get_hp('Snorlax') >= project.get_hp('Heracross'):\n",
    "    print('Snorlax')\n",
    "else:\n",
    "    print('Heracross')"
   ]
  },
  {
   "cell_type": "code",
   "execution_count": 8,
   "id": "c915dffb",
   "metadata": {},
   "outputs": [],
   "source": [
    "def compare_hp(pkmn1, pkmn2):\n",
    "    if project.get_hp(pkm1) >= project.get_hp(pkm2):\n",
    "        return pkm1\n",
    "    else:\n",
    "        return pkm2"
   ]
  },
  {
   "cell_type": "code",
   "execution_count": 10,
   "id": "4d3c571f",
   "metadata": {},
   "outputs": [],
   "source": [
    "def compare_attack(pkmn1, pkmn2):\n",
    "    if project.get_attack(pkm1) >= project.get_attack(pkm2):\n",
    "        return pkm1\n",
    "    else:\n",
    "        return pkm2"
   ]
  },
  {
   "cell_type": "code",
   "execution_count": 11,
   "id": "1690fef6",
   "metadata": {},
   "outputs": [],
   "source": [
    "def get_num_types(pkmn):\n",
    "    if project.get_type1(pkmn) == 'None':\n",
    "        return 0\n",
    "    elif project.get_type2(pkmn) == 'None':\n",
    "        return 1\n",
    "    else:\n",
    "        return 2"
   ]
  },
  {
   "cell_type": "code",
   "execution_count": 12,
   "id": "2967ffa6",
   "metadata": {},
   "outputs": [],
   "source": [
    "def get_num_types(pkmn):\n",
    "    if project.get_type1(pkmn) == 'None':\n",
    "        return 0\n",
    "    elif project.get_type2(pkmn) == 'None':\n",
    "        return 1\n",
    "    else:\n",
    "        return 2"
   ]
  },
  {
   "cell_type": "code",
   "execution_count": 13,
   "id": "2978e6fd",
   "metadata": {},
   "outputs": [
    {
     "data": {
      "text/plain": [
       "1"
      ]
     },
     "execution_count": 13,
     "metadata": {},
     "output_type": "execute_result"
    }
   ],
   "source": [
    "get_num_types(\"Pikachu\")"
   ]
  },
  {
   "cell_type": "code",
   "execution_count": 14,
   "id": "da7e8767",
   "metadata": {},
   "outputs": [
    {
     "data": {
      "text/plain": [
       "2"
      ]
     },
     "execution_count": 14,
     "metadata": {},
     "output_type": "execute_result"
    }
   ],
   "source": [
    "get_num_types(\"Charizard\")"
   ]
  },
  {
   "cell_type": "code",
   "execution_count": 21,
   "id": "35887841",
   "metadata": {},
   "outputs": [],
   "source": [
    "def same_types(pkmn1, pkmn2):\n",
    "    if project.get_type1(pkmn1) == project.get_type1(pkmn2):\n",
    "        if project.get_type2(pkmn1) == project.get_type2(pkmn2):\n",
    "            return True\n",
    "    elif project.get_type1(pkmn1) == project.get_type2(pkmn2):\n",
    "        if project.get_type2(pkmn1) == project.get_type1(pkmn2):\n",
    "            return True\n",
    "            \n",
    "    return False"
   ]
  },
  {
   "cell_type": "code",
   "execution_count": 22,
   "id": "cf3db747",
   "metadata": {},
   "outputs": [
    {
     "data": {
      "text/plain": [
       "True"
      ]
     },
     "execution_count": 22,
     "metadata": {},
     "output_type": "execute_result"
    }
   ],
   "source": [
    "same_types('Dragonite', 'Noivern')"
   ]
  },
  {
   "cell_type": "code",
   "execution_count": 17,
   "id": "083e9d90",
   "metadata": {},
   "outputs": [
    {
     "name": "stdout",
     "output_type": "stream",
     "text": [
      "Name :  Dragonite\n",
      "Attack :  134\n",
      "Defense :  95\n",
      "HP :  91\n",
      "Region :  Kanto\n",
      "Sp. Atk :  100\n",
      "Sp. Def :  100\n",
      "Speed :  80\n",
      "Type 1 :  Dragon\n",
      "Type 2 :  Flying\n"
     ]
    }
   ],
   "source": [
    "project.print_stats('Dragonite')"
   ]
  },
  {
   "cell_type": "code",
   "execution_count": 18,
   "id": "ec4a80a1",
   "metadata": {},
   "outputs": [
    {
     "name": "stdout",
     "output_type": "stream",
     "text": [
      "Name :  Noivern\n",
      "Attack :  70\n",
      "Defense :  80\n",
      "HP :  85\n",
      "Region :  Kalos\n",
      "Sp. Atk :  97\n",
      "Sp. Def :  80\n",
      "Speed :  123\n",
      "Type 1 :  Flying\n",
      "Type 2 :  Dragon\n"
     ]
    }
   ],
   "source": [
    "project.print_stats('Noivern')"
   ]
  },
  {
   "cell_type": "code",
   "execution_count": 23,
   "id": "73e1107d",
   "metadata": {},
   "outputs": [],
   "source": [
    "def stronger_type(type1, type2):\n",
    "    type_1_effectiveness = project.get_type_effectiveness(type1, type2)\n",
    "    type_2_effectiveness = project.get_type_effectiveness(type2, type1)\n",
    "    if type_1_effectiveness > type_2_effectiveness:\n",
    "        return type1 + \" is stronger than \" + type2\n",
    "    elif type_2_effectiveness > type_1_effectiveness:\n",
    "        return type2 + \" is stronger than \" + type1\n",
    "    else:\n",
    "        return type1 + \" and \" + type2 + \" are equally strong\""
   ]
  },
  {
   "cell_type": "code",
   "execution_count": null,
   "id": "42c6c73e",
   "metadata": {},
   "outputs": [],
   "source": []
  }
 ],
 "metadata": {
  "kernelspec": {
   "display_name": "Python 3",
   "language": "python",
   "name": "python3"
  },
  "language_info": {
   "codemirror_mode": {
    "name": "ipython",
    "version": 3
   },
   "file_extension": ".py",
   "mimetype": "text/x-python",
   "name": "python",
   "nbconvert_exporter": "python",
   "pygments_lexer": "ipython3",
   "version": "3.8.8"
  }
 },
 "nbformat": 4,
 "nbformat_minor": 5
}
