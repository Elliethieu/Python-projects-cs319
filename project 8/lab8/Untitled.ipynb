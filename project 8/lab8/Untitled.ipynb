{
 "cells": [
  {
   "cell_type": "code",
   "execution_count": 1,
   "id": "15441017",
   "metadata": {},
   "outputs": [
    {
     "data": {
      "text/plain": [
       "'1 2'"
      ]
     },
     "execution_count": 1,
     "metadata": {},
     "output_type": "execute_result"
    }
   ],
   "source": [
    "quiz8=[\"1\",\"2\"]\n",
    "some_other_val = \" \".join(quiz8)\n",
    "some_other_val"
   ]
  },
  {
   "cell_type": "code",
   "execution_count": 5,
   "id": "09f43426",
   "metadata": {},
   "outputs": [
    {
     "ename": "SyntaxError",
     "evalue": "invalid syntax (<ipython-input-5-cb0df8c0a2c3>, line 3)",
     "output_type": "error",
     "traceback": [
      "\u001b[1;36m  File \u001b[1;32m\"<ipython-input-5-cb0df8c0a2c3>\"\u001b[1;36m, line \u001b[1;32m3\u001b[0m\n\u001b[1;33m    sorted(info, key = lambda d: return d[3])\u001b[0m\n\u001b[1;37m                                 ^\u001b[0m\n\u001b[1;31mSyntaxError\u001b[0m\u001b[1;31m:\u001b[0m invalid syntax\n"
     ]
    }
   ],
   "source": [
    "info = [ { \"name\": \"Marie\", \"id\": \"9081112222\", \"GPA\": 4, \"age\": 19, }  ]\n",
    "#info.items()\n",
    "sorted(info, key = lambda d: return d[3])"
   ]
  },
  {
   "cell_type": "code",
   "execution_count": 9,
   "id": "9f91a6c1",
   "metadata": {},
   "outputs": [
    {
     "data": {
      "text/plain": [
       "{64: 8.0, 81: 9.0, 100: 10.0, 4: 2.0, 9: 3.0}"
      ]
     },
     "execution_count": 9,
     "metadata": {},
     "output_type": "execute_result"
    }
   ],
   "source": [
    "numbers = [64, 81, 100, 4, 9]\n",
    "\n",
    "{num: num ** 0.5 for num in numbers}"
   ]
  },
  {
   "cell_type": "code",
   "execution_count": null,
   "id": "42e238c3",
   "metadata": {},
   "outputs": [],
   "source": []
  }
 ],
 "metadata": {
  "kernelspec": {
   "display_name": "Python 3",
   "language": "python",
   "name": "python3"
  },
  "language_info": {
   "codemirror_mode": {
    "name": "ipython",
    "version": 3
   },
   "file_extension": ".py",
   "mimetype": "text/x-python",
   "name": "python",
   "nbconvert_exporter": "python",
   "pygments_lexer": "ipython3",
   "version": "3.8.8"
  }
 },
 "nbformat": 4,
 "nbformat_minor": 5
}
