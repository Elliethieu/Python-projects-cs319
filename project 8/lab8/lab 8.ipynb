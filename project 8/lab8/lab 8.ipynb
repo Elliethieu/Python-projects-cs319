{
 "cells": [
  {
   "cell_type": "code",
   "execution_count": 1,
   "id": "8e4d02a7",
   "metadata": {},
   "outputs": [
    {
     "name": "stdout",
     "output_type": "stream",
     "text": [
      "looping over value: 100\n",
      "looping over value: 200\n",
      "looping over value: 300\n",
      "total: 600\n"
     ]
    }
   ],
   "source": [
    "values = [\"100\", \"200\", \"300\"]\n",
    "total = 0\n",
    "\n",
    "for x in values:\n",
    "    print(\"looping over value:\", x)\n",
    "    total += int(x)\n",
    "print(\"total:\", total)"
   ]
  },
  {
   "cell_type": "code",
   "execution_count": 2,
   "id": "00d66c24",
   "metadata": {},
   "outputs": [
    {
     "name": "stdout",
     "output_type": "stream",
     "text": [
      "looping over index: 0\n",
      "looping over index: 1\n",
      "looping over index: 2\n",
      "total: 600\n"
     ]
    }
   ],
   "source": [
    "values = [\"100\", \"200\", \"300\"]\n",
    "\n",
    "for i in range(len(values)):\n",
    "    print(\"looping over index:\", i)\n",
    "    values[i] = int(values[i])\n",
    "\n",
    "print(\"total:\", sum(values))"
   ]
  },
  {
   "cell_type": "code",
   "execution_count": 3,
   "id": "b0871f7e",
   "metadata": {},
   "outputs": [],
   "source": [
    "player_csv = [ ['Ada', 'Lovelace', 'England', 'Defender, Goalie, Midfield', '12' ], \n",
    "                ['Rose', 'Lavelle', 'USA', 'Midfield', '16' ], \n",
    "                 ['Marta', 'Vieira da Silva', 'Brazil', 'Midfield, Forward', '10' ],  ]"
   ]
  },
  {
   "cell_type": "code",
   "execution_count": 6,
   "id": "33d20953",
   "metadata": {},
   "outputs": [
    {
     "data": {
      "text/plain": [
       "[{'first': 'Ada',\n",
       "  'last': 'Lovelace',\n",
       "  'country': 'England',\n",
       "  'positions': ['Defender', 'Goalie', 'Midfield'],\n",
       "  'jersey': 12},\n",
       " {'first': 'Rose',\n",
       "  'last': 'Lavelle',\n",
       "  'country': 'USA',\n",
       "  'positions': ['Midfield'],\n",
       "  'jersey': 16},\n",
       " {'first': 'Marta',\n",
       "  'last': 'Vieira da Silva',\n",
       "  'country': 'Brazil',\n",
       "  'positions': ['Midfield', 'Forward'],\n",
       "  'jersey': 10}]"
      ]
     },
     "execution_count": 6,
     "metadata": {},
     "output_type": "execute_result"
    }
   ],
   "source": [
    "player_dict_list = []\n",
    "for player in player_csv:\n",
    "    player_dict = {}\n",
    "    player_dict['first'] = player[0]\n",
    "    player_dict['last'] = player[1]\n",
    "    player_dict['country'] = player[2]\n",
    "    player_dict['positions']= player[3].split(\", \")\n",
    "    player_dict['jersey'] = int(player[4])\n",
    "    player_dict_list.append(player_dict)\n",
    "player_dict_list"
   ]
  },
  {
   "cell_type": "code",
   "execution_count": 7,
   "id": "08ea781b",
   "metadata": {},
   "outputs": [
    {
     "name": "stdout",
     "output_type": "stream",
     "text": [
      "England\n",
      "USA\n",
      "Brazil\n"
     ]
    }
   ],
   "source": [
    "for i in range(len(player_dict_list)):\n",
    "    print(player_dict_list[i][\"country\"])\n"
   ]
  },
  {
   "cell_type": "code",
   "execution_count": 11,
   "id": "c40881fc",
   "metadata": {},
   "outputs": [
    {
     "data": {
      "text/plain": [
       "[{'first': 'Ada',\n",
       "  'last': 'Lovelace',\n",
       "  'country': 'England',\n",
       "  'positions': ['DEFENDER', 'GOALIE', 'MIDFIELD'],\n",
       "  'jersey': 12},\n",
       " {'first': 'Rose',\n",
       "  'last': 'Lavelle',\n",
       "  'country': 'USA',\n",
       "  'positions': ['MIDFIELD'],\n",
       "  'jersey': 16},\n",
       " {'first': 'Marta',\n",
       "  'last': 'Vieira da Silva',\n",
       "  'country': 'Brazil',\n",
       "  'positions': ['MIDFIELD', 'FORWARD'],\n",
       "  'jersey': 10}]"
      ]
     },
     "execution_count": 11,
     "metadata": {},
     "output_type": "execute_result"
    }
   ],
   "source": [
    "for i in range(len(player_dict_list)):\n",
    "    positions = player_dict_list[i][\"positions\"]\n",
    "    for j in range(len(positions)):\n",
    "       player_dict_list[i][\"positions\"][j]= positions[j].upper()\n",
    "player_dict_list"
   ]
  },
  {
   "cell_type": "code",
   "execution_count": 13,
   "id": "5297bf63",
   "metadata": {},
   "outputs": [
    {
     "name": "stdout",
     "output_type": "stream",
     "text": [
      "Winners: 3\n"
     ]
    }
   ],
   "source": [
    "import time\n",
    "\n",
    "# don't change this\n",
    "def get_winners():\n",
    "    # make this function slow, for the sake of the exercise\n",
    "    time.sleep(0.1)\n",
    "    return [999, 100, 150, 11, 555]\n",
    "\n",
    "# can you make this function faster?\n",
    "def count_winners(nums):\n",
    "    count = 0\n",
    "    our_list= get_winners()\n",
    "    for num in nums:\n",
    "        if num in our_list:\n",
    "            count += 1\n",
    "    return count\n",
    "\n",
    "# don't change this either\n",
    "nums = []\n",
    "for i in range(200):\n",
    "    nums.append(i)\n",
    "\n",
    "print(\"Winners:\", count_winners(nums))"
   ]
  },
  {
   "cell_type": "code",
   "execution_count": 16,
   "id": "68a3f691",
   "metadata": {},
   "outputs": [
    {
     "name": "stdout",
     "output_type": "stream",
     "text": [
      "The values before the function call are [33, 22, 11, 44, 55]\n",
      "The median is 33\n",
      "The values after  the function call are [33, 22, 11, 44, 55]\n"
     ]
    }
   ],
   "source": [
    "import copy\n",
    "\n",
    "def median(nums):\n",
    "    sort_nums = sorted(nums)\n",
    "    if len(sort_nums) % 2 == 1:\n",
    "        return sort_nums[len(sort_nums) // 2]\n",
    "    else:\n",
    "        v1 = sort_nums[len(sort_nums) // 2]\n",
    "        v2 = sort_nums[len(sort_nums) // 2 - 1]\n",
    "        return (v1+v2) / 2\n",
    "\n",
    "values = [33,22,11,44,55]\n",
    "y = copy.copy(values)\n",
    "print(\"The values before the function call are\", values)\n",
    "print(\"The median is\", median(values)) # change this below\n",
    "\n",
    "print(\"The values after  the function call are\", y)"
   ]
  },
  {
   "cell_type": "code",
   "execution_count": 17,
   "id": "e814c488",
   "metadata": {},
   "outputs": [],
   "source": [
    "names = [\"Ada\", \"Caitlin\", \"Abe\", \"Bobby\", \"Alice\", \"Britney\", \"Cindy\", \"Caleb\"]\n"
   ]
  },
  {
   "cell_type": "code",
   "execution_count": 18,
   "id": "b8dc8d60",
   "metadata": {},
   "outputs": [
    {
     "data": {
      "text/plain": [
       "{'A': ['Ada', 'Abe', 'Alice'],\n",
       " 'C': ['Caitlin', 'Cindy', 'Caleb'],\n",
       " 'B': ['Bobby', 'Britney']}"
      ]
     },
     "execution_count": 18,
     "metadata": {},
     "output_type": "execute_result"
    }
   ],
   "source": [
    "buckets = {}\n",
    "\n",
    "for name in names:\n",
    "    first = name[0]\n",
    "    if not first in buckets:\n",
    "        buckets[first] = [] # empty list\n",
    "    buckets[first].append(name)\n",
    "\n",
    "buckets"
   ]
  },
  {
   "cell_type": "code",
   "execution_count": 19,
   "id": "0cb3a153",
   "metadata": {},
   "outputs": [
    {
     "data": {
      "text/plain": [
       "{'A': 3.6666666666666665, 'C': 5.666666666666667, 'B': 6.0}"
      ]
     },
     "execution_count": 19,
     "metadata": {},
     "output_type": "execute_result"
    }
   ],
   "source": [
    "def avg_len(names):\n",
    "    total = 0\n",
    "    for name in names:\n",
    "        total += len(name)\n",
    "    return total / len(names)\n",
    "\n",
    "summary = {}\n",
    "for k in buckets:\n",
    "    summary[k] = avg_len(buckets[k])\n",
    "\n",
    "summary"
   ]
  },
  {
   "cell_type": "code",
   "execution_count": null,
   "id": "442da131",
   "metadata": {},
   "outputs": [],
   "source": []
  }
 ],
 "metadata": {
  "kernelspec": {
   "display_name": "Python 3",
   "language": "python",
   "name": "python3"
  },
  "language_info": {
   "codemirror_mode": {
    "name": "ipython",
    "version": 3
   },
   "file_extension": ".py",
   "mimetype": "text/x-python",
   "name": "python",
   "nbconvert_exporter": "python",
   "pygments_lexer": "ipython3",
   "version": "3.8.8"
  }
 },
 "nbformat": 4,
 "nbformat_minor": 5
}
