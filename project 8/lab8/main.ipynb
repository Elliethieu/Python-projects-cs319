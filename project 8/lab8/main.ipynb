{
 "cells": [
  {
   "cell_type": "code",
   "execution_count": 1,
   "id": "b114d925",
   "metadata": {},
   "outputs": [],
   "source": [
    "# project: p8\n",
    "# submitter: thieu\n",
    "# partner: None\n",
    "# hours: 7"
   ]
  },
  {
   "cell_type": "code",
   "execution_count": 2,
   "id": "b6dfa0c5",
   "metadata": {},
   "outputs": [],
   "source": [
    "import csv\n",
    "import copy\n",
    "\n",
    "def process_csv(filename):\n",
    "    example_file = open(filename, encoding=\"utf-8\")\n",
    "    example_reader = csv.reader(example_file)\n",
    "    example_data = list(example_reader)\n",
    "    example_file.close()\n",
    "    return example_data"
   ]
  },
  {
   "cell_type": "code",
   "execution_count": 3,
   "id": "b89a6908",
   "metadata": {},
   "outputs": [],
   "source": [
    "def get_mapping(path):\n",
    "    csv_data = process_csv(path) # you can use this function from p7\n",
    "    mapping_dict ={}\n",
    "    for i in range(len(csv_data)):\n",
    "        ID = csv_data[i][0]\n",
    "        name = csv_data[i][1]\n",
    "        mapping_dict[ID]= name\n",
    "        #print(ID, name)\n",
    "    return mapping_dict\n",
    "    # TODO: make a dictionary where keys are the ID's and values are the names"
   ]
  },
  {
   "cell_type": "code",
   "execution_count": 4,
   "id": "df7f49be",
   "metadata": {},
   "outputs": [
    {
     "data": {
      "text/plain": [
       "{'tt1950186': 'Ford v Ferrari',\n",
       " 'tt2267998': 'Gone Girl',\n",
       " 'nm0000255': 'Ben Affleck',\n",
       " 'nm0003506': 'James Mangold',\n",
       " 'nm0000354': 'Matt Damon',\n",
       " 'nm1256532': 'Jon Bernthal',\n",
       " 'nm0683253': 'Rosamund Pike',\n",
       " 'nm0000288': 'Christian Bale',\n",
       " 'nm0000399': 'David Fincher'}"
      ]
     },
     "execution_count": 4,
     "metadata": {},
     "output_type": "execute_result"
    }
   ],
   "source": [
    "#Q1: What is returned by your get_mapping(\"small_mapping.csv\") function?\n",
    "mapping = get_mapping(\"small_mapping.csv\")\n",
    "mapping"
   ]
  },
  {
   "cell_type": "code",
   "execution_count": 5,
   "id": "d3b46470",
   "metadata": {},
   "outputs": [
    {
     "data": {
      "text/plain": [
       "'Christian Bale'"
      ]
     },
     "execution_count": 5,
     "metadata": {},
     "output_type": "execute_result"
    }
   ],
   "source": [
    "#Q2: What is the value associated with the key \"nm0000288\"?\n",
    "mapping[\"nm0000288\"]"
   ]
  },
  {
   "cell_type": "code",
   "execution_count": 6,
   "id": "c2208df2",
   "metadata": {},
   "outputs": [
    {
     "data": {
      "text/plain": [
       "['Ben Affleck',\n",
       " 'James Mangold',\n",
       " 'Matt Damon',\n",
       " 'Jon Bernthal',\n",
       " 'Rosamund Pike',\n",
       " 'Christian Bale',\n",
       " 'David Fincher']"
      ]
     },
     "execution_count": 6,
     "metadata": {},
     "output_type": "execute_result"
    }
   ],
   "source": [
    "#Q3: What are the values in the mapping (dictionary) associated with keys that begin with \"nm\"?\n",
    "nm_names_list=[]\n",
    "for ID in mapping:\n",
    "    if ID[:2] == \"nm\":\n",
    "        name = mapping[ID]\n",
    "        nm_names_list.append(name)\n",
    "nm_names_list"
   ]
  },
  {
   "cell_type": "code",
   "execution_count": 7,
   "id": "981e6e4e",
   "metadata": {},
   "outputs": [
    {
     "data": {
      "text/plain": [
       "['nm0683253']"
      ]
     },
     "execution_count": 7,
     "metadata": {},
     "output_type": "execute_result"
    }
   ],
   "source": [
    "#Q4: List the keys of all the people in the above mapping, whose last name is \"Pike\".\n",
    "last_name_Pike=[]\n",
    "for ID in mapping:\n",
    "    if ID[:2] == \"nm\":\n",
    "        name= mapping[ID]\n",
    "        name_list = name.split()\n",
    "        #print(name_list)\n",
    "        if name_list[-1] == \"Pike\":\n",
    "            last_name_Pike.append(ID)\n",
    "            #print(name)\n",
    "last_name_Pike\n",
    "            "
   ]
  },
  {
   "cell_type": "code",
   "execution_count": 8,
   "id": "b027cb5c",
   "metadata": {},
   "outputs": [],
   "source": [
    " def get_raw_movies(path):\n",
    "        csv_data = process_csv(path)\n",
    "        header = csv_data[0]\n",
    "        data = csv_data[1:]\n",
    "        raw_movies_list = []\n",
    "        for i in range(len(data)):\n",
    "            row_list = data[i]\n",
    "            row_dict = {}\n",
    "            row_dict['title']= row_list[header.index(\"title\")]\n",
    "            row_dict['year']= int(row_list[header.index(\"year\")])\n",
    "            row_dict['genres']= row_list[header.index(\"genres\")].split(\", \")\n",
    "            row_dict['duration']= int(row_list[header.index(\"duration\")])\n",
    "            row_dict['directors']= row_list[header.index(\"directors\")].split(\", \")\n",
    "            row_dict['actors']= row_list[header.index(\"actors\")].split(\", \")\n",
    "            row_dict['rating']= float(row_list[header.index(\"rating\")])\n",
    "            \n",
    "            raw_movies_list.append(row_dict)\n",
    "        \n",
    "        return raw_movies_list\n",
    "#        {\n",
    "#    'title': \"movie-id\",\n",
    "#    'year': <the year as an integer>,\n",
    "#    'genres': [\"genre1\", \"genre2\", ...],\n",
    " #   'duration': <the duration as an integer>,\n",
    "  #  'directors': [\"director-id1\", \"director-id2\", ...],\n",
    "   # 'actors': [\"actor-id1\", \"actor-id2\", ....],\n",
    "    #'rating': <the rating as a float>\n",
    "#}"
   ]
  },
  {
   "cell_type": "code",
   "execution_count": 9,
   "id": "bd3e6759",
   "metadata": {},
   "outputs": [
    {
     "data": {
      "text/plain": [
       "[{'title': 'tt1950186',\n",
       "  'year': 2019,\n",
       "  'genres': ['Action', 'Biography', 'Drama'],\n",
       "  'duration': 152,\n",
       "  'directors': ['nm0003506'],\n",
       "  'actors': ['nm0000354', 'nm0000288', 'nm1256532'],\n",
       "  'rating': 8.1},\n",
       " {'title': 'tt2267998',\n",
       "  'year': 2014,\n",
       "  'genres': ['Drama', 'Mystery', 'Thriller'],\n",
       "  'duration': 149,\n",
       "  'directors': ['nm0000399'],\n",
       "  'actors': ['nm0000255', 'nm0683253'],\n",
       "  'rating': 8.1}]"
      ]
     },
     "execution_count": 9,
     "metadata": {},
     "output_type": "execute_result"
    }
   ],
   "source": [
    "#Q5: What does get_raw_movies(\"small_movies.csv\") return?\n",
    "raw_movies = get_raw_movies(\"small_movies.csv\")\n",
    "\n",
    "raw_movies"
   ]
  },
  {
   "cell_type": "code",
   "execution_count": 10,
   "id": "f8c55024",
   "metadata": {},
   "outputs": [
    {
     "data": {
      "text/plain": [
       "2"
      ]
     },
     "execution_count": 10,
     "metadata": {},
     "output_type": "execute_result"
    }
   ],
   "source": [
    "#Q6: How many actors does the movie at index 1 have?\n",
    "len(raw_movies[1][\"actors\"])"
   ]
  },
  {
   "cell_type": "code",
   "execution_count": 11,
   "id": "c9c6851a",
   "metadata": {},
   "outputs": [
    {
     "data": {
      "text/plain": [
       "'nm0000354'"
      ]
     },
     "execution_count": 11,
     "metadata": {},
     "output_type": "execute_result"
    }
   ],
   "source": [
    "#Q7: What is the ID of the first actor listed for the movie at index 0?\n",
    "raw_movies[0][\"actors\"][0]"
   ]
  },
  {
   "cell_type": "code",
   "execution_count": 12,
   "id": "00864401",
   "metadata": {},
   "outputs": [],
   "source": [
    "def get_movies(movies_path, mapping_path):\n",
    "    raw_movies_full_list = get_raw_movies(movies_path)\n",
    "    mapping_path = get_mapping(mapping_path)\n",
    "    #raw_movies_full_list_copy = copy.copy(raw_movies_full_list)\n",
    "    \n",
    "    for i in range(len(raw_movies_full_list)):\n",
    "        title_ID = raw_movies_full_list[i][\"title\"]\n",
    "        directors_ID_list = raw_movies_full_list[i][\"directors\"]\n",
    "        actors_ID_list = raw_movies_full_list[i][\"actors\"]\n",
    "        \n",
    "        title = mapping_path[title_ID]\n",
    "        raw_movies_full_list[i][\"title\"] = title\n",
    "\n",
    "        for j in range(len(directors_ID_list)):\n",
    "            director_ID = directors_ID_list[j]\n",
    "            director_name= mapping_path[director_ID]\n",
    "            #print(director_name)\n",
    "            raw_movies_full_list[i][\"directors\"][j] = director_name\n",
    "        \n",
    "        for k in range(len(actors_ID_list)):\n",
    "            actor_ID = actors_ID_list[k]\n",
    "            actor_name= mapping_path[actor_ID]\n",
    "            #print(actor_name)\n",
    "            raw_movies_full_list[i][\"actors\"][k] = actor_name\n",
    "        \n",
    "    return raw_movies_full_list"
   ]
  },
  {
   "cell_type": "code",
   "execution_count": 13,
   "id": "320b8b10",
   "metadata": {},
   "outputs": [],
   "source": [
    "small_data = get_movies(\"small_movies.csv\", \"small_mapping.csv\")\n",
    "#small_data"
   ]
  },
  {
   "cell_type": "code",
   "execution_count": 14,
   "id": "dcd037a0",
   "metadata": {},
   "outputs": [
    {
     "data": {
      "text/plain": [
       "[{'title': 'Ford v Ferrari',\n",
       "  'year': 2019,\n",
       "  'genres': ['Action', 'Biography', 'Drama'],\n",
       "  'duration': 152,\n",
       "  'directors': ['James Mangold'],\n",
       "  'actors': ['Matt Damon', 'Christian Bale', 'Jon Bernthal'],\n",
       "  'rating': 8.1},\n",
       " {'title': 'Gone Girl',\n",
       "  'year': 2014,\n",
       "  'genres': ['Drama', 'Mystery', 'Thriller'],\n",
       "  'duration': 149,\n",
       "  'directors': ['David Fincher'],\n",
       "  'actors': ['Ben Affleck', 'Rosamund Pike'],\n",
       "  'rating': 8.1}]"
      ]
     },
     "execution_count": 14,
     "metadata": {},
     "output_type": "execute_result"
    }
   ],
   "source": [
    "#Q8: What is small_data?\n",
    "small_data"
   ]
  },
  {
   "cell_type": "code",
   "execution_count": 15,
   "id": "7e3b4429",
   "metadata": {},
   "outputs": [
    {
     "data": {
      "text/plain": [
       "'Gone Girl'"
      ]
     },
     "execution_count": 15,
     "metadata": {},
     "output_type": "execute_result"
    }
   ],
   "source": [
    "#Q9: What is small_data[1][\"title\"]?\n",
    "small_data[1][\"title\"]"
   ]
  },
  {
   "cell_type": "code",
   "execution_count": 16,
   "id": "9ac54217",
   "metadata": {},
   "outputs": [
    {
     "data": {
      "text/plain": [
       "['Matt Damon', 'Christian Bale', 'Jon Bernthal']"
      ]
     },
     "execution_count": 16,
     "metadata": {},
     "output_type": "execute_result"
    }
   ],
   "source": [
    "#Q10: What is small_data[0][\"actors\"]?\n",
    "small_data[0][\"actors\"]"
   ]
  },
  {
   "cell_type": "code",
   "execution_count": 17,
   "id": "c7ccb223",
   "metadata": {},
   "outputs": [
    {
     "data": {
      "text/plain": [
       "['David Fincher']"
      ]
     },
     "execution_count": 17,
     "metadata": {},
     "output_type": "execute_result"
    }
   ],
   "source": [
    "#Q11: What is small_data[-1][\"directors\"]?\n",
    "small_data[-1][\"directors\"]"
   ]
  },
  {
   "cell_type": "code",
   "execution_count": 18,
   "id": "9a74981b",
   "metadata": {},
   "outputs": [],
   "source": [
    "movies = get_movies(\"movies.csv\", \"mapping.csv\")\n"
   ]
  },
  {
   "cell_type": "code",
   "execution_count": 19,
   "id": "12bc550d",
   "metadata": {},
   "outputs": [
    {
     "data": {
      "text/plain": [
       "[{'title': 'Ambassador Bill',\n",
       "  'year': 1931,\n",
       "  'genres': ['Comedy'],\n",
       "  'duration': 70,\n",
       "  'directors': ['Sam Taylor'],\n",
       "  'actors': ['Will Rogers',\n",
       "   'Marguerite Churchill',\n",
       "   'Greta Nissen',\n",
       "   'Tad Alexander'],\n",
       "  'rating': 6.2},\n",
       " {'title': 'The Etruscan Smile',\n",
       "  'year': 2018,\n",
       "  'genres': ['Drama'],\n",
       "  'duration': 107,\n",
       "  'directors': ['Oded Binnun', 'Mihal Brezis'],\n",
       "  'actors': ['Brian Cox', 'JJ Feild', 'Thora Birch', 'Rosanna Arquette'],\n",
       "  'rating': 6.8},\n",
       " {'title': 'In Old Oklahoma',\n",
       "  'year': 1943,\n",
       "  'genres': ['Romance', 'Western'],\n",
       "  'duration': 102,\n",
       "  'directors': ['Albert S. Rogell'],\n",
       "  'actors': ['John Wayne',\n",
       "   'Martha Scott',\n",
       "   'Albert Dekker',\n",
       "   \"George 'Gabby' Hayes\",\n",
       "   'Marjorie Rambeau'],\n",
       "  'rating': 6.5}]"
      ]
     },
     "execution_count": 19,
     "metadata": {},
     "output_type": "execute_result"
    }
   ],
   "source": [
    "#Q12: What are the movies between the indices 2017 and 2019 (inclusive) in movies?\n",
    "movies_between_indices_2017_and_2019=[]\n",
    "movies_between_indices_2017_and_2019.append(movies[2017])\n",
    "movies_between_indices_2017_and_2019.append(movies[2018])\n",
    "movies_between_indices_2017_and_2019.append(movies[2019])\n",
    "\n",
    "movies_between_indices_2017_and_2019"
   ]
  },
  {
   "cell_type": "code",
   "execution_count": 20,
   "id": "8fda7432",
   "metadata": {},
   "outputs": [
    {
     "data": {
      "text/plain": [
       "[{'title': 'Battle Bots',\n",
       "  'year': 2018,\n",
       "  'genres': ['Action', 'Adventure', 'Sci-Fi'],\n",
       "  'duration': 67,\n",
       "  'directors': ['Mark Polonia'],\n",
       "  'actors': ['Danielle Donahue', 'Jeff Kirkendall', 'Marie DeLorenzo'],\n",
       "  'rating': 1.9},\n",
       " {'title': 'Inescapable',\n",
       "  'year': 2003,\n",
       "  'genres': ['Drama'],\n",
       "  'duration': 82,\n",
       "  'directors': ['Helen Lesnick'],\n",
       "  'actors': ['Natalie Anderson', 'Tanna Frederick', 'Athena Demos'],\n",
       "  'rating': 4.2}]"
      ]
     },
     "execution_count": 20,
     "metadata": {},
     "output_type": "execute_result"
    }
   ],
   "source": [
    "#Q13: What are the last 2 rows in movies?\n",
    "movies[-2:]"
   ]
  },
  {
   "cell_type": "code",
   "execution_count": 21,
   "id": "a23a0fee",
   "metadata": {},
   "outputs": [],
   "source": [
    "def search_bar(movies, keyword):\n",
    "    '''given a list of movie dictionaries and a keyword, \n",
    "    returns a list of movies that contains the keyword'''\n",
    "    idx = 0\n",
    "    while idx < len(movies):\n",
    "        movie = movies[idx]\n",
    "        if (keyword not in movie['title']) and (keyword not in movie[\"genres\"]) and  (keyword not in movie[\"directors\"]) and (keyword not in movie[\"actors\"]):\n",
    "            movies.pop(idx)\n",
    "        else:\n",
    "            idx += 1\n",
    "    return movies"
   ]
  },
  {
   "cell_type": "code",
   "execution_count": 22,
   "id": "bfe71ac6",
   "metadata": {},
   "outputs": [
    {
     "data": {
      "text/plain": [
       "[{'title': 'Harry Potter and the Deathly Hallows: Part 1',\n",
       "  'year': 2010,\n",
       "  'genres': ['Adventure', 'Family', 'Fantasy'],\n",
       "  'duration': 146,\n",
       "  'directors': ['David Yates'],\n",
       "  'actors': ['Bill Nighy', 'Emma Watson', 'Richard Griffiths'],\n",
       "  'rating': 7.7},\n",
       " {'title': 'Harry Potter and the Chamber of Secrets',\n",
       "  'year': 2002,\n",
       "  'genres': ['Adventure', 'Family', 'Fantasy'],\n",
       "  'duration': 161,\n",
       "  'directors': ['Chris Columbus'],\n",
       "  'actors': ['Daniel Radcliffe', 'Rupert Grint', 'Emma Watson'],\n",
       "  'rating': 7.4},\n",
       " {'title': 'Harry Potter and the Deathly Hallows: Part 2',\n",
       "  'year': 2011,\n",
       "  'genres': ['Adventure', 'Drama', 'Fantasy'],\n",
       "  'duration': 130,\n",
       "  'directors': ['David Yates'],\n",
       "  'actors': ['Ralph Fiennes', 'Michael Gambon'],\n",
       "  'rating': 8.1},\n",
       " {'title': 'Harry Potter and the Half-Blood Prince',\n",
       "  'year': 2009,\n",
       "  'genres': ['Action', 'Adventure', 'Family'],\n",
       "  'duration': 153,\n",
       "  'directors': ['David Yates'],\n",
       "  'actors': ['Daniel Radcliffe', 'Michael Gambon', 'Dave Legeno'],\n",
       "  'rating': 7.6},\n",
       " {'title': 'Harry Potter and the Prisoner of Azkaban',\n",
       "  'year': 2004,\n",
       "  'genres': ['Adventure', 'Family', 'Fantasy'],\n",
       "  'duration': 142,\n",
       "  'directors': ['Alfonso Cuarón'],\n",
       "  'actors': ['Daniel Radcliffe', 'Richard Griffiths', 'Pam Ferris'],\n",
       "  'rating': 7.9},\n",
       " {'title': 'Harry Potter and the Order of the Phoenix',\n",
       "  'year': 2007,\n",
       "  'genres': ['Action', 'Adventure', 'Family'],\n",
       "  'duration': 138,\n",
       "  'directors': ['David Yates'],\n",
       "  'actors': ['Daniel Radcliffe', 'Harry Melling'],\n",
       "  'rating': 7.5},\n",
       " {'title': 'Harry Potter and the Goblet of Fire',\n",
       "  'year': 2005,\n",
       "  'genres': ['Adventure', 'Family', 'Fantasy'],\n",
       "  'duration': 157,\n",
       "  'directors': ['Mike Newell'],\n",
       "  'actors': ['Eric Sykes',\n",
       "   'Timothy Spall',\n",
       "   'David Tennant',\n",
       "   'Daniel Radcliffe',\n",
       "   'Emma Watson'],\n",
       "  'rating': 7.7},\n",
       " {'title': \"Harry Potter and the Sorcerer's Stone\",\n",
       "  'year': 2001,\n",
       "  'genres': ['Adventure', 'Family', 'Fantasy'],\n",
       "  'duration': 152,\n",
       "  'directors': ['Chris Columbus'],\n",
       "  'actors': ['Richard Harris',\n",
       "   'Maggie Smith',\n",
       "   'Robbie Coltrane',\n",
       "   'Daniel Radcliffe',\n",
       "   'Fiona Shaw'],\n",
       "  'rating': 7.6}]"
      ]
     },
     "execution_count": 22,
     "metadata": {},
     "output_type": "execute_result"
    }
   ],
   "source": [
    "#Q14: List all the movies in the dataset, that contain \"Harry Potter\" in the title.\n",
    "movies_copy = copy.copy(movies)\n",
    "search_bar(movies_copy, \"Harry Potter\")"
   ]
  },
  {
   "cell_type": "code",
   "execution_count": 23,
   "id": "aad61d25",
   "metadata": {},
   "outputs": [
    {
     "data": {
      "text/plain": [
       "['Crime',\n",
       " 'Family',\n",
       " 'Sci-Fi',\n",
       " 'Comedy',\n",
       " 'Drama',\n",
       " 'Mystery',\n",
       " 'Thriller',\n",
       " 'Adventure',\n",
       " 'Romance',\n",
       " 'Action']"
      ]
     },
     "execution_count": 23,
     "metadata": {},
     "output_type": "execute_result"
    }
   ],
   "source": [
    "#Q15: Which genres of movies did the actor Paul Walker ever play in?\n",
    "movies_copy_2 = copy.copy(movies)\n",
    "movies_with_Paul_Walker= search_bar(movies_copy_2, \"Paul Walker\")\n",
    "genres_of_Paul_Walker_actor=[]\n",
    "for idx in range(len(movies_with_Paul_Walker)):\n",
    "        movie = movies_with_Paul_Walker[idx]\n",
    "        if (\"Paul Walker\" in movie[\"actors\"]):\n",
    "            genres_of_Paul_Walker_actor += movie[\"genres\"]\n",
    "genres_of_Paul_Walker_actor_2= list(set(genres_of_Paul_Walker_actor))\n",
    "genres_of_Paul_Walker_actor_2"
   ]
  },
  {
   "cell_type": "code",
   "execution_count": 24,
   "id": "a1d33c33",
   "metadata": {},
   "outputs": [],
   "source": [
    "def genre_search_bar(movies):\n",
    "    genres_dict={}\n",
    "    for i in range(len(movies)):\n",
    "        movie = movies[i]\n",
    "        list_of_genres= movie[\"genres\"]\n",
    "        for genre in list_of_genres:\n",
    "            if genre not in genres_dict:\n",
    "                genres_dict[genre]= []\n",
    "                genres_dict[genre].append(movie)\n",
    "            else:\n",
    "                genres_dict[genre].append(movie)\n",
    "\n",
    "    return genres_dict"
   ]
  },
  {
   "cell_type": "code",
   "execution_count": 25,
   "id": "d01a157e",
   "metadata": {},
   "outputs": [
    {
     "data": {
      "text/plain": [
       "['Action',\n",
       " 'Horror',\n",
       " 'Sci-Fi',\n",
       " 'Crime',\n",
       " 'Thriller',\n",
       " 'Comedy',\n",
       " 'Drama',\n",
       " 'Romance',\n",
       " 'History',\n",
       " 'Adventure',\n",
       " 'Western',\n",
       " 'Family',\n",
       " 'Fantasy',\n",
       " 'War',\n",
       " 'Sport',\n",
       " 'Biography',\n",
       " 'Mystery',\n",
       " 'Film-Noir',\n",
       " 'Music',\n",
       " 'Animation',\n",
       " 'Musical',\n",
       " 'Reality-TV',\n",
       " 'Documentary',\n",
       " 'News']"
      ]
     },
     "execution_count": 25,
     "metadata": {},
     "output_type": "execute_result"
    }
   ],
   "source": [
    "#Q16: List the unique genres in our dataset.\n",
    "movies_by_genres = genre_search_bar(movies)\n",
    "genres_list = list(movies_by_genres.keys())\n",
    "genres_list"
   ]
  },
  {
   "cell_type": "code",
   "execution_count": 26,
   "id": "0838a7dd",
   "metadata": {},
   "outputs": [
    {
     "data": {
      "text/plain": [
       "5611"
      ]
     },
     "execution_count": 26,
     "metadata": {},
     "output_type": "execute_result"
    }
   ],
   "source": [
    "#Q17: How many Action movies do we have the dataset?\n",
    "len(movies_by_genres[\"Action\"])"
   ]
  },
  {
   "cell_type": "code",
   "execution_count": 27,
   "id": "1246ca24",
   "metadata": {},
   "outputs": [
    {
     "data": {
      "text/plain": [
       "5.721581311769985"
      ]
     },
     "execution_count": 27,
     "metadata": {},
     "output_type": "execute_result"
    }
   ],
   "source": [
    "#Q18: What is the average rating of Comedy movies?\n",
    "Comedy_movies = movies_by_genres[\"Comedy\"]\n",
    "total = 0\n",
    "for i in range(len(Comedy_movies)):\n",
    "    movie= Comedy_movies[i]\n",
    "    total += movie[\"rating\"]\n",
    "average = total / len(Comedy_movies)\n",
    "average"
   ]
  },
  {
   "cell_type": "code",
   "execution_count": 28,
   "id": "e0804005",
   "metadata": {},
   "outputs": [
    {
     "data": {
      "text/plain": [
       "['Drama',\n",
       " 'Mystery',\n",
       " 'Thriller',\n",
       " 'Action',\n",
       " 'History',\n",
       " 'Adventure',\n",
       " 'Sci-Fi',\n",
       " 'Crime']"
      ]
     },
     "execution_count": 28,
     "metadata": {},
     "output_type": "execute_result"
    }
   ],
   "source": [
    "#Q19: List all the genres of movies that Christopher Nolan has ever acted/directed in.\n",
    "movies_copy_3 = copy.copy(movies)\n",
    "\n",
    "movies_with_Christopher_Nolan = search_bar(movies_copy_3, \"Christopher Nolan\")\n",
    "movie_by_genre_Christopher_Nolan_dict = genre_search_bar(movies_with_Christopher_Nolan)\n",
    "list(movie_by_genre_Christopher_Nolan_dict.keys())"
   ]
  },
  {
   "cell_type": "code",
   "execution_count": 29,
   "id": "30199a2d",
   "metadata": {},
   "outputs": [
    {
     "data": {
      "text/plain": [
       "'Drama'"
      ]
     },
     "execution_count": 29,
     "metadata": {},
     "output_type": "execute_result"
    }
   ],
   "source": [
    "#Q20: Which movie genre does the actress Kristen Stewart play the most?\n",
    "movies_copy_4 = copy.copy(movies)\n",
    "\n",
    "movies_with_Kristen_Stewart = search_bar(movies_copy_4, \"Kristen Stewart\")\n",
    "\n",
    "for movie in movies_with_Kristen_Stewart: #eliminate movies that Kristen Stewart is only a director, not an acttress\n",
    "    if \"Kristen Stewart\" not in movie[\"actors\"]:\n",
    "        movies_with_Kristen_Stewart.pop(movie)\n",
    "#movies_with_Kristen_Stewart\n",
    "\n",
    "movie_by_genre_Kristen_Stewart = genre_search_bar(movies_with_Kristen_Stewart)\n",
    "genre_keys = movie_by_genre_Kristen_Stewart.keys()\n",
    "best_genre = None\n",
    "best_genre_length = 0\n",
    "\n",
    "for gerne in genre_keys:\n",
    "    key_length = len(movie_by_genre_Kristen_Stewart[gerne])\n",
    "    if best_genre == None or key_length > best_genre_length:\n",
    "        best_genre = gerne\n",
    "        best_genre_length = key_length\n",
    "best_genre\n"
   ]
  },
  {
   "cell_type": "code",
   "execution_count": null,
   "id": "0fe6ff2d",
   "metadata": {},
   "outputs": [],
   "source": []
  }
 ],
 "metadata": {
  "kernelspec": {
   "display_name": "Python 3",
   "language": "python",
   "name": "python3"
  },
  "language_info": {
   "codemirror_mode": {
    "name": "ipython",
    "version": 3
   },
   "file_extension": ".py",
   "mimetype": "text/x-python",
   "name": "python",
   "nbconvert_exporter": "python",
   "pygments_lexer": "ipython3",
   "version": "3.8.8"
  }
 },
 "nbformat": 4,
 "nbformat_minor": 5
}
