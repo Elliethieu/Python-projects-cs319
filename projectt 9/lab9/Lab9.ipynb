{
 "cells": [
  {
   "cell_type": "code",
   "execution_count": 1,
   "id": "e2d84445",
   "metadata": {},
   "outputs": [],
   "source": [
    "import matplotlib\n",
    "import pandas\n",
    "\n",
    "def plot_dict(d, label=\"Please Label Me!!!\"):\n",
    "    ax = pandas.Series(d).sort_index().plot.bar(color=\"black\", fontsize=16)\n",
    "    ax.set_ylabel(label, fontsize=16)"
   ]
  },
  {
   "cell_type": "code",
   "execution_count": 3,
   "id": "6671318b",
   "metadata": {},
   "outputs": [
    {
     "data": {
      "image/png": "[encoded data removed]",
      "text/plain": [
       "<Figure size 432x288 with 1 Axes>"
      ]
     },
     "metadata": {
      "needs_background": "light"
     },
     "output_type": "display_data"
    }
   ],
   "source": [
    "goals = {\"Ada Lovelace\": 5, \"Rose Lavelle\": 22, \"Marta Vieira da Silva\": 113}\n",
    "plot_dict(goals, \"number of goals\")"
   ]
  },
  {
   "cell_type": "code",
   "execution_count": 5,
   "id": "e13c7ee9",
   "metadata": {},
   "outputs": [
    {
     "name": "stdout",
     "output_type": "stream",
     "text": [
      "year\tdecade\n",
      "1999\t1991 to 2000\n",
      "2000\t1991 to 2000\n",
      "2001\t2001 to 2010\n",
      "2002\t2001 to 2010\n",
      "2003\t2001 to 2010\n",
      "2004\t2001 to 2010\n",
      "2005\t2001 to 2010\n",
      "2006\t2001 to 2010\n",
      "2007\t2001 to 2010\n",
      "2008\t2001 to 2010\n",
      "2009\t2001 to 2010\n",
      "2010\t2001 to 2010\n",
      "2011\t2011 to 2020\n"
     ]
    }
   ],
   "source": [
    "def year_to_decade(year):\n",
    "    if year % 10 == 0:\n",
    "        return str(year - 9) + \" to \" +str(year)# complete this line\n",
    "    else:\n",
    "        return str(year - year % 10 + 1) + \" to \"+ str(year - year % 10 + 10)# complete this line\n",
    "\n",
    "print(\"year\", \"decade\", sep=\"\\t\")\n",
    "for year in range(1999, 2012):\n",
    "    print(year, year_to_decade(year), sep=\"\\t\")"
   ]
  },
  {
   "cell_type": "code",
   "execution_count": 6,
   "id": "d4a08008",
   "metadata": {},
   "outputs": [
    {
     "data": {
      "text/plain": [
       "{'1991 to 2000': 4, '2011 to 2020': 3, '2001 to 2010': 4}"
      ]
     },
     "execution_count": 6,
     "metadata": {},
     "output_type": "execute_result"
    }
   ],
   "source": [
    "# given a list of years, make a dict of frequency per decade\n",
    "years = [1997, 1995, 2013, 2014, 2006, 2006, 2004, 2019, 1999, 2000, 2010]\n",
    "\n",
    "decade_dict = {} # the key is the decade, the value is the frequency\n",
    "for year in years:\n",
    "    decade = year_to_decade(year)\n",
    "    if decade not in decade_dict:\n",
    "        decade_dict[decade]=1\n",
    "    else:\n",
    "        decade_dict[decade]+=1\n",
    "    \n",
    "decade_dict"
   ]
  },
  {
   "cell_type": "code",
   "execution_count": 7,
   "id": "fd5dcfcc",
   "metadata": {},
   "outputs": [
    {
     "data": {
      "text/plain": [
       "{'1991 to 2000': 4, '2001 to 2010': 4, '2011 to 2020': 3}"
      ]
     },
     "execution_count": 7,
     "metadata": {},
     "output_type": "execute_result"
    }
   ],
   "source": [
    "dict(sorted(decade_dict.items()))\n"
   ]
  },
  {
   "cell_type": "code",
   "execution_count": 8,
   "id": "5f0b105e",
   "metadata": {},
   "outputs": [
    {
     "data": {
      "text/plain": [
       "{'2011 to 2020': 3, '1991 to 2000': 4, '2001 to 2010': 4}"
      ]
     },
     "execution_count": 8,
     "metadata": {},
     "output_type": "execute_result"
    }
   ],
   "source": [
    "dict(sorted(decade_dict.items(), key = lambda d: d[1]))\n"
   ]
  },
  {
   "cell_type": "code",
   "execution_count": 9,
   "id": "4e6203ef",
   "metadata": {},
   "outputs": [],
   "source": [
    "players = [{'first': 'Ada',\n",
    "  'last': 'Lovelace',\n",
    "  'country': 'England',\n",
    "  'positions': ['Defender', 'Goalie', 'Midfield'],\n",
    "  'jersey': 12,\n",
    "  'goals': 5},\n",
    " {'first': 'Rose',\n",
    "  'last': 'Lavelle',\n",
    "  'country': 'USA',\n",
    "  'positions': ['Midfield'],\n",
    "  'jersey': 16,\n",
    "  'goals': 22},\n",
    " {'first': 'Marta',\n",
    "  'last': 'Vieira da Silva',\n",
    "  'country': 'Brazil',\n",
    "  'positions': ['Midfield', 'Forward'],\n",
    "  'jersey': 10,\n",
    "  'goals': 113},\n",
    "{'first': 'Ada',\n",
    "    'last': 'Hegerberg',\n",
    "    'country': 'Norway',\n",
    "    'positions': ['Forward', 'Striker'],\n",
    "    'jersey': 14,\n",
    "    'goals': 38}]"
   ]
  },
  {
   "cell_type": "code",
   "execution_count": 10,
   "id": "5ec25c25",
   "metadata": {},
   "outputs": [
    {
     "data": {
      "text/plain": [
       "[{'first': 'Marta',\n",
       "  'last': 'Vieira da Silva',\n",
       "  'country': 'Brazil',\n",
       "  'positions': ['Midfield', 'Forward'],\n",
       "  'jersey': 10,\n",
       "  'goals': 113},\n",
       " {'first': 'Ada',\n",
       "  'last': 'Lovelace',\n",
       "  'country': 'England',\n",
       "  'positions': ['Defender', 'Goalie', 'Midfield'],\n",
       "  'jersey': 12,\n",
       "  'goals': 5},\n",
       " {'first': 'Ada',\n",
       "  'last': 'Hegerberg',\n",
       "  'country': 'Norway',\n",
       "  'positions': ['Forward', 'Striker'],\n",
       "  'jersey': 14,\n",
       "  'goals': 38},\n",
       " {'first': 'Rose',\n",
       "  'last': 'Lavelle',\n",
       "  'country': 'USA',\n",
       "  'positions': ['Midfield'],\n",
       "  'jersey': 16,\n",
       "  'goals': 22}]"
      ]
     },
     "execution_count": 10,
     "metadata": {},
     "output_type": "execute_result"
    }
   ],
   "source": [
    "players_by_jersey = sorted(players, key = lambda p: p['jersey'])\n",
    "players_by_jersey"
   ]
  },
  {
   "cell_type": "code",
   "execution_count": 11,
   "id": "dddadbcd",
   "metadata": {},
   "outputs": [
    {
     "data": {
      "text/plain": [
       "[{'first': 'Marta',\n",
       "  'last': 'Vieira da Silva',\n",
       "  'country': 'Brazil',\n",
       "  'positions': ['Midfield', 'Forward'],\n",
       "  'jersey': 10,\n",
       "  'goals': 113},\n",
       " {'first': 'Ada',\n",
       "  'last': 'Hegerberg',\n",
       "  'country': 'Norway',\n",
       "  'positions': ['Forward', 'Striker'],\n",
       "  'jersey': 14,\n",
       "  'goals': 38},\n",
       " {'first': 'Rose',\n",
       "  'last': 'Lavelle',\n",
       "  'country': 'USA',\n",
       "  'positions': ['Midfield'],\n",
       "  'jersey': 16,\n",
       "  'goals': 22},\n",
       " {'first': 'Ada',\n",
       "  'last': 'Lovelace',\n",
       "  'country': 'England',\n",
       "  'positions': ['Defender', 'Goalie', 'Midfield'],\n",
       "  'jersey': 12,\n",
       "  'goals': 5}]"
      ]
     },
     "execution_count": 11,
     "metadata": {},
     "output_type": "execute_result"
    }
   ],
   "source": [
    "players_by_goals = sorted(players, key = lambda p: p['goals'],reverse=True)\n",
    "players_by_goals"
   ]
  },
  {
   "cell_type": "code",
   "execution_count": 13,
   "id": "b051dc16",
   "metadata": {},
   "outputs": [
    {
     "data": {
      "text/plain": [
       "{'Defender': [{'first': 'Ada',\n",
       "   'last': 'Lovelace',\n",
       "   'country': 'England',\n",
       "   'positions': ['Defender', 'Goalie', 'Midfield'],\n",
       "   'jersey': 12,\n",
       "   'goals': 5}],\n",
       " 'Goalie': [{'first': 'Ada',\n",
       "   'last': 'Lovelace',\n",
       "   'country': 'England',\n",
       "   'positions': ['Defender', 'Goalie', 'Midfield'],\n",
       "   'jersey': 12,\n",
       "   'goals': 5}],\n",
       " 'Midfield': [{'first': 'Ada',\n",
       "   'last': 'Lovelace',\n",
       "   'country': 'England',\n",
       "   'positions': ['Defender', 'Goalie', 'Midfield'],\n",
       "   'jersey': 12,\n",
       "   'goals': 5},\n",
       "  {'first': 'Rose',\n",
       "   'last': 'Lavelle',\n",
       "   'country': 'USA',\n",
       "   'positions': ['Midfield'],\n",
       "   'jersey': 16,\n",
       "   'goals': 22},\n",
       "  {'first': 'Marta',\n",
       "   'last': 'Vieira da Silva',\n",
       "   'country': 'Brazil',\n",
       "   'positions': ['Midfield', 'Forward'],\n",
       "   'jersey': 10,\n",
       "   'goals': 113}],\n",
       " 'Forward': [{'first': 'Marta',\n",
       "   'last': 'Vieira da Silva',\n",
       "   'country': 'Brazil',\n",
       "   'positions': ['Midfield', 'Forward'],\n",
       "   'jersey': 10,\n",
       "   'goals': 113},\n",
       "  {'first': 'Ada',\n",
       "   'last': 'Hegerberg',\n",
       "   'country': 'Norway',\n",
       "   'positions': ['Forward', 'Striker'],\n",
       "   'jersey': 14,\n",
       "   'goals': 38}],\n",
       " 'Striker': [{'first': 'Ada',\n",
       "   'last': 'Hegerberg',\n",
       "   'country': 'Norway',\n",
       "   'positions': ['Forward', 'Striker'],\n",
       "   'jersey': 14,\n",
       "   'goals': 38}]}"
      ]
     },
     "execution_count": 13,
     "metadata": {},
     "output_type": "execute_result"
    }
   ],
   "source": [
    "buckets = {}\n",
    "for player in players:\n",
    "    position_list = player['positions']\n",
    "    for position in position_list:\n",
    "        if position not in buckets:\n",
    "            buckets[position]=[]\n",
    "        buckets[position].append(player)\n",
    "        # make an empty list if this position is not in the dictionary\n",
    "        # add this player to this bucket\n",
    "buckets "
   ]
  },
  {
   "cell_type": "code",
   "execution_count": 14,
   "id": "91090f39",
   "metadata": {},
   "outputs": [],
   "source": [
    "heart_rates = {\"Alice\": [67, 59, 84, 88],\n",
    "         \"Bob\": [59, 73, 67, 80, 79],\n",
    "         \"Jana\": [67, 84, 71, 68 , 70]}"
   ]
  },
  {
   "cell_type": "code",
   "execution_count": 16,
   "id": "22bbad41",
   "metadata": {},
   "outputs": [
    {
     "name": "stdout",
     "output_type": "stream",
     "text": [
      "44\n",
      "18.5\n"
     ]
    }
   ],
   "source": [
    "def median(items):\n",
    "    items.sort() \n",
    "    if len(items) % 2 == 1:\n",
    "        return items[len(items)//2+1] # change this\n",
    "    else:\n",
    "        first_middle = items[(len(items) // 2) - 1]\n",
    "        second_middle = items[len(items) // 2]\n",
    "        median = (first_middle+second_middle)/2 # change this\n",
    "        return median \n",
    "    \n",
    "print(median([44, 40, 45, 38, 42]))\n",
    "print(median([17, 18, 20, 19]))"
   ]
  },
  {
   "cell_type": "code",
   "execution_count": 17,
   "id": "31263345",
   "metadata": {},
   "outputs": [
    {
     "data": {
      "text/plain": [
       "[75.5, 79, 71]"
      ]
     },
     "execution_count": 17,
     "metadata": {},
     "output_type": "execute_result"
    }
   ],
   "source": [
    "# make a list of just the medians using list comprehension\n",
    "med_list = [median(v) for (k, v) in heart_rates.items()]\n",
    "med_list"
   ]
  },
  {
   "cell_type": "code",
   "execution_count": 18,
   "id": "97b22718",
   "metadata": {},
   "outputs": [
    {
     "data": {
      "text/plain": [
       "{'Alice': 75.5, 'Bob': 79, 'Jana': 71}"
      ]
     },
     "execution_count": 18,
     "metadata": {},
     "output_type": "execute_result"
    }
   ],
   "source": [
    "med_hr_dict = {k: median(v) for (k, v) in heart_rates.items()}\n",
    "med_hr_dict"
   ]
  },
  {
   "cell_type": "code",
   "execution_count": null,
   "id": "1229b718",
   "metadata": {},
   "outputs": [],
   "source": []
  }
 ],
 "metadata": {
  "kernelspec": {
   "display_name": "Python 3",
   "language": "python",
   "name": "python3"
  },
  "language_info": {
   "codemirror_mode": {
    "name": "ipython",
    "version": 3
   },
   "file_extension": ".py",
   "mimetype": "text/x-python",
   "name": "python",
   "nbconvert_exporter": "python",
   "pygments_lexer": "ipython3",
   "version": "3.8.8"
  }
 },
 "nbformat": 4,
 "nbformat_minor": 5
}
