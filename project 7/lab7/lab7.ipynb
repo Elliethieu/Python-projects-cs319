{
 "cells": [
  {
   "cell_type": "code",
   "execution_count": 1,
   "id": "0e8d98de",
   "metadata": {},
   "outputs": [
    {
     "data": {
      "text/plain": [
       "{'t': 4,\n",
       " 'h': 2,\n",
       " 'r': 3,\n",
       " 'e': 11,\n",
       " ',': 12,\n",
       " ' ': 12,\n",
       " 'd': 1,\n",
       " 'o': 5,\n",
       " 'n': 6,\n",
       " 'f': 4,\n",
       " 'u': 1,\n",
       " 'i': 6,\n",
       " 'v': 3,\n",
       " 'w': 1,\n",
       " 's': 1,\n",
       " 'x': 1}"
      ]
     },
     "execution_count": 1,
     "metadata": {},
     "output_type": "execute_result"
    }
   ],
   "source": [
    "# counting characters in a string\n",
    "PI = \"three, dot, one, four, one, five, nine, two, six, five, three, five, nine\"\n",
    "counts = {} # key: English alphabet (ex: \"e\"), value: count of occurrence of alphabet in string PI (ex: 11)\n",
    "for char in PI:\n",
    "    if not char in counts:\n",
    "        counts[char] = 1\n",
    "\t# you are encountering a new alphabet\n",
    "\t# so you should add a new key-value pair to your counts dictionary\n",
    "\t# first encounter of alphabet => corresponding count should be 1\n",
    "     #   counts[????] = ????\n",
    "    else:\n",
    "\t# you have already encountered this alphabet\n",
    "\t# so how should you update corresponding count?\n",
    "        counts[char] += 1\n",
    "counts"
   ]
  },
  {
   "cell_type": "code",
   "execution_count": 2,
   "id": "b1fff4ff",
   "metadata": {},
   "outputs": [
    {
     "data": {
      "text/plain": [
       "{'three': 2,\n",
       " 'dot': 1,\n",
       " 'one': 2,\n",
       " 'four': 1,\n",
       " 'five': 3,\n",
       " 'nine': 2,\n",
       " 'two': 1,\n",
       " 'six': 1}"
      ]
     },
     "execution_count": 2,
     "metadata": {},
     "output_type": "execute_result"
    }
   ],
   "source": [
    "# counting words in a string\n",
    "PI = \"three, dot, one, four, one, five, nine, two, six, five, three, five, nine\"\n",
    "counts = {} #key: word (ex: \"three\"), value: count of occurrence (ex: 2)\n",
    "for word in PI.split(\", \"):\n",
    "    if word not in counts:\n",
    "        counts[word]=1\n",
    "    else:\n",
    "        counts[word]+=1\n",
    "counts"
   ]
  },
  {
   "cell_type": "code",
   "execution_count": 4,
   "id": "6cc824a0",
   "metadata": {},
   "outputs": [
    {
     "data": {
      "text/plain": [
       "{'two': 'dos', 'zero': 'cero'}"
      ]
     },
     "execution_count": 4,
     "metadata": {},
     "output_type": "execute_result"
    }
   ],
   "source": [
    "# dict from list of keys and values\n",
    "keys = [\"two\", \"zero\"]\n",
    "vals = [\"dos\", \"cero\"]\n",
    "english_to_spanish = {} # empty dictionary #key: English word, value: Spanish word\n",
    "for i in range(len(keys)):\n",
    "    english_to_spanish[keys[i]] = vals[i]\n",
    "english_to_spanish"
   ]
  },
  {
   "cell_type": "code",
   "execution_count": 5,
   "id": "089f7232",
   "metadata": {},
   "outputs": [
    {
     "data": {
      "text/plain": [
       "'I love Comp Sci dos dos cero'"
      ]
     },
     "execution_count": 5,
     "metadata": {},
     "output_type": "execute_result"
    }
   ],
   "source": [
    "words = \"I love Comp Sci two two zero\".split(\" \")\n",
    "for i in range(len(words)):\n",
    "    default = words[i] # default is to not translate it\n",
    "    words[i] = english_to_spanish.get(words[i], default)#change the item words[i] in the list. with the dictionary. \n",
    "    #if there is the word, use the key that we look up from the value. Else, keep the word\n",
    "\" \".join(words) #join the list back to string"
   ]
  },
  {
   "cell_type": "code",
   "execution_count": 6,
   "id": "70bd3cbc",
   "metadata": {},
   "outputs": [
    {
     "data": {
      "text/plain": [
       "{'dos': 'two', 'cero': 'zero'}"
      ]
     },
     "execution_count": 6,
     "metadata": {},
     "output_type": "execute_result"
    }
   ],
   "source": [
    "# flipping keys and values\n",
    "sp2en = {}\n",
    "for en in english_to_spanish:\n",
    "    sp = english_to_spanish[en]\n",
    "    sp2en[sp] = en\n",
    "sp2en"
   ]
  },
  {
   "cell_type": "code",
   "execution_count": 11,
   "id": "99f5cc13",
   "metadata": {},
   "outputs": [
    {
     "data": {
      "text/plain": [
       "{'A': 0.5, 'B': 0.5, 'C': 0.75}"
      ]
     },
     "execution_count": 11,
     "metadata": {},
     "output_type": "execute_result"
    }
   ],
   "source": [
    "numerators = {\"A\": 1, \"B\": 2, \"C\": 3}\n",
    "denominators = {\"A\": 2, \"B\": 4, \"C\": 4}\n",
    "result = {}\n",
    "for key in numerators:\n",
    "    result[key] = numerators[key] / denominators[key]\n",
    "result\n",
    "#numerators.keys"
   ]
  },
  {
   "cell_type": "code",
   "execution_count": 14,
   "id": "8e8b2d14",
   "metadata": {},
   "outputs": [
    {
     "name": "stdout",
     "output_type": "stream",
     "text": [
      "2016 **********\n",
      "2017 **************\n",
      "2018 *************\n",
      "2019 ****************\n",
      "2020 ******************\n",
      "2021 *************************\n"
     ]
    }
   ],
   "source": [
    "# print a dictionary sorted by keys\n",
    "incidents = {2017: 14, 2020: 18, 2018: 13, 2019: 16, 2021: 25, 2016: 10}\n",
    "keys = sorted(list(incidents.keys()))\n",
    "for k in keys:\n",
    "    print(k, incidents[k]*\"*\")"
   ]
  },
  {
   "cell_type": "code",
   "execution_count": 15,
   "id": "86a5dd5f",
   "metadata": {},
   "outputs": [
    {
     "name": "stdout",
     "output_type": "stream",
     "text": [
      "Year 2021 had 25 incidents (the max)\n"
     ]
    }
   ],
   "source": [
    "# find the best key\n",
    "incidents = {2017: 14, 2020: 18, 2018: 13, 2019: 16, 2021: 25, 2016: 10}\n",
    "best_key = None\n",
    "for key in incidents:\n",
    "    if best_key == None or incidents[key] > incidents[best_key]:\n",
    "        best_key = key\n",
    "print(\"Year\", best_key, \"had\", incidents[best_key], \"incidents (the max)\")"
   ]
  },
  {
   "cell_type": "code",
   "execution_count": null,
   "id": "78e57c9d",
   "metadata": {},
   "outputs": [],
   "source": []
  }
 ],
 "metadata": {
  "kernelspec": {
   "display_name": "Python 3",
   "language": "python",
   "name": "python3"
  },
  "language_info": {
   "codemirror_mode": {
    "name": "ipython",
    "version": 3
   },
   "file_extension": ".py",
   "mimetype": "text/x-python",
   "name": "python",
   "nbconvert_exporter": "python",
   "pygments_lexer": "ipython3",
   "version": "3.8.8"
  }
 },
 "nbformat": 4,
 "nbformat_minor": 5
}
