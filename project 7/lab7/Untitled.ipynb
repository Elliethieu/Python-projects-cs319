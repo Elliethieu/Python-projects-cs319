{
 "cells": [
  {
   "cell_type": "code",
   "execution_count": 1,
   "id": "24d8efb1",
   "metadata": {},
   "outputs": [],
   "source": [
    "import copy\n",
    "groceries = [\n",
    "     {\"item\":\"milk\", \"price\":1.89},\n",
    "     {\"item\":\"bread\", \"price\":3.99},\n",
    "     {\"item\":\"apples\", \"price\":2.67}\n",
    "]"
   ]
  },
  {
   "cell_type": "code",
   "execution_count": 2,
   "id": "32333bf8",
   "metadata": {},
   "outputs": [
    {
     "ename": "TypeError",
     "evalue": "'module' object is not callable",
     "output_type": "error",
     "traceback": [
      "\u001b[1;31m---------------------------------------------------------------------------\u001b[0m",
      "\u001b[1;31mTypeError\u001b[0m                                 Traceback (most recent call last)",
      "\u001b[1;32m<ipython-input-2-6b5c2ec48de3>\u001b[0m in \u001b[0;36m<module>\u001b[1;34m\u001b[0m\n\u001b[1;32m----> 1\u001b[1;33m \u001b[0mgroceries_copy\u001b[0m \u001b[1;33m=\u001b[0m \u001b[0mcopy\u001b[0m\u001b[1;33m(\u001b[0m\u001b[0mgroceries\u001b[0m\u001b[1;33m)\u001b[0m\u001b[1;33m\u001b[0m\u001b[1;33m\u001b[0m\u001b[0m\n\u001b[0m",
      "\u001b[1;31mTypeError\u001b[0m: 'module' object is not callable"
     ]
    }
   ],
   "source": [
    "groceries_copy = copy(groceries)"
   ]
  },
  {
   "cell_type": "code",
   "execution_count": 3,
   "id": "3ef5f1b2",
   "metadata": {},
   "outputs": [],
   "source": [
    "def f(x, y):\n",
    "    return sum(x) + sum(y)\n",
    "\n",
    "list1 = [11, 23, 56]\n",
    "tuple1 = (45, 20, list1)\n",
    "tuple2 = (18, 7, 19)\n",
    "d = f(list1, tuple2)"
   ]
  },
  {
   "cell_type": "code",
   "execution_count": 9,
   "id": "3f27a29d",
   "metadata": {},
   "outputs": [
    {
     "data": {
      "text/plain": [
       "{134: 1}"
      ]
     },
     "execution_count": 9,
     "metadata": {},
     "output_type": "execute_result"
    }
   ],
   "source": [
    "trial_dict ={}\n",
    "trial_dict[d]=1\n",
    "trial_dict"
   ]
  },
  {
   "cell_type": "code",
   "execution_count": 18,
   "id": "c92357af",
   "metadata": {},
   "outputs": [
    {
     "name": "stdout",
     "output_type": "stream",
     "text": [
      "[{'a': 1, 'b': 2, 'c': 3}, 4, 5]\n",
      "1 4\n"
     ]
    }
   ],
   "source": [
    "s = {\"a\": 1, \"b\": 2, \"c\" : 3}\n",
    "test_l = [s, 4, 5]\n",
    "\n",
    "def foo(l):\n",
    "    l_copy = l[:]          # line 4\n",
    "    l_copy[0][\"a\"] = 1\n",
    "    l_copy[1] = 3\n",
    "\n",
    "foo(test_l)\n",
    "print(test_l)\n",
    "print( test_l[0][\"a\"], test_l[1])\n"
   ]
  },
  {
   "cell_type": "code",
   "execution_count": 19,
   "id": "35f79a58",
   "metadata": {},
   "outputs": [],
   "source": [
    "import json\n",
    "\n",
    "def read_json(path):\n",
    "    with open(path, encoding=\"utf-8\") as f: # f is a varaible \n",
    "        return json.load(f)                 # f represents a reference the JSON file\n",
    "    \n",
    "def write_json(path, data):\n",
    "    with open(path, 'w', encoding=\"utf-8\") as f:\n",
    "        json.dump(data, f, indent=2)"
   ]
  },
  {
   "cell_type": "code",
   "execution_count": 20,
   "id": "3cde7680",
   "metadata": {},
   "outputs": [],
   "source": [
    "c= [\"3\", 'three',]"
   ]
  },
  {
   "cell_type": "code",
   "execution_count": 21,
   "id": "7e3f8777",
   "metadata": {},
   "outputs": [],
   "source": [
    "write_json(\"c\", c)"
   ]
  },
  {
   "cell_type": "code",
   "execution_count": 22,
   "id": "8e23af33",
   "metadata": {},
   "outputs": [],
   "source": [
    "d = \"{ 3 : 'three' }\""
   ]
  },
  {
   "cell_type": "code",
   "execution_count": 23,
   "id": "8ef7552c",
   "metadata": {},
   "outputs": [],
   "source": [
    "write_json(\"d\", d)"
   ]
  },
  {
   "cell_type": "code",
   "execution_count": 24,
   "id": "f1a3c043",
   "metadata": {},
   "outputs": [],
   "source": [
    "b = { \"3\" : \"three\" }\n",
    "write_json(\"b\", b)"
   ]
  },
  {
   "cell_type": "code",
   "execution_count": 25,
   "id": "1844025d",
   "metadata": {},
   "outputs": [],
   "source": [
    "a = { 3: \"three\" }"
   ]
  },
  {
   "cell_type": "code",
   "execution_count": 26,
   "id": "54b59f1b",
   "metadata": {},
   "outputs": [],
   "source": [
    "write_json(\"a\", a)"
   ]
  },
  {
   "cell_type": "code",
   "execution_count": 27,
   "id": "04f96d4e",
   "metadata": {},
   "outputs": [],
   "source": [
    "write_json(\"a2\", { 3: \"three\" })"
   ]
  },
  {
   "cell_type": "code",
   "execution_count": 28,
   "id": "c702e816",
   "metadata": {},
   "outputs": [],
   "source": [
    "write_json(\"b2\", { \"3\" : \"three\" })"
   ]
  },
  {
   "cell_type": "code",
   "execution_count": 29,
   "id": "d5d307e1",
   "metadata": {},
   "outputs": [],
   "source": [
    "write_json(\"c2\", [\"3\", 'three',])"
   ]
  },
  {
   "cell_type": "code",
   "execution_count": 30,
   "id": "e67ffff1",
   "metadata": {},
   "outputs": [],
   "source": [
    "write_json(\"d2\", \"{ 3 : 'three' }\")"
   ]
  },
  {
   "cell_type": "code",
   "execution_count": 31,
   "id": "103eaf3b",
   "metadata": {},
   "outputs": [],
   "source": [
    "players = [ {\"name\":\"A\", \"score\":88},  \n",
    "            {\"name\":\"B\", \"score\": 91}, \n",
    "            {\"name\":\"C\", \"score\":99},\n",
    "            ... ]"
   ]
  },
  {
   "cell_type": "code",
   "execution_count": 32,
   "id": "c523ecae",
   "metadata": {},
   "outputs": [],
   "source": [
    "def min_score(people): \n",
    "    lowest = 100\n",
    "    for p in people: \n",
    "        if p[\"score\"] < lowest: \n",
    "            lowest = p[\"score\"]\n",
    "    return lowest"
   ]
  },
  {
   "cell_type": "code",
   "execution_count": 33,
   "id": "ca93df1a",
   "metadata": {},
   "outputs": [
    {
     "ename": "TypeError",
     "evalue": "'ellipsis' object is not subscriptable",
     "output_type": "error",
     "traceback": [
      "\u001b[1;31m---------------------------------------------------------------------------\u001b[0m",
      "\u001b[1;31mTypeError\u001b[0m                                 Traceback (most recent call last)",
      "\u001b[1;32m<ipython-input-33-bdd6544c96f2>\u001b[0m in \u001b[0;36m<module>\u001b[1;34m\u001b[0m\n\u001b[1;32m----> 1\u001b[1;33m \u001b[0mmin_score\u001b[0m\u001b[1;33m(\u001b[0m\u001b[0mplayers\u001b[0m\u001b[1;33m)\u001b[0m\u001b[1;33m\u001b[0m\u001b[1;33m\u001b[0m\u001b[0m\n\u001b[0m",
      "\u001b[1;32m<ipython-input-32-853ffd637e9d>\u001b[0m in \u001b[0;36mmin_score\u001b[1;34m(people)\u001b[0m\n\u001b[0;32m      2\u001b[0m     \u001b[0mlowest\u001b[0m \u001b[1;33m=\u001b[0m \u001b[1;36m100\u001b[0m\u001b[1;33m\u001b[0m\u001b[1;33m\u001b[0m\u001b[0m\n\u001b[0;32m      3\u001b[0m     \u001b[1;32mfor\u001b[0m \u001b[0mp\u001b[0m \u001b[1;32min\u001b[0m \u001b[0mpeople\u001b[0m\u001b[1;33m:\u001b[0m\u001b[1;33m\u001b[0m\u001b[1;33m\u001b[0m\u001b[0m\n\u001b[1;32m----> 4\u001b[1;33m         \u001b[1;32mif\u001b[0m \u001b[0mp\u001b[0m\u001b[1;33m[\u001b[0m\u001b[1;34m\"score\"\u001b[0m\u001b[1;33m]\u001b[0m \u001b[1;33m<\u001b[0m \u001b[0mlowest\u001b[0m\u001b[1;33m:\u001b[0m\u001b[1;33m\u001b[0m\u001b[1;33m\u001b[0m\u001b[0m\n\u001b[0m\u001b[0;32m      5\u001b[0m             \u001b[0mlowest\u001b[0m \u001b[1;33m=\u001b[0m \u001b[0mp\u001b[0m\u001b[1;33m[\u001b[0m\u001b[1;34m\"score\"\u001b[0m\u001b[1;33m]\u001b[0m\u001b[1;33m\u001b[0m\u001b[1;33m\u001b[0m\u001b[0m\n\u001b[0;32m      6\u001b[0m     \u001b[1;32mreturn\u001b[0m \u001b[0mlowest\u001b[0m\u001b[1;33m\u001b[0m\u001b[1;33m\u001b[0m\u001b[0m\n",
      "\u001b[1;31mTypeError\u001b[0m: 'ellipsis' object is not subscriptable"
     ]
    }
   ],
   "source": [
    "min_score(players)"
   ]
  },
  {
   "cell_type": "code",
   "execution_count": 34,
   "id": "6ae60bcd",
   "metadata": {},
   "outputs": [],
   "source": [
    "from collections import namedtuple\n",
    "\n",
    "Person = namedtuple(\"Person\", [\"fname\", \"lname\", \"age\"])\n",
    "p = Person(age = 30, lname = \"Smith\", fname = \"John\")"
   ]
  },
  {
   "cell_type": "code",
   "execution_count": 35,
   "id": "bc912833",
   "metadata": {},
   "outputs": [
    {
     "data": {
      "text/plain": [
       "Person(fname='John', lname='Smith', age=30)"
      ]
     },
     "execution_count": 35,
     "metadata": {},
     "output_type": "execute_result"
    }
   ],
   "source": [
    "p"
   ]
  },
  {
   "cell_type": "code",
   "execution_count": 36,
   "id": "55093068",
   "metadata": {},
   "outputs": [
    {
     "data": {
      "text/plain": [
       "30"
      ]
     },
     "execution_count": 36,
     "metadata": {},
     "output_type": "execute_result"
    }
   ],
   "source": [
    "p.age"
   ]
  },
  {
   "cell_type": "code",
   "execution_count": 40,
   "id": "a8ca645e",
   "metadata": {},
   "outputs": [
    {
     "name": "stdout",
     "output_type": "stream",
     "text": [
      "True\n",
      "True\n"
     ]
    }
   ],
   "source": [
    "def f(a):\n",
    "    a.append(10)\n",
    "    return a\n",
    "\n",
    "x = [1, 2, 3]  \n",
    "y = f(x)\n",
    "print (x is y) # line 3\n",
    "print (x == y) # line 4"
   ]
  },
  {
   "cell_type": "code",
   "execution_count": null,
   "id": "b77f2c60",
   "metadata": {},
   "outputs": [],
   "source": []
  }
 ],
 "metadata": {
  "kernelspec": {
   "display_name": "Python 3",
   "language": "python",
   "name": "python3"
  },
  "language_info": {
   "codemirror_mode": {
    "name": "ipython",
    "version": 3
   },
   "file_extension": ".py",
   "mimetype": "text/x-python",
   "name": "python",
   "nbconvert_exporter": "python",
   "pygments_lexer": "ipython3",
   "version": "3.8.8"
  }
 },
 "nbformat": 4,
 "nbformat_minor": 5
}
