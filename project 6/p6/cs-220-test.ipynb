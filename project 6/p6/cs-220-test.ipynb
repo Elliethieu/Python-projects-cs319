{
 "cells": [
  {
   "cell_type": "code",
   "execution_count": 1,
   "id": "cdfb3cb1",
   "metadata": {
    "execution": {
     "iopub.execute_input": "2021-10-25T02:20:54.720589Z",
     "iopub.status.busy": "2021-10-25T02:20:54.717558Z",
     "iopub.status.idle": "2021-10-25T02:20:54.731521Z",
     "shell.execute_reply": "2021-10-25T02:20:54.732519Z"
    }
   },
   "outputs": [],
   "source": [
    "# project: p6\n",
    "# submitter: thieu\n",
    "# partner: None\n",
    "# hours: 6"
   ]
  },
  {
   "cell_type": "code",
   "execution_count": 2,
   "id": "31ec0855",
   "metadata": {
    "execution": {
     "iopub.execute_input": "2021-10-25T02:20:54.740494Z",
     "iopub.status.busy": "2021-10-25T02:20:54.739497Z",
     "iopub.status.idle": "2021-10-25T02:20:54.950532Z",
     "shell.execute_reply": "2021-10-25T02:20:54.949536Z"
    }
   },
   "outputs": [],
   "source": [
    "import csv\n",
    "\n",
    "# Modified from https://automatetheboringstuff.com/chapter14/\n",
    "def process_csv(filename):\n",
    "    example_file = open(filename, encoding=\"utf-8\")\n",
    "    example_reader = csv.reader(example_file)\n",
    "    example_data = list(example_reader)\n",
    "    example_file.close()\n",
    "    return example_data\n",
    "\n",
    "# Use process_csv to pull out the header and data rows\n",
    "csv_rows = process_csv(\"airbnb.csv\")\n",
    "csv_header = csv_rows[0] # A list of the column headers\n",
    "csv_data = csv_rows[1:] # The entire CSV data set besides the headers"
   ]
  },
  {
   "cell_type": "code",
   "execution_count": 3,
   "id": "1ac2605e",
   "metadata": {
    "execution": {
     "iopub.execute_input": "2021-10-25T02:20:54.956407Z",
     "iopub.status.busy": "2021-10-25T02:20:54.955370Z",
     "iopub.status.idle": "2021-10-25T02:20:54.965845Z",
     "shell.execute_reply": "2021-10-25T02:20:54.965845Z"
    }
   },
   "outputs": [],
   "source": [
    "def cell(row_idx, col_name):\n",
    "    col_idx = csv_header.index(col_name)\n",
    "    val = csv_data[row_idx][col_idx]\n",
    "    if val == \"\":\n",
    "        return None\n",
    "    if col_idx == csv_header.index(\"latitude\") or col_idx == csv_header.index(\"longitude\") or col_idx == csv_header.index(\"reviews_per_month\"):\n",
    "        return float(val)\n",
    "    if col_idx == csv_header.index(\"price\") or col_idx == csv_header.index(\"minimum_nights\") or col_idx == csv_header.index(\"number_of_reviews\") or col_idx == csv_header.index(\"calculated_host_listings_count\")  or col_idx == csv_header.index(\"availability_365\"):\n",
    "        return int(val)\n",
    "\n",
    "    # optional: convert types based on column name, \n",
    "    # ensuring that the float and int values are appropriately converted\n",
    "    return val"
   ]
  },
  {
   "cell_type": "code",
   "execution_count": 4,
   "id": "afa43cbd",
   "metadata": {
    "execution": {
     "iopub.execute_input": "2021-10-25T02:20:55.115446Z",
     "iopub.status.busy": "2021-10-25T02:20:55.075551Z",
     "iopub.status.idle": "2021-10-25T02:20:55.124422Z",
     "shell.execute_reply": "2021-10-25T02:20:55.124422Z"
    }
   },
   "outputs": [
    {
     "data": {
      "text/plain": [
       "['Queens', 'Manhattan', 'Brooklyn', 'Staten Island', 'Bronx']"
      ]
     },
     "execution_count": 1,
     "metadata": {},
     "output_type": "execute_result"
    }
   ],
   "source": [
    "#Q1: What neighborhood groups are present in the airbnb dataset?\n",
    "\n",
    "neighborhood_groups = []\n",
    "for idx in range(len(csv_data)):\n",
    "    neighborhood_groups.append(cell(idx, \"neighborhood_group\"))\n",
    "\n",
    "neighborhood_groups_2 = list(set(neighborhood_groups))\n",
    "\n",
    "neighborhood_groups_2   \n",
    "#TODO: remove duplicates from `neighborhood_groups`"
   ]
  },
  {
   "cell_type": "code",
   "execution_count": 5,
   "id": "266af335",
   "metadata": {
    "execution": {
     "iopub.execute_input": "2021-10-25T02:20:55.204209Z",
     "iopub.status.busy": "2021-10-25T02:20:55.203211Z",
     "iopub.status.idle": "2021-10-25T02:20:55.267885Z",
     "shell.execute_reply": "2021-10-25T02:20:55.266899Z"
    }
   },
   "outputs": [
    {
     "data": {
      "text/plain": [
       "23"
      ]
     },
     "execution_count": 1,
     "metadata": {},
     "output_type": "execute_result"
    }
   ],
   "source": [
    "#Q2: What is the average number of reviews among all the reviews?\n",
    "\n",
    "total_review = 0\n",
    "for idx in range(len(csv_data)):\n",
    "    total_review += cell(idx, \"number_of_reviews\")\n",
    "\n",
    "average_reviews = int( total_review / len(csv_data))\n",
    "\n",
    "average_reviews"
   ]
  },
  {
   "cell_type": "code",
   "execution_count": 6,
   "id": "033ee7d3",
   "metadata": {
    "execution": {
     "iopub.execute_input": "2021-10-25T02:20:55.384573Z",
     "iopub.status.busy": "2021-10-25T02:20:55.297803Z",
     "iopub.status.idle": "2021-10-25T02:20:55.489651Z",
     "shell.execute_reply": "2021-10-25T02:20:55.489651Z"
    }
   },
   "outputs": [
    {
     "data": {
      "text/plain": [
       "358"
      ]
     },
     "execution_count": 1,
     "metadata": {},
     "output_type": "execute_result"
    }
   ],
   "source": [
    "#Q3: Count the number of rooms located in neighborhood \"SoHo\"?\n",
    "\n",
    "rooms_in_SoHo = 0\n",
    "for idx in range(len(csv_data)):\n",
    "    if cell(idx, \"neighborhood\") == \"SoHo\":\n",
    "        #print(idx)\n",
    "        rooms_in_SoHo +=1\n",
    "        \n",
    "rooms_in_SoHo \n",
    "    \n"
   ]
  },
  {
   "cell_type": "code",
   "execution_count": 7,
   "id": "6fc481b8",
   "metadata": {
    "execution": {
     "iopub.execute_input": "2021-10-25T02:20:55.495635Z",
     "iopub.status.busy": "2021-10-25T02:20:55.495635Z",
     "iopub.status.idle": "2021-10-25T02:20:55.505334Z",
     "shell.execute_reply": "2021-10-25T02:20:55.504295Z"
    }
   },
   "outputs": [],
   "source": [
    "def find_room_names(contained):\n",
    "    room_list=[]\n",
    "    for idx in range(len(csv_data)):\n",
    "        if cell(idx, \"name\") == \"\":\n",
    "            continue\n",
    "        if cell(idx, \"name\") != None and contained.lower() in cell(idx, \"name\").lower():\n",
    "            room_list.append(cell(idx, \"name\"))\n",
    "            \n",
    "    return room_list\n",
    "    \n",
    "    # TODO: create a list\n",
    "    # TODO: check if the room contains the `contained` parameter (case insensitive)\n",
    "    # TODO: add every unmodified room name to the return list\n",
    "    # TODO: return your list of room names"
   ]
  },
  {
   "cell_type": "code",
   "execution_count": 8,
   "id": "874ab542",
   "metadata": {
    "execution": {
     "iopub.execute_input": "2021-10-25T02:20:55.567129Z",
     "iopub.status.busy": "2021-10-25T02:20:55.519294Z",
     "iopub.status.idle": "2021-10-25T02:20:55.996976Z",
     "shell.execute_reply": "2021-10-25T02:20:55.996976Z"
    }
   },
   "outputs": [
    {
     "data": {
      "text/plain": [
       "['The Epic: Right by MSG',\n",
       " 'Lavish 3 bedroom near Penn Station / MSG',\n",
       " 'Stately Midtown Studio w/ Doorman, Gym, near MSG by Blueground',\n",
       " 'Room Near Times Square/Javits/Hells Kitchen/MSG',\n",
       " 'Cheery Midtown 1BR w/ Doorman + Gym, near MSG by Blueground',\n",
       " 'Homey Hudson Yards w/ Gym + Doorman, near MSG by Blueground',\n",
       " 'Private Room With Kitchen Across From MSG',\n",
       " 'Accessible Two Bedded Suite With Kitchen near MSG',\n",
       " 'Two Beds in Private Room near Times Square and MSG',\n",
       " 'Private and Spacious Queen Room Across From MSG',\n",
       " 'Comfy Kips Bay 1BR w/ Gym, Doorman + Sundecks, walk to MSG by Blueground',\n",
       " 'A+ Chelsea Location! MSG, Javits, Penn!',\n",
       " 'Heart of Williamsburg living for 1-5 msg!',\n",
       " '3 Bedroom by MSG + Empire State',\n",
       " 'Next to Times Square/Javits/MSG! Amazing 1BR!']"
      ]
     },
     "execution_count": 1,
     "metadata": {},
     "output_type": "execute_result"
    }
   ],
   "source": [
    "#Q4: Find the room names containing \"MSG\"\n",
    "\n",
    "find_room_names(\"MSG\")"
   ]
  },
  {
   "cell_type": "code",
   "execution_count": 9,
   "id": "e45deab5",
   "metadata": {
    "execution": {
     "iopub.execute_input": "2021-10-25T02:20:56.042854Z",
     "iopub.status.busy": "2021-10-25T02:20:56.042854Z",
     "iopub.status.idle": "2021-10-25T02:20:56.882861Z",
     "shell.execute_reply": "2021-10-25T02:20:56.883860Z"
    }
   },
   "outputs": [
    {
     "data": {
      "text/plain": [
       "['Shoot. Film. Sleep. Unique Loft Space in Brooklyn.',\n",
       " 'Cinema Studio on Duplex Apt.',\n",
       " 'TV-PHOTO-FILM-CINEMA-ART GALLERY-MUSIC STUDIO-LOFT',\n",
       " 'Cool apartment in Brooklyn with free cinema & gym',\n",
       " 'Stunning Chelsea 1BR w/ Gym, W/D, Doorman, Sundeck, Cinema, by Blueground',\n",
       " 'HUGE LUX 2FLOOR 2 BDRMSOHO LOFTw/HOME CINEMA',\n",
       " 'The Otheroom Bar/Event/Filming Space -read details',\n",
       " 'Film Location',\n",
       " 'Sunny private room featured in film',\n",
       " 'Music Recording Mixing Film Photography Art',\n",
       " 'Victorian Film location',\n",
       " 'Brooklyn townhouse for filming',\n",
       " 'Clean music/film themed bedroom',\n",
       " 'Modern Townhouse for Photo, Film &  Daytime Events',\n",
       " 'WoodyAllen FilmSet-Like Digs (Room)',\n",
       " \"Downtown Filmmaker's Loft by WTC\",\n",
       " 'Cinema + gym included with room',\n",
       " 'Film / photography location in unique apartment',\n",
       " 'Premium Chelsea 1BR w/ Gym, W/D, Doorman, Sundeck, Cinema, by Blueground',\n",
       " 'WoodyAllen FilmSet-Like Digs (Apt)']"
      ]
     },
     "execution_count": 1,
     "metadata": {},
     "output_type": "execute_result"
    }
   ],
   "source": [
    "#Q5: Find the room names containing \"cinema\" or \"film\"\n",
    "\n",
    "full_list=find_room_names(\"cinema\")+find_room_names(\"film\")\n",
    "\n",
    "concise_list=list(set(full_list))\n",
    "\n",
    "concise_list"
   ]
  },
  {
   "cell_type": "code",
   "execution_count": 10,
   "id": "902c31cc",
   "metadata": {
    "execution": {
     "iopub.execute_input": "2021-10-25T02:20:56.929738Z",
     "iopub.status.busy": "2021-10-25T02:20:56.912782Z",
     "iopub.status.idle": "2021-10-25T02:20:57.263787Z",
     "shell.execute_reply": "2021-10-25T02:20:57.263787Z"
    }
   },
   "outputs": [
    {
     "data": {
      "text/plain": [
       "['Leisa', 'Elisa', 'Elias']"
      ]
     },
     "execution_count": 1,
     "metadata": {},
     "output_type": "execute_result"
    }
   ],
   "source": [
    "#Q6: Which host names are anagrams of the word \"aisle\"?\n",
    "\n",
    "host_name_list=[]\n",
    "for idx in range(len(csv_data)):\n",
    "    if cell(idx, \"host_name\") != None and sorted(cell(idx, \"host_name\").lower())==sorted(\"aisle\"):\n",
    "        host_name_list.append(cell(idx, \"host_name\"))\n",
    "\n",
    "host_name_list2 = list(set(host_name_list))\n",
    "host_name_list2"
   ]
  },
  {
   "cell_type": "code",
   "execution_count": 11,
   "id": "10e624be",
   "metadata": {
    "execution": {
     "iopub.execute_input": "2021-10-25T02:20:57.389452Z",
     "iopub.status.busy": "2021-10-25T02:20:57.373455Z",
     "iopub.status.idle": "2021-10-25T02:20:57.423324Z",
     "shell.execute_reply": "2021-10-25T02:20:57.423324Z"
    }
   },
   "outputs": [
    {
     "data": {
      "text/plain": [
       "['16276632',\n",
       " '18173787',\n",
       " '21550302',\n",
       " '22176831',\n",
       " '22750161',\n",
       " '28826608',\n",
       " '30423106',\n",
       " '31090222',\n",
       " '31249784',\n",
       " '32678719',\n",
       " '32678720']"
      ]
     },
     "execution_count": 1,
     "metadata": {},
     "output_type": "execute_result"
    }
   ],
   "source": [
    "#Q7: List all room ids that receive more than 15 reviews per month (reviews_per_month > 15).\n",
    "\n",
    "room_id_with_reviews=[]\n",
    "for idx in range(len(csv_data)):\n",
    "    if cell(idx, \"reviews_per_month\") != None and cell(idx, \"reviews_per_month\") >15:\n",
    "        room_id_with_reviews.append(cell(idx, \"room_id\"))\n",
    "        \n",
    "room_id_with_reviews"
   ]
  },
  {
   "cell_type": "code",
   "execution_count": 12,
   "id": "ea96ddd1",
   "metadata": {
    "execution": {
     "iopub.execute_input": "2021-10-25T02:20:57.548008Z",
     "iopub.status.busy": "2021-10-25T02:20:57.469210Z",
     "iopub.status.idle": "2021-10-25T02:20:57.802347Z",
     "shell.execute_reply": "2021-10-25T02:20:57.801311Z"
    }
   },
   "outputs": [
    {
     "data": {
      "text/plain": [
       "51.96645873811229"
      ]
     },
     "execution_count": 1,
     "metadata": {},
     "output_type": "execute_result"
    }
   ],
   "source": [
    "#Q8: What percentage of rooms are entire homes or apartments? (room_type == \"Entire home/apt\")\n",
    "total_entire_home_or_apartment=0\n",
    "\n",
    "for idx in range(len(csv_data)):\n",
    "    if cell(idx, \"room_type\") != None and cell(idx, \"room_type\") == \"Entire home/apt\":\n",
    "        total_entire_home_or_apartment+=1\n",
    "        \n",
    "total_entire_home_or_apartment/len(csv_data)*100\n",
    "        "
   ]
  },
  {
   "cell_type": "code",
   "execution_count": 13,
   "id": "7d025fa2",
   "metadata": {
    "execution": {
     "iopub.execute_input": "2021-10-25T02:20:57.817268Z",
     "iopub.status.busy": "2021-10-25T02:20:57.816272Z",
     "iopub.status.idle": "2021-10-25T02:20:58.273842Z",
     "shell.execute_reply": "2021-10-25T02:20:58.272842Z"
    }
   },
   "outputs": [
    {
     "data": {
      "text/plain": [
       "['712136',\n",
       " '738588',\n",
       " '826307',\n",
       " '1598033',\n",
       " '2794725',\n",
       " '8253376',\n",
       " '9045427',\n",
       " '12914239',\n",
       " '15949915',\n",
       " '15988392',\n",
       " '17475711']"
      ]
     },
     "execution_count": 1,
     "metadata": {},
     "output_type": "execute_result"
    }
   ],
   "source": [
    "#Q9: Which room ids in Staten Island (neighborhood_group == \"Staten Island\") received their last review in the year 2017 or earlier?\n",
    "\n",
    "room_ids=[]\n",
    "\n",
    "for idx in range(len(csv_data)):\n",
    "    if cell(idx, \"neighborhood_group\") != None and cell(idx, \"last_review\") != None: \n",
    "        if cell(idx, \"neighborhood_group\")== \"Staten Island\" and int(cell(idx, \"last_review\")[0:4]) <= 2017:\n",
    "            room_ids.append(cell(idx, \"room_id\"))\n",
    "            \n",
    "room_ids\n",
    "            "
   ]
  },
  {
   "cell_type": "code",
   "execution_count": 14,
   "id": "b3bc4ce9",
   "metadata": {
    "execution": {
     "iopub.execute_input": "2021-10-25T02:20:58.283814Z",
     "iopub.status.busy": "2021-10-25T02:20:58.283814Z",
     "iopub.status.idle": "2021-10-25T02:20:58.287802Z",
     "shell.execute_reply": "2021-10-25T02:20:58.288837Z"
    }
   },
   "outputs": [],
   "source": [
    "def availability_per_host_name(host_name, neighborhood_group=None):\n",
    "    list_availability=[]\n",
    "    for idx in range(len(csv_data)):\n",
    "        if cell(idx, \"availability_365\") != None and cell(idx, \"host_name\") != None and cell(idx, \"host_name\").lower() ==host_name.lower(): \n",
    "            if neighborhood_group==None or cell(idx, \"neighborhood_group\")==neighborhood_group:\n",
    "                list_availability.append(cell(idx, \"availability_365\"))\n",
    "    sorted_list=sorted(list(set(list_availability)),reverse=True)\n",
    "    return sorted_list\n",
    "\n",
    "    # TODO: create a list\n",
    "    # TODO: add every availability matching the host_name and neighborhood_group to the list as an int\n",
    "    # TODO: return your list of availabilities"
   ]
  },
  {
   "cell_type": "code",
   "execution_count": 15,
   "id": "79191e33",
   "metadata": {
    "execution": {
     "iopub.execute_input": "2021-10-25T02:20:58.382550Z",
     "iopub.status.busy": "2021-10-25T02:20:58.302762Z",
     "iopub.status.idle": "2021-10-25T02:20:58.864262Z",
     "shell.execute_reply": "2021-10-25T02:20:58.862282Z"
    }
   },
   "outputs": [
    {
     "data": {
      "text/plain": [
       "[360, 353, 348, 333, 321, 308, 264, 106, 15, 0]"
      ]
     },
     "execution_count": 1,
     "metadata": {},
     "output_type": "execute_result"
    }
   ],
   "source": [
    "#Q10: What are the different availabilities of all rooms in the neighborhood group \"Brooklyn\" whose host name is \"Stanley\"?\n",
    "\n",
    "availability_per_host_name(\"Stanley\",\"Brooklyn\")"
   ]
  },
  {
   "cell_type": "code",
   "execution_count": 16,
   "id": "3527eb9f",
   "metadata": {
    "execution": {
     "iopub.execute_input": "2021-10-25T02:20:59.096638Z",
     "iopub.status.busy": "2021-10-25T02:20:58.983941Z",
     "iopub.status.idle": "2021-10-25T02:20:59.811726Z",
     "shell.execute_reply": "2021-10-25T02:20:59.811726Z"
    }
   },
   "outputs": [
    {
     "data": {
      "text/plain": [
       "253"
      ]
     },
     "execution_count": 1,
     "metadata": {},
     "output_type": "execute_result"
    }
   ],
   "source": [
    "#Q11: What is the difference between the most and least availability among all rooms whose host name is \"Helena\" (host_name == \"Helena\")?\n",
    "availability_per_host_name(\"Helena\")[0]-availability_per_host_name(\"Helena\")[-1]\n"
   ]
  },
  {
   "cell_type": "code",
   "execution_count": 17,
   "id": "6bbfdca1",
   "metadata": {
    "execution": {
     "iopub.execute_input": "2021-10-25T02:20:59.817747Z",
     "iopub.status.busy": "2021-10-25T02:20:59.816710Z",
     "iopub.status.idle": "2021-10-25T02:20:59.826687Z",
     "shell.execute_reply": "2021-10-25T02:20:59.826687Z"
    }
   },
   "outputs": [],
   "source": [
    "def find_prices_within(lat_min, lat_max, long_min, long_max):\n",
    "    prices_list=[]\n",
    "    for idx in range(len(csv_data)):\n",
    "        if cell(idx, \"latitude\") != None and cell(idx, \"longitude\") != None and cell(idx, \"price\") != None:\n",
    "            if lat_min<=cell(idx, \"latitude\") <=lat_max and long_min<=cell(idx, \"longitude\") <=long_max:\n",
    "                prices_list.append(cell(idx,\"price\"))\n",
    "    prices_list2=list(set(prices_list))\n",
    "    return prices_list\n",
    "                        \n",
    "\n",
    "    # TODO: create a list\n",
    "    # TODO: add every price of rooms that locate in the given area to the list\n",
    "    # TODO: return the filled list of prices"
   ]
  },
  {
   "cell_type": "code",
   "execution_count": 18,
   "id": "73e6ba97",
   "metadata": {
    "execution": {
     "iopub.execute_input": "2021-10-25T02:21:00.047096Z",
     "iopub.status.busy": "2021-10-25T02:20:59.935394Z",
     "iopub.status.idle": "2021-10-25T02:21:00.175752Z",
     "shell.execute_reply": "2021-10-25T02:21:00.174753Z"
    }
   },
   "outputs": [
    {
     "data": {
      "text/plain": [
       "169.4356387798248"
      ]
     },
     "execution_count": 1,
     "metadata": {},
     "output_type": "execute_result"
    }
   ],
   "source": [
    "#Q12: What is the average price among rooms within (40.50 <= latitude <= 40.75, -74.00 <= longitude <= -73.95)?\n",
    "x=find_prices_within(40.50,40.75,-74.00,-73.95 )\n",
    "\n",
    "average=sum(x)/len(x)\n",
    "\n",
    "average\n"
   ]
  },
  {
   "cell_type": "code",
   "execution_count": 19,
   "id": "14e6b73a",
   "metadata": {
    "execution": {
     "iopub.execute_input": "2021-10-25T02:21:00.315378Z",
     "iopub.status.busy": "2021-10-25T02:21:00.283464Z",
     "iopub.status.idle": "2021-10-25T02:21:00.477995Z",
     "shell.execute_reply": "2021-10-25T02:21:00.477995Z"
    }
   },
   "outputs": [
    {
     "data": {
      "text/plain": [
       "10000"
      ]
     },
     "execution_count": 1,
     "metadata": {},
     "output_type": "execute_result"
    }
   ],
   "source": [
    "#Q13: What is the highest price among rooms within (40.75 <= latitude <= 41.00, -73.95 <= longitude <= -73.85)?\n",
    "y=find_prices_within(40.75,41.00,-73.95 ,-73.85 )\n",
    "sorted_prices=sorted(y)\n",
    "sorted_prices[-1]"
   ]
  },
  {
   "cell_type": "code",
   "execution_count": 20,
   "id": "8163a8d7",
   "metadata": {
    "execution": {
     "iopub.execute_input": "2021-10-25T02:21:00.586740Z",
     "iopub.status.busy": "2021-10-25T02:21:00.585743Z",
     "iopub.status.idle": "2021-10-25T02:21:00.853987Z",
     "shell.execute_reply": "2021-10-25T02:21:00.853987Z"
    }
   },
   "outputs": [
    {
     "data": {
      "text/plain": [
       "45.27971221694415"
      ]
     },
     "execution_count": 1,
     "metadata": {},
     "output_type": "execute_result"
    }
   ],
   "source": [
    "#Q14: What percentage of rooms within (40.50 <= latitude <= 41.00, -74.00 <= longitude <= -73.85) have a price less than 100?\n",
    "z=find_prices_within(40.50,41.00,-74.00 ,-73.85 )\n",
    "total_with_price_less_than_100=0\n",
    "for price in z:\n",
    "    if price<100:\n",
    "        total_with_price_less_than_100+=1\n",
    "\n",
    "total_with_price_less_than_100/len(z)*100"
   ]
  },
  {
   "cell_type": "code",
   "execution_count": 21,
   "id": "9db4e39e",
   "metadata": {
    "execution": {
     "iopub.execute_input": "2021-10-25T02:21:00.858974Z",
     "iopub.status.busy": "2021-10-25T02:21:00.858974Z",
     "iopub.status.idle": "2021-10-25T02:21:00.870942Z",
     "shell.execute_reply": "2021-10-25T02:21:00.869948Z"
    }
   },
   "outputs": [],
   "source": [
    "def ratio_in_neighborhood(neighborhood):\n",
    "    ratio_list=[]\n",
    "    for idx in range(len(csv_data)):\n",
    "        if cell(idx,\"neighborhood\")==neighborhood:\n",
    "            if cell(idx,\"number_of_reviews\")!= None and cell(idx, \"availability_365\") != None and cell(idx, \"availability_365\") != 0:\n",
    "                ratio=cell(idx,\"number_of_reviews\")/cell(idx, \"availability_365\")\n",
    "                ratio_list.append(ratio)\n",
    "\n",
    "    average=sum(ratio_list)/len(ratio_list)\n",
    "    return average\n",
    "\n",
    "\n",
    "    \n"
   ]
  },
  {
   "cell_type": "code",
   "execution_count": 22,
   "id": "40cb22cf",
   "metadata": {
    "execution": {
     "iopub.execute_input": "2021-10-25T02:21:00.902856Z",
     "iopub.status.busy": "2021-10-25T02:21:00.900862Z",
     "iopub.status.idle": "2021-10-25T02:21:01.063459Z",
     "shell.execute_reply": "2021-10-25T02:21:01.064458Z"
    }
   },
   "outputs": [
    {
     "data": {
      "text/plain": [
       "0.27323293295076073"
      ]
     },
     "execution_count": 1,
     "metadata": {},
     "output_type": "execute_result"
    }
   ],
   "source": [
    "#Q15: What is the average ratio of the number of reviews to availability in the neighborhood Manhattan Beach?\n",
    "ratio_in_neighborhood(\"Manhattan Beach\")"
   ]
  },
  {
   "cell_type": "code",
   "execution_count": 23,
   "id": "e7f3984e",
   "metadata": {
    "execution": {
     "iopub.execute_input": "2021-10-25T02:21:01.107342Z",
     "iopub.status.busy": "2021-10-25T02:21:01.106345Z",
     "iopub.status.idle": "2021-10-25T02:21:01.313902Z",
     "shell.execute_reply": "2021-10-25T02:21:01.314938Z"
    }
   },
   "outputs": [
    {
     "data": {
      "text/plain": [
       "0.04373233413721522"
      ]
     },
     "execution_count": 1,
     "metadata": {},
     "output_type": "execute_result"
    }
   ],
   "source": [
    "#Q16: What is the average ratio of the number of reviews to availability in the neighborhood Riverdale?\n",
    "ratio_in_neighborhood(\"Riverdale\")"
   ]
  },
  {
   "cell_type": "code",
   "execution_count": 24,
   "id": "d8ff5f38",
   "metadata": {
    "execution": {
     "iopub.execute_input": "2021-10-25T02:21:01.327864Z",
     "iopub.status.busy": "2021-10-25T02:21:01.326866Z",
     "iopub.status.idle": "2021-10-25T02:21:01.601134Z",
     "shell.execute_reply": "2021-10-25T02:21:01.602132Z"
    }
   },
   "outputs": [
    {
     "data": {
      "text/plain": [
       "['Whitestone',\n",
       " 'Middle Village',\n",
       " 'Ozone Park',\n",
       " 'Hollis',\n",
       " 'Corona',\n",
       " 'Laurelton',\n",
       " 'Howard Beach',\n",
       " 'Little Neck',\n",
       " 'Glendale',\n",
       " 'Bay Terrace',\n",
       " 'College Point',\n",
       " 'Jackson Heights',\n",
       " 'Sunnyside',\n",
       " 'Springfield Gardens',\n",
       " 'East Elmhurst',\n",
       " 'Woodside',\n",
       " 'Jamaica Estates',\n",
       " 'Woodhaven',\n",
       " 'Ridgewood',\n",
       " 'Long Island City',\n",
       " 'Jamaica Hills',\n",
       " 'Neponsit',\n",
       " 'Ditmars Steinway',\n",
       " 'Arverne',\n",
       " 'Holliswood',\n",
       " 'Cambria Heights',\n",
       " 'Edgemere',\n",
       " 'St. Albans',\n",
       " 'Maspeth',\n",
       " 'Kew Gardens Hills',\n",
       " 'Bellerose',\n",
       " 'South Ozone Park',\n",
       " 'Forest Hills',\n",
       " 'Briarwood',\n",
       " 'Queens Village',\n",
       " 'Rego Park',\n",
       " 'Rosedale',\n",
       " 'Bayswater',\n",
       " 'Douglaston',\n",
       " 'Richmond Hill',\n",
       " 'Breezy Point',\n",
       " 'Astoria',\n",
       " 'Bayside',\n",
       " 'Jamaica',\n",
       " 'Fresh Meadows',\n",
       " 'Belle Harbor',\n",
       " 'Kew Gardens',\n",
       " 'Flushing',\n",
       " 'Rockaway Beach',\n",
       " 'Far Rockaway',\n",
       " 'Elmhurst']"
      ]
     },
     "execution_count": 1,
     "metadata": {},
     "output_type": "execute_result"
    }
   ],
   "source": [
    "neighborhoods_in_Queens = []\n",
    "for idx in range(len(csv_data)):\n",
    "    if cell(idx, \"neighborhood_group\")==\"Queens\":\n",
    "        neighborhoods_in_Queens.append(cell(idx, \"neighborhood\"))\n",
    "\n",
    "neighborhoods_in_Queens_2 = list(set(neighborhoods_in_Queens))\n",
    "\n",
    "neighborhoods_in_Queens_2"
   ]
  },
  {
   "cell_type": "code",
   "execution_count": 25,
   "id": "55abd46a",
   "metadata": {
    "execution": {
     "iopub.execute_input": "2021-10-25T02:21:01.689895Z",
     "iopub.status.busy": "2021-10-25T02:21:01.688899Z",
     "iopub.status.idle": "2021-10-25T02:21:12.164896Z",
     "shell.execute_reply": "2021-10-25T02:21:12.163899Z"
    }
   },
   "outputs": [
    {
     "data": {
      "text/plain": [
       "'Fresh Meadows'"
      ]
     },
     "execution_count": 1,
     "metadata": {},
     "output_type": "execute_result"
    }
   ],
   "source": [
    "#Q17: Which neighborhood in the neighborhood group Queens has the highest average ratio of the number of reviews to availability?\n",
    "\n",
    "highest_average_ratio_neighborhood=None\n",
    "max_ratio =0\n",
    "for neighborhood in neighborhoods_in_Queens_2:\n",
    "    if ratio_in_neighborhood(neighborhood) > max_ratio:\n",
    "        highest_average_ratio_neighborhood=neighborhood\n",
    "        max_ratio=ratio_in_neighborhood(neighborhood)\n",
    "        \n",
    "        \n",
    "highest_average_ratio_neighborhood\n",
    "        "
   ]
  },
  {
   "cell_type": "code",
   "execution_count": 26,
   "id": "453e9e91",
   "metadata": {
    "execution": {
     "iopub.execute_input": "2021-10-25T02:21:12.169885Z",
     "iopub.status.busy": "2021-10-25T02:21:12.169885Z",
     "iopub.status.idle": "2021-10-25T02:21:12.179856Z",
     "shell.execute_reply": "2021-10-25T02:21:12.179856Z"
    }
   },
   "outputs": [],
   "source": [
    "def secondary_word_in_found_rooms(find_room_word, secondary_word):\n",
    "    total_room_1st_word=0\n",
    "    total_room_both_name=0\n",
    "    for idx in range(len(csv_data)):\n",
    "        if cell(idx, \"name\") != None and find_room_word.lower() in cell(idx, \"name\").lower():\n",
    "            #room_list.append(cell(idx, \"name\"))\n",
    "            total_room_1st_word+=1\n",
    "            if secondary_word.lower() in cell(idx, \"name\").lower():\n",
    "                total_room_both_name+=1\n",
    "    if total_room_1st_word==0:\n",
    "        return \"there's no room whose name contains 1st word\"\n",
    "    else:\n",
    "        return total_room_both_name/ total_room_1st_word*100\n",
    "                \n",
    "                \n",
    "\n",
    "    "
   ]
  },
  {
   "cell_type": "code",
   "execution_count": 27,
   "id": "b335bd09",
   "metadata": {
    "execution": {
     "iopub.execute_input": "2021-10-25T02:21:12.259643Z",
     "iopub.status.busy": "2021-10-25T02:21:12.258646Z",
     "iopub.status.idle": "2021-10-25T02:21:12.496010Z",
     "shell.execute_reply": "2021-10-25T02:21:12.496010Z"
    }
   },
   "outputs": [
    {
     "data": {
      "text/plain": [
       "3.9522598317354727"
      ]
     },
     "execution_count": 1,
     "metadata": {},
     "output_type": "execute_result"
    }
   ],
   "source": [
    "#Q18: What percentage of rooms whose name contains the word \"cozy\" also contain the word \"home\" in its name?\n",
    "secondary_word_in_found_rooms(\"cozy\",\"home\")"
   ]
  },
  {
   "cell_type": "code",
   "execution_count": 28,
   "id": "75a46f62",
   "metadata": {
    "execution": {
     "iopub.execute_input": "2021-10-25T02:21:12.542885Z",
     "iopub.status.busy": "2021-10-25T02:21:12.541888Z",
     "iopub.status.idle": "2021-10-25T02:21:12.923868Z",
     "shell.execute_reply": "2021-10-25T02:21:12.922868Z"
    }
   },
   "outputs": [
    {
     "data": {
      "text/plain": [
       "48.92086330935252"
      ]
     },
     "execution_count": 1,
     "metadata": {},
     "output_type": "execute_result"
    }
   ],
   "source": [
    "#Q19: What percentage of rooms whose name contains the word \"pool\" also contain the word \"gym\" in its name?\n",
    "secondary_word_in_found_rooms(\"pool\",\"gym\")"
   ]
  },
  {
   "cell_type": "code",
   "execution_count": 29,
   "id": "f95bae92",
   "metadata": {
    "execution": {
     "iopub.execute_input": "2021-10-25T02:21:12.930848Z",
     "iopub.status.busy": "2021-10-25T02:21:12.930848Z",
     "iopub.status.idle": "2021-10-25T02:21:12.938826Z",
     "shell.execute_reply": "2021-10-25T02:21:12.939836Z"
    }
   },
   "outputs": [],
   "source": [
    "def lowest_price_in_neighborhood_group(neighborhood_group, number_of_days):\n",
    "    list_of_prices=[]\n",
    "    for idx in range(len(csv_data)):\n",
    "        if cell(idx, \"neighborhood_group\") == neighborhood_group:\n",
    "            if cell(idx, \"availability_365\") != None and cell(idx, \"minimum_nights\") != None:\n",
    "                if number_of_days>=cell(idx, \"minimum_nights\") and cell(idx, \"availability_365\")>=number_of_days:\n",
    "                    list_of_prices.append(cell(idx, \"price\"))\n",
    "                    #if cell(idx, \"price\")==0:\n",
    "                    #    print(idx, cell(idx, \"host_name\"),cell(idx, \"price\"))\n",
    "                    #if cell(idx, \"price\")==13:\n",
    "                    #    print(idx, cell(idx, \"host_name\"),cell(idx, \"price\"))\n",
    "                    \n",
    "    sorted_prices=sorted(list_of_prices)\n",
    "    #print(sorted_prices)\n",
    "    #print(sorted_prices[0])\n",
    "    return sorted_prices[0]*number_of_days\n",
    "                \n",
    "                "
   ]
  },
  {
   "cell_type": "code",
   "execution_count": 30,
   "id": "e6829715",
   "metadata": {
    "execution": {
     "iopub.execute_input": "2021-10-25T02:21:13.016617Z",
     "iopub.status.busy": "2021-10-25T02:21:13.015620Z",
     "iopub.status.idle": "2021-10-25T02:21:13.475599Z",
     "shell.execute_reply": "2021-10-25T02:21:13.474561Z"
    }
   },
   "outputs": [
    {
     "data": {
      "text/plain": [
       "175"
      ]
     },
     "execution_count": 1,
     "metadata": {},
     "output_type": "execute_result"
    }
   ],
   "source": [
    "#Q20: What is the minimum amount of money one needs to spend to stay for 10 days in Manhattan, and then 5 days in Staten Island?\n",
    "#Note: Your answer should be in the form of type int. \n",
    "#    You may assume that you will stay in exactly one room per neighborhood_group throughout this trip. \n",
    "#    You should ignore rooms with missing availability_365 or minimum_nights data. \n",
    "#    You don't have to worry about the exact dates of the availability. \n",
    "#    You may assume that if the room is available for the required number of days,\n",
    "#    it will be available whenever you want it.\n",
    "\n",
    "lowest_price_in_neighborhood_group(\"Manhattan\", 10)+lowest_price_in_neighborhood_group(\"Staten Island\", 5)"
   ]
  },
  {
   "cell_type": "code",
   "execution_count": null,
   "id": "5d12ed26",
   "metadata": {},
   "outputs": [],
   "source": []
  }
 ],
 "metadata": {
  "kernelspec": {
   "display_name": "Python 3",
   "language": "python",
   "name": "python3"
  },
  "language_info": {
   "codemirror_mode": {
    "name": "ipython",
    "version": 3
   },
   "file_extension": ".py",
   "mimetype": "text/x-python",
   "name": "python",
   "nbconvert_exporter": "python",
   "pygments_lexer": "ipython3",
   "version": "3.8.8"
  }
 },
 "nbformat": 4,
 "nbformat_minor": 5
}
