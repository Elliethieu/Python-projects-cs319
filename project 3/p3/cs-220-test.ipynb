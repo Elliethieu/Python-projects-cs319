{
 "cells": [
  {
   "cell_type": "code",
   "execution_count": 1,
   "id": "dfb34b19",
   "metadata": {
    "execution": {
     "iopub.execute_input": "2021-09-30T04:28:07.923080Z",
     "iopub.status.busy": "2021-09-30T04:28:07.922082Z",
     "iopub.status.idle": "2021-09-30T04:28:07.931322Z",
     "shell.execute_reply": "2021-09-30T04:28:07.930293Z"
    }
   },
   "outputs": [],
   "source": [
    "# project: p3\n",
    "# submitter: thieu\n",
    "# partner: none\n",
    "# hours: 2.5"
   ]
  },
  {
   "cell_type": "code",
   "execution_count": 2,
   "id": "6135ebe5",
   "metadata": {
    "execution": {
     "iopub.execute_input": "2021-09-30T04:28:07.936275Z",
     "iopub.status.busy": "2021-09-30T04:28:07.935311Z",
     "iopub.status.idle": "2021-09-30T04:28:07.945959Z",
     "shell.execute_reply": "2021-09-30T04:28:07.946999Z"
    }
   },
   "outputs": [],
   "source": [
    "import project"
   ]
  },
  {
   "cell_type": "code",
   "execution_count": 3,
   "id": "7a5248c8",
   "metadata": {
    "execution": {
     "iopub.execute_input": "2021-09-30T04:28:07.956932Z",
     "iopub.status.busy": "2021-09-30T04:28:07.956932Z",
     "iopub.status.idle": "2021-09-30T04:28:07.962923Z",
     "shell.execute_reply": "2021-09-30T04:28:07.962923Z"
    }
   },
   "outputs": [
    {
     "data": {
      "text/plain": [
       "['__DictReader',\n",
       " '__builtins__',\n",
       " '__cached__',\n",
       " '__data',\n",
       " '__doc__',\n",
       " '__energy_to_idx',\n",
       " '__file__',\n",
       " '__loader__',\n",
       " '__name__',\n",
       " '__package__',\n",
       " '__spec__',\n",
       " 'dump',\n",
       " 'get_consumption',\n",
       " 'get_idx',\n",
       " 'init']"
      ]
     },
     "execution_count": 1,
     "metadata": {},
     "output_type": "execute_result"
    }
   ],
   "source": [
    "dir(project)"
   ]
  },
  {
   "cell_type": "code",
   "execution_count": 4,
   "id": "c0a99f64",
   "metadata": {
    "execution": {
     "iopub.execute_input": "2021-09-30T04:28:07.966904Z",
     "iopub.status.busy": "2021-09-30T04:28:07.965905Z",
     "iopub.status.idle": "2021-09-30T04:28:07.978872Z",
     "shell.execute_reply": "2021-09-30T04:28:07.978872Z"
    }
   },
   "outputs": [],
   "source": [
    "project.init(\"energy.csv\")"
   ]
  },
  {
   "cell_type": "code",
   "execution_count": 5,
   "id": "70fb3baf",
   "metadata": {
    "execution": {
     "iopub.execute_input": "2021-09-30T04:28:07.982862Z",
     "iopub.status.busy": "2021-09-30T04:28:07.981863Z",
     "iopub.status.idle": "2021-09-30T04:28:07.994831Z",
     "shell.execute_reply": "2021-09-30T04:28:07.994831Z"
    }
   },
   "outputs": [],
   "source": [
    "solar_idx = project.get_idx(\"Solar Energy\")\n",
    "biomass_idx = project.get_idx(\"Biomass Energy\")\n",
    "wood_idx = project.get_idx(\"Wood Energy\")"
   ]
  },
  {
   "cell_type": "code",
   "execution_count": 6,
   "id": "2987cdb0",
   "metadata": {
    "execution": {
     "iopub.execute_input": "2021-09-30T04:28:07.999817Z",
     "iopub.status.busy": "2021-09-30T04:28:07.998818Z",
     "iopub.status.idle": "2021-09-30T04:28:08.010786Z",
     "shell.execute_reply": "2021-09-30T04:28:08.010786Z"
    }
   },
   "outputs": [
    {
     "data": {
      "text/plain": [
       "7"
      ]
     },
     "execution_count": 1,
     "metadata": {},
     "output_type": "execute_result"
    }
   ],
   "source": [
    "#Q1 \n",
    "project.get_idx(\"Biomass Energy\")"
   ]
  },
  {
   "cell_type": "code",
   "execution_count": 7,
   "id": "8ab5411d",
   "metadata": {
    "execution": {
     "iopub.execute_input": "2021-09-30T04:28:08.014777Z",
     "iopub.status.busy": "2021-09-30T04:28:08.013779Z",
     "iopub.status.idle": "2021-09-30T04:28:08.026777Z",
     "shell.execute_reply": "2021-09-30T04:28:08.025787Z"
    }
   },
   "outputs": [
    {
     "data": {
      "text/plain": [
       "509.541"
      ]
     },
     "execution_count": 1,
     "metadata": {},
     "output_type": "execute_result"
    }
   ],
   "source": [
    "#Q2\n",
    "project.get_consumption(7, 2017)"
   ]
  },
  {
   "cell_type": "code",
   "execution_count": 8,
   "id": "fd1242c4",
   "metadata": {
    "execution": {
     "iopub.execute_input": "2021-09-30T04:28:08.030733Z",
     "iopub.status.busy": "2021-09-30T04:28:08.030733Z",
     "iopub.status.idle": "2021-09-30T04:28:08.041707Z",
     "shell.execute_reply": "2021-09-30T04:28:08.042734Z"
    }
   },
   "outputs": [
    {
     "data": {
      "text/plain": [
       "634.613"
      ]
     },
     "execution_count": 1,
     "metadata": {},
     "output_type": "execute_result"
    }
   ],
   "source": [
    "#Q3\n",
    "project.get_consumption(solar_idx, 2019)"
   ]
  },
  {
   "cell_type": "code",
   "execution_count": 9,
   "id": "0a8baf6f",
   "metadata": {
    "execution": {
     "iopub.execute_input": "2021-09-30T04:28:08.046690Z",
     "iopub.status.busy": "2021-09-30T04:28:08.046690Z",
     "iopub.status.idle": "2021-09-30T04:28:08.058691Z",
     "shell.execute_reply": "2021-09-30T04:28:08.058691Z"
    }
   },
   "outputs": [],
   "source": [
    "def year_max(year):\n",
    "    # grab the consumption of each energy source in the given year\n",
    "    hydroelectric_consumption = project.get_consumption(project.get_idx(\"Conventional Hydroelectric Power\"), year)\n",
    "    solar_consumption = project.get_consumption(project.get_idx(\"Solar Energy\"), year)\n",
    "    wind_consumption = project.get_consumption(project.get_idx(\"Wind Energy\"), year)\n",
    "    wood_consumption = project.get_consumption(project.get_idx(\"Wood Energy\"), year)    \n",
    "    biomass_consumption = project.get_consumption(project.get_idx(\"Biomass Energy\"), year)\n",
    "\n",
    "    # use builtin max function to get the maximum of the five values\n",
    "    return max(hydroelectric_consumption, solar_consumption, wind_consumption, wood_consumption, biomass_consumption)"
   ]
  },
  {
   "cell_type": "code",
   "execution_count": 10,
   "id": "bfab9433",
   "metadata": {
    "execution": {
     "iopub.execute_input": "2021-09-30T04:28:08.062647Z",
     "iopub.status.busy": "2021-09-30T04:28:08.061651Z",
     "iopub.status.idle": "2021-09-30T04:28:08.074481Z",
     "shell.execute_reply": "2021-09-30T04:28:08.074481Z"
    }
   },
   "outputs": [
    {
     "data": {
      "text/plain": [
       "2307.717"
      ]
     },
     "execution_count": 1,
     "metadata": {},
     "output_type": "execute_result"
    }
   ],
   "source": [
    "#Q4\n",
    "year_max(2015)"
   ]
  },
  {
   "cell_type": "code",
   "execution_count": 11,
   "id": "f8e075b6",
   "metadata": {
    "execution": {
     "iopub.execute_input": "2021-09-30T04:28:08.079467Z",
     "iopub.status.busy": "2021-09-30T04:28:08.078468Z",
     "iopub.status.idle": "2021-09-30T04:28:08.090114Z",
     "shell.execute_reply": "2021-09-30T04:28:08.090114Z"
    }
   },
   "outputs": [
    {
     "data": {
      "text/plain": [
       "2752.024"
      ]
     },
     "execution_count": 1,
     "metadata": {},
     "output_type": "execute_result"
    }
   ],
   "source": [
    "#Q5\n",
    "year_max(2017)"
   ]
  },
  {
   "cell_type": "code",
   "execution_count": 12,
   "id": "c3685bf1",
   "metadata": {
    "execution": {
     "iopub.execute_input": "2021-09-30T04:28:08.095100Z",
     "iopub.status.busy": "2021-09-30T04:28:08.094104Z",
     "iopub.status.idle": "2021-09-30T04:28:08.106479Z",
     "shell.execute_reply": "2021-09-30T04:28:08.105515Z"
    }
   },
   "outputs": [],
   "source": [
    "def energy_min(source):\n",
    "    source_idx = project.get_idx(source)    \n",
    "    y15 = project.get_consumption(source_idx, 2015)\n",
    "    y16 = project.get_consumption(source_idx, 2016)\n",
    "    y17 = project.get_consumption(source_idx, 2017)\n",
    "    y18 = project.get_consumption(source_idx, 2018)\n",
    "    y19 = project.get_consumption(source_idx, 2019)\n",
    "    y20 = project.get_consumption(source_idx, 2020)\n",
    "    \n",
    "    return min(y15, y16, y17, y18, y19, y20)"
   ]
  },
  {
   "cell_type": "code",
   "execution_count": 13,
   "id": "1ef765c4",
   "metadata": {
    "execution": {
     "iopub.execute_input": "2021-09-30T04:28:08.110467Z",
     "iopub.status.busy": "2021-09-30T04:28:08.109469Z",
     "iopub.status.idle": "2021-09-30T04:28:08.122435Z",
     "shell.execute_reply": "2021-09-30T04:28:08.122435Z"
    }
   },
   "outputs": [
    {
     "data": {
      "text/plain": [
       "185.145"
      ]
     },
     "execution_count": 1,
     "metadata": {},
     "output_type": "execute_result"
    }
   ],
   "source": [
    "#Q6\n",
    "energy_min(\"Wood Energy\")"
   ]
  },
  {
   "cell_type": "code",
   "execution_count": 14,
   "id": "c16f2973",
   "metadata": {
    "execution": {
     "iopub.execute_input": "2021-09-30T04:28:08.127423Z",
     "iopub.status.busy": "2021-09-30T04:28:08.126424Z",
     "iopub.status.idle": "2021-09-30T04:28:08.137718Z",
     "shell.execute_reply": "2021-09-30T04:28:08.137718Z"
    }
   },
   "outputs": [
    {
     "data": {
      "text/plain": [
       "2307.717"
      ]
     },
     "execution_count": 1,
     "metadata": {},
     "output_type": "execute_result"
    }
   ],
   "source": [
    "#Q7\n",
    "energy_min(\"Conventional Hydroelectric Power\")"
   ]
  },
  {
   "cell_type": "code",
   "execution_count": 15,
   "id": "fe9d0c79",
   "metadata": {
    "execution": {
     "iopub.execute_input": "2021-09-30T04:28:08.142704Z",
     "iopub.status.busy": "2021-09-30T04:28:08.142704Z",
     "iopub.status.idle": "2021-09-30T04:28:08.154673Z",
     "shell.execute_reply": "2021-09-30T04:28:08.153674Z"
    }
   },
   "outputs": [],
   "source": [
    "def energy_avg(source):\n",
    "    source_idx = project.get_idx(source)    \n",
    "    y15 = project.get_consumption(source_idx, 2015)\n",
    "    y16 = project.get_consumption(source_idx, 2016)\n",
    "    y17 = project.get_consumption(source_idx, 2017)\n",
    "    y18 = project.get_consumption(source_idx, 2018)\n",
    "    y19 = project.get_consumption(source_idx, 2019)\n",
    "    y20 = project.get_consumption(source_idx, 2020)\n",
    "    \n",
    "    return (y15 + y16 + y17 + y18 + y19 + y20) / 6"
   ]
  },
  {
   "cell_type": "code",
   "execution_count": 16,
   "id": "461148c7",
   "metadata": {
    "execution": {
     "iopub.execute_input": "2021-09-30T04:28:08.161654Z",
     "iopub.status.busy": "2021-09-30T04:28:08.160656Z",
     "iopub.status.idle": "2021-09-30T04:28:08.168634Z",
     "shell.execute_reply": "2021-09-30T04:28:08.169633Z"
    }
   },
   "outputs": [
    {
     "data": {
      "text/plain": [
       "509.02316666666667"
      ]
     },
     "execution_count": 1,
     "metadata": {},
     "output_type": "execute_result"
    }
   ],
   "source": [
    "#Q8\n",
    "energy_avg(\"Solar Energy\")"
   ]
  },
  {
   "cell_type": "code",
   "execution_count": 17,
   "id": "aa34bd60",
   "metadata": {
    "execution": {
     "iopub.execute_input": "2021-09-30T04:28:08.176614Z",
     "iopub.status.busy": "2021-09-30T04:28:08.175616Z",
     "iopub.status.idle": "2021-09-30T04:28:08.184591Z",
     "shell.execute_reply": "2021-09-30T04:28:08.185589Z"
    }
   },
   "outputs": [
    {
     "data": {
      "text/plain": [
       "2386.7683333333334"
      ]
     },
     "execution_count": 1,
     "metadata": {},
     "output_type": "execute_result"
    }
   ],
   "source": [
    "#Q9\n",
    "energy_avg(\"Wind Energy\")"
   ]
  },
  {
   "cell_type": "code",
   "execution_count": 18,
   "id": "07e44154",
   "metadata": {
    "execution": {
     "iopub.execute_input": "2021-09-30T04:28:08.191573Z",
     "iopub.status.busy": "2021-09-30T04:28:08.190575Z",
     "iopub.status.idle": "2021-09-30T04:28:08.200549Z",
     "shell.execute_reply": "2021-09-30T04:28:08.201547Z"
    }
   },
   "outputs": [
    {
     "data": {
      "text/plain": [
       "2.383235691505007"
      ]
     },
     "execution_count": 1,
     "metadata": {},
     "output_type": "execute_result"
    }
   ],
   "source": [
    "#Q10\n",
    "project.get_consumption(biomass_idx,2018) / energy_avg(\"Biomass Energy\") *100 - 100"
   ]
  },
  {
   "cell_type": "code",
   "execution_count": 19,
   "id": "c392f869",
   "metadata": {
    "execution": {
     "iopub.execute_input": "2021-09-30T04:28:08.209525Z",
     "iopub.status.busy": "2021-09-30T04:28:08.209525Z",
     "iopub.status.idle": "2021-09-30T04:28:08.216506Z",
     "shell.execute_reply": "2021-09-30T04:28:08.217504Z"
    }
   },
   "outputs": [],
   "source": [
    "def year_sum(year = 2016):\n",
    "    # grab the consumption of each energy source in the given year\n",
    "    hydroelectric_consumption = project.get_consumption(project.get_idx(\"Conventional Hydroelectric Power\"), year)\n",
    "    solar_consumption = project.get_consumption(project.get_idx(\"Solar Energy\"), year)\n",
    "    wind_consumption = project.get_consumption(project.get_idx(\"Wind Energy\"), year)\n",
    "    wood_consumption = project.get_consumption(project.get_idx(\"Wood Energy\"), year)    \n",
    "    biomass_consumption = project.get_consumption(project.get_idx(\"Biomass Energy\"), year)\n",
    "\n",
    "    \n",
    "    return hydroelectric_consumption + solar_consumption + wind_consumption + wood_consumption + biomass_consumption"
   ]
  },
  {
   "cell_type": "code",
   "execution_count": 20,
   "id": "82fac4d4",
   "metadata": {
    "execution": {
     "iopub.execute_input": "2021-09-30T04:28:08.223488Z",
     "iopub.status.busy": "2021-09-30T04:28:08.222490Z",
     "iopub.status.idle": "2021-09-30T04:28:08.232463Z",
     "shell.execute_reply": "2021-09-30T04:28:08.233461Z"
    }
   },
   "outputs": [
    {
     "data": {
      "text/plain": [
       "5609.637000000001"
      ]
     },
     "execution_count": 1,
     "metadata": {},
     "output_type": "execute_result"
    }
   ],
   "source": [
    "#Q11\n",
    "year_sum()"
   ]
  },
  {
   "cell_type": "code",
   "execution_count": 21,
   "id": "229b24e6",
   "metadata": {
    "execution": {
     "iopub.execute_input": "2021-09-30T04:28:08.239445Z",
     "iopub.status.busy": "2021-09-30T04:28:08.238448Z",
     "iopub.status.idle": "2021-09-30T04:28:08.248421Z",
     "shell.execute_reply": "2021-09-30T04:28:08.249419Z"
    }
   },
   "outputs": [
    {
     "data": {
      "text/plain": [
       "6990.408"
      ]
     },
     "execution_count": 1,
     "metadata": {},
     "output_type": "execute_result"
    }
   ],
   "source": [
    "#Q12\n",
    "year_sum(2020)"
   ]
  },
  {
   "cell_type": "code",
   "execution_count": 22,
   "id": "fc1381e3",
   "metadata": {
    "execution": {
     "iopub.execute_input": "2021-09-30T04:28:08.256399Z",
     "iopub.status.busy": "2021-09-30T04:28:08.255402Z",
     "iopub.status.idle": "2021-09-30T04:28:08.263381Z",
     "shell.execute_reply": "2021-09-30T04:28:08.264378Z"
    }
   },
   "outputs": [],
   "source": [
    "def change_per_year(energy, start_year=2015, end_year=2020):\n",
    "    source_idx = project.get_idx(energy)    \n",
    "    start_year_consumption = project.get_consumption(source_idx, start_year)\n",
    "    end_year_consumption = project.get_consumption(source_idx, end_year)\n",
    "    \n",
    "    return (end_year_consumption - start_year_consumption) / (end_year - start_year)"
   ]
  },
  {
   "cell_type": "code",
   "execution_count": 23,
   "id": "16e9e540",
   "metadata": {
    "execution": {
     "iopub.execute_input": "2021-09-30T04:28:08.270362Z",
     "iopub.status.busy": "2021-09-30T04:28:08.269365Z",
     "iopub.status.idle": "2021-09-30T04:28:08.279338Z",
     "shell.execute_reply": "2021-09-30T04:28:08.280335Z"
    }
   },
   "outputs": [
    {
     "data": {
      "text/plain": [
       "114.88319999999999"
      ]
     },
     "execution_count": 1,
     "metadata": {},
     "output_type": "execute_result"
    }
   ],
   "source": [
    "#Q13\n",
    "change_per_year(\"Solar Energy\")"
   ]
  },
  {
   "cell_type": "code",
   "execution_count": 24,
   "id": "a8215049",
   "metadata": {
    "execution": {
     "iopub.execute_input": "2021-09-30T04:28:08.286319Z",
     "iopub.status.busy": "2021-09-30T04:28:08.285322Z",
     "iopub.status.idle": "2021-09-30T04:28:08.295295Z",
     "shell.execute_reply": "2021-09-30T04:28:08.296292Z"
    }
   },
   "outputs": [
    {
     "data": {
      "text/plain": [
       "226.10349999999994"
      ]
     },
     "execution_count": 1,
     "metadata": {},
     "output_type": "execute_result"
    }
   ],
   "source": [
    "#Q14\n",
    "change_per_year(\"Wind Energy\", 2016)"
   ]
  },
  {
   "cell_type": "code",
   "execution_count": 25,
   "id": "3cc65fcc",
   "metadata": {
    "execution": {
     "iopub.execute_input": "2021-09-30T04:28:08.302277Z",
     "iopub.status.busy": "2021-09-30T04:28:08.301280Z",
     "iopub.status.idle": "2021-09-30T04:28:08.311253Z",
     "shell.execute_reply": "2021-09-30T04:28:08.312250Z"
    }
   },
   "outputs": [],
   "source": [
    "import math"
   ]
  },
  {
   "cell_type": "code",
   "execution_count": 26,
   "id": "16720ac6",
   "metadata": {
    "execution": {
     "iopub.execute_input": "2021-09-30T04:28:08.319232Z",
     "iopub.status.busy": "2021-09-30T04:28:08.318235Z",
     "iopub.status.idle": "2021-09-30T04:28:08.328209Z",
     "shell.execute_reply": "2021-09-30T04:28:08.328209Z"
    }
   },
   "outputs": [],
   "source": [
    "def find_threshold_year (energy, threshold=0):\n",
    "    source_idx = project.get_idx(energy)    \n",
    "    year_2020_consumption = project.get_consumption(source_idx, 2020)\n",
    "    required_decrease = year_2020_consumption - threshold\n",
    "    exact_number_of_years = - required_decrease / change_per_year(energy)\n",
    "    year_from_2020 = 2020 + exact_number_of_years\n",
    "    \n",
    "    return math.ceil(year_from_2020)"
   ]
  },
  {
   "cell_type": "code",
   "execution_count": 27,
   "id": "cd2baf9f",
   "metadata": {
    "execution": {
     "iopub.execute_input": "2021-09-30T04:28:08.334191Z",
     "iopub.status.busy": "2021-09-30T04:28:08.333194Z",
     "iopub.status.idle": "2021-09-30T04:28:08.343169Z",
     "shell.execute_reply": "2021-09-30T04:28:08.343169Z"
    }
   },
   "outputs": [
    {
     "data": {
      "text/plain": [
       "2036"
      ]
     },
     "execution_count": 1,
     "metadata": {},
     "output_type": "execute_result"
    }
   ],
   "source": [
    "#Q15\n",
    "find_threshold_year(\"Wood Energy\")"
   ]
  },
  {
   "cell_type": "code",
   "execution_count": 28,
   "id": "641aa350",
   "metadata": {
    "execution": {
     "iopub.execute_input": "2021-09-30T04:28:08.350149Z",
     "iopub.status.busy": "2021-09-30T04:28:08.349152Z",
     "iopub.status.idle": "2021-09-30T04:28:08.358127Z",
     "shell.execute_reply": "2021-09-30T04:28:08.359125Z"
    }
   },
   "outputs": [
    {
     "data": {
      "text/plain": [
       "2041"
      ]
     },
     "execution_count": 1,
     "metadata": {},
     "output_type": "execute_result"
    }
   ],
   "source": [
    "#Q16\n",
    "find_threshold_year(\"Biomass Energy\")"
   ]
  },
  {
   "cell_type": "code",
   "execution_count": 29,
   "id": "a8394d33",
   "metadata": {
    "execution": {
     "iopub.execute_input": "2021-09-30T04:28:08.365111Z",
     "iopub.status.busy": "2021-09-30T04:28:08.364113Z",
     "iopub.status.idle": "2021-09-30T04:28:08.374085Z",
     "shell.execute_reply": "2021-09-30T04:28:08.375083Z"
    }
   },
   "outputs": [
    {
     "data": {
      "text/plain": [
       "2032"
      ]
     },
     "execution_count": 1,
     "metadata": {},
     "output_type": "execute_result"
    }
   ],
   "source": [
    "#Q17\n",
    "find_threshold_year(\"Biomass Energy\", project.get_consumption(wood_idx, 2020))"
   ]
  },
  {
   "cell_type": "code",
   "execution_count": 30,
   "id": "216bc046",
   "metadata": {
    "execution": {
     "iopub.execute_input": "2021-09-30T04:28:08.383061Z",
     "iopub.status.busy": "2021-09-30T04:28:08.382064Z",
     "iopub.status.idle": "2021-09-30T04:28:08.390042Z",
     "shell.execute_reply": "2021-09-30T04:28:08.391040Z"
    }
   },
   "outputs": [],
   "source": [
    "def find_overtake_year(energy1, energy2):\n",
    "    change_per_year_energy1 = change_per_year(energy1) #increasing, hence positive\n",
    "    change_per_year_energy2 = change_per_year(energy2) #decreasing, hence negative\n",
    "    change_per_year_of_gap = change_per_year_energy1 - change_per_year_energy2 #positive\n",
    "    initial_gap = - project.get_consumption(project.get_idx(energy1), 2020) + project.get_consumption(project.get_idx(energy2), 2020)\n",
    "    #initial_gap is positive now, because it's an \"overtake\", i.e Energy 1 is smaller initially\n",
    "    exact_number_of_years =  initial_gap / change_per_year_of_gap\n",
    "    year_from_2020 = 2020 + exact_number_of_years\n",
    "    \n",
    "    return math.ceil(year_from_2020)"
   ]
  },
  {
   "cell_type": "code",
   "execution_count": 31,
   "id": "b60d104b",
   "metadata": {
    "execution": {
     "iopub.execute_input": "2021-09-30T04:28:08.397024Z",
     "iopub.status.busy": "2021-09-30T04:28:08.396026Z",
     "iopub.status.idle": "2021-09-30T04:28:08.406996Z",
     "shell.execute_reply": "2021-09-30T04:28:08.405999Z"
    }
   },
   "outputs": [
    {
     "data": {
      "text/plain": [
       "2048"
      ]
     },
     "execution_count": 1,
     "metadata": {},
     "output_type": "execute_result"
    }
   ],
   "source": [
    "#Q18\n",
    "find_overtake_year(\"Wood Energy\", \"Biomass Energy\")"
   ]
  },
  {
   "cell_type": "code",
   "execution_count": 32,
   "id": "a277ccd2",
   "metadata": {
    "execution": {
     "iopub.execute_input": "2021-09-30T04:28:08.411983Z",
     "iopub.status.busy": "2021-09-30T04:28:08.410986Z",
     "iopub.status.idle": "2021-09-30T04:28:08.422954Z",
     "shell.execute_reply": "2021-09-30T04:28:08.421956Z"
    }
   },
   "outputs": [
    {
     "data": {
      "text/plain": [
       "2050"
      ]
     },
     "execution_count": 1,
     "metadata": {},
     "output_type": "execute_result"
    }
   ],
   "source": [
    "#Q19\n",
    "find_overtake_year(\"Solar Energy\", \"Conventional Hydroelectric Power\")"
   ]
  },
  {
   "cell_type": "code",
   "execution_count": 33,
   "id": "5136bca2",
   "metadata": {
    "execution": {
     "iopub.execute_input": "2021-09-30T04:28:08.429935Z",
     "iopub.status.busy": "2021-09-30T04:28:08.428938Z",
     "iopub.status.idle": "2021-09-30T04:28:08.436917Z",
     "shell.execute_reply": "2021-09-30T04:28:08.437917Z"
    }
   },
   "outputs": [],
   "source": [
    "def increase_market_share(energy, start_year, end_year):\n",
    "    source_idx = project.get_idx(energy)  \n",
    "    start_year_market_share = project.get_consumption(source_idx, start_year) / year_sum(start_year) * 100\n",
    "    end_year_market_share = project.get_consumption(source_idx, end_year) / year_sum(end_year) * 100\n",
    "    \n",
    "    return end_year_market_share - start_year_market_share"
   ]
  },
  {
   "cell_type": "code",
   "execution_count": 34,
   "id": "2ebe4075",
   "metadata": {
    "execution": {
     "iopub.execute_input": "2021-09-30T04:28:08.444896Z",
     "iopub.status.busy": "2021-09-30T04:28:08.443898Z",
     "iopub.status.idle": "2021-09-30T04:28:08.452874Z",
     "shell.execute_reply": "2021-09-30T04:28:08.453871Z"
    }
   },
   "outputs": [
    {
     "data": {
      "text/plain": [
       "1.6662191138389897"
      ]
     },
     "execution_count": 1,
     "metadata": {},
     "output_type": "execute_result"
    }
   ],
   "source": [
    "#Q20\n",
    "increase_market_share(\"Solar Energy\", 2019, 2020)"
   ]
  },
  {
   "cell_type": "code",
   "execution_count": null,
   "id": "c96c4420",
   "metadata": {},
   "outputs": [],
   "source": []
  }
 ],
 "metadata": {
  "kernelspec": {
   "display_name": "Python 3",
   "language": "python",
   "name": "python3"
  },
  "language_info": {
   "codemirror_mode": {
    "name": "ipython",
    "version": 3
   },
   "file_extension": ".py",
   "mimetype": "text/x-python",
   "name": "python",
   "nbconvert_exporter": "python",
   "pygments_lexer": "ipython3",
   "version": "3.8.8"
  }
 },
 "nbformat": 4,
 "nbformat_minor": 5
}
