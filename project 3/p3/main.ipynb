{
 "cells": [
  {
   "cell_type": "code",
   "execution_count": 1,
   "id": "dfb34b19",
   "metadata": {},
   "outputs": [],
   "source": [
    "# project: p3\n",
    "# submitter: thieu\n",
    "# partner: none\n",
    "# hours: 2.5"
   ]
  },
  {
   "cell_type": "code",
   "execution_count": 2,
   "id": "6135ebe5",
   "metadata": {},
   "outputs": [],
   "source": [
    "import project"
   ]
  },
  {
   "cell_type": "code",
   "execution_count": 3,
   "id": "7a5248c8",
   "metadata": {},
   "outputs": [
    {
     "data": {
      "text/plain": [
       "['__DictReader',\n",
       " '__builtins__',\n",
       " '__cached__',\n",
       " '__data',\n",
       " '__doc__',\n",
       " '__energy_to_idx',\n",
       " '__file__',\n",
       " '__loader__',\n",
       " '__name__',\n",
       " '__package__',\n",
       " '__spec__',\n",
       " 'dump',\n",
       " 'get_consumption',\n",
       " 'get_idx',\n",
       " 'init']"
      ]
     },
     "execution_count": 3,
     "metadata": {},
     "output_type": "execute_result"
    }
   ],
   "source": [
    "dir(project)"
   ]
  },
  {
   "cell_type": "code",
   "execution_count": 4,
   "id": "c0a99f64",
   "metadata": {},
   "outputs": [],
   "source": [
    "project.init(\"energy.csv\")"
   ]
  },
  {
   "cell_type": "code",
   "execution_count": 5,
   "id": "70fb3baf",
   "metadata": {},
   "outputs": [],
   "source": [
    "solar_idx = project.get_idx(\"Solar Energy\")\n",
    "biomass_idx = project.get_idx(\"Biomass Energy\")\n",
    "wood_idx = project.get_idx(\"Wood Energy\")"
   ]
  },
  {
   "cell_type": "code",
   "execution_count": 6,
   "id": "2987cdb0",
   "metadata": {},
   "outputs": [
    {
     "data": {
      "text/plain": [
       "7"
      ]
     },
     "execution_count": 6,
     "metadata": {},
     "output_type": "execute_result"
    }
   ],
   "source": [
    "#Q1 \n",
    "project.get_idx(\"Biomass Energy\")"
   ]
  },
  {
   "cell_type": "code",
   "execution_count": 7,
   "id": "8ab5411d",
   "metadata": {},
   "outputs": [
    {
     "data": {
      "text/plain": [
       "509.541"
      ]
     },
     "execution_count": 7,
     "metadata": {},
     "output_type": "execute_result"
    }
   ],
   "source": [
    "#Q2\n",
    "project.get_consumption(7, 2017)"
   ]
  },
  {
   "cell_type": "code",
   "execution_count": 8,
   "id": "fd1242c4",
   "metadata": {},
   "outputs": [
    {
     "data": {
      "text/plain": [
       "634.613"
      ]
     },
     "execution_count": 8,
     "metadata": {},
     "output_type": "execute_result"
    }
   ],
   "source": [
    "#Q3\n",
    "project.get_consumption(solar_idx, 2019)"
   ]
  },
  {
   "cell_type": "code",
   "execution_count": 9,
   "id": "0a8baf6f",
   "metadata": {},
   "outputs": [],
   "source": [
    "def year_max(year):\n",
    "    # grab the consumption of each energy source in the given year\n",
    "    hydroelectric_consumption = project.get_consumption(project.get_idx(\"Conventional Hydroelectric Power\"), year)\n",
    "    solar_consumption = project.get_consumption(project.get_idx(\"Solar Energy\"), year)\n",
    "    wind_consumption = project.get_consumption(project.get_idx(\"Wind Energy\"), year)\n",
    "    wood_consumption = project.get_consumption(project.get_idx(\"Wood Energy\"), year)    \n",
    "    biomass_consumption = project.get_consumption(project.get_idx(\"Biomass Energy\"), year)\n",
    "\n",
    "    # use builtin max function to get the maximum of the five values\n",
    "    return max(hydroelectric_consumption, solar_consumption, wind_consumption, wood_consumption, biomass_consumption)"
   ]
  },
  {
   "cell_type": "code",
   "execution_count": 10,
   "id": "bfab9433",
   "metadata": {},
   "outputs": [
    {
     "data": {
      "text/plain": [
       "2307.717"
      ]
     },
     "execution_count": 10,
     "metadata": {},
     "output_type": "execute_result"
    }
   ],
   "source": [
    "#Q4\n",
    "year_max(2015)"
   ]
  },
  {
   "cell_type": "code",
   "execution_count": 11,
   "id": "f8e075b6",
   "metadata": {},
   "outputs": [
    {
     "data": {
      "text/plain": [
       "2752.024"
      ]
     },
     "execution_count": 11,
     "metadata": {},
     "output_type": "execute_result"
    }
   ],
   "source": [
    "#Q5\n",
    "year_max(2017)"
   ]
  },
  {
   "cell_type": "code",
   "execution_count": 12,
   "id": "c3685bf1",
   "metadata": {},
   "outputs": [],
   "source": [
    "def energy_min(source):\n",
    "    source_idx = project.get_idx(source)    \n",
    "    y15 = project.get_consumption(source_idx, 2015)\n",
    "    y16 = project.get_consumption(source_idx, 2016)\n",
    "    y17 = project.get_consumption(source_idx, 2017)\n",
    "    y18 = project.get_consumption(source_idx, 2018)\n",
    "    y19 = project.get_consumption(source_idx, 2019)\n",
    "    y20 = project.get_consumption(source_idx, 2020)\n",
    "    \n",
    "    return min(y15, y16, y17, y18, y19, y20)"
   ]
  },
  {
   "cell_type": "code",
   "execution_count": 13,
   "id": "1ef765c4",
   "metadata": {},
   "outputs": [
    {
     "data": {
      "text/plain": [
       "185.145"
      ]
     },
     "execution_count": 13,
     "metadata": {},
     "output_type": "execute_result"
    }
   ],
   "source": [
    "#Q6\n",
    "energy_min(\"Wood Energy\")"
   ]
  },
  {
   "cell_type": "code",
   "execution_count": 14,
   "id": "c16f2973",
   "metadata": {},
   "outputs": [
    {
     "data": {
      "text/plain": [
       "2307.717"
      ]
     },
     "execution_count": 14,
     "metadata": {},
     "output_type": "execute_result"
    }
   ],
   "source": [
    "#Q7\n",
    "energy_min(\"Conventional Hydroelectric Power\")"
   ]
  },
  {
   "cell_type": "code",
   "execution_count": 15,
   "id": "fe9d0c79",
   "metadata": {},
   "outputs": [],
   "source": [
    "def energy_avg(source):\n",
    "    source_idx = project.get_idx(source)    \n",
    "    y15 = project.get_consumption(source_idx, 2015)\n",
    "    y16 = project.get_consumption(source_idx, 2016)\n",
    "    y17 = project.get_consumption(source_idx, 2017)\n",
    "    y18 = project.get_consumption(source_idx, 2018)\n",
    "    y19 = project.get_consumption(source_idx, 2019)\n",
    "    y20 = project.get_consumption(source_idx, 2020)\n",
    "    \n",
    "    return (y15 + y16 + y17 + y18 + y19 + y20) / 6"
   ]
  },
  {
   "cell_type": "code",
   "execution_count": 16,
   "id": "461148c7",
   "metadata": {},
   "outputs": [
    {
     "data": {
      "text/plain": [
       "509.02316666666667"
      ]
     },
     "execution_count": 16,
     "metadata": {},
     "output_type": "execute_result"
    }
   ],
   "source": [
    "#Q8\n",
    "energy_avg(\"Solar Energy\")"
   ]
  },
  {
   "cell_type": "code",
   "execution_count": 17,
   "id": "aa34bd60",
   "metadata": {},
   "outputs": [
    {
     "data": {
      "text/plain": [
       "2386.7683333333334"
      ]
     },
     "execution_count": 17,
     "metadata": {},
     "output_type": "execute_result"
    }
   ],
   "source": [
    "#Q9\n",
    "energy_avg(\"Wind Energy\")"
   ]
  },
  {
   "cell_type": "code",
   "execution_count": 18,
   "id": "07e44154",
   "metadata": {},
   "outputs": [
    {
     "data": {
      "text/plain": [
       "2.383235691505007"
      ]
     },
     "execution_count": 18,
     "metadata": {},
     "output_type": "execute_result"
    }
   ],
   "source": [
    "#Q10\n",
    "project.get_consumption(biomass_idx,2018) / energy_avg(\"Biomass Energy\") *100 - 100"
   ]
  },
  {
   "cell_type": "code",
   "execution_count": 19,
   "id": "c392f869",
   "metadata": {},
   "outputs": [],
   "source": [
    "def year_sum(year = 2016):\n",
    "    # grab the consumption of each energy source in the given year\n",
    "    hydroelectric_consumption = project.get_consumption(project.get_idx(\"Conventional Hydroelectric Power\"), year)\n",
    "    solar_consumption = project.get_consumption(project.get_idx(\"Solar Energy\"), year)\n",
    "    wind_consumption = project.get_consumption(project.get_idx(\"Wind Energy\"), year)\n",
    "    wood_consumption = project.get_consumption(project.get_idx(\"Wood Energy\"), year)    \n",
    "    biomass_consumption = project.get_consumption(project.get_idx(\"Biomass Energy\"), year)\n",
    "\n",
    "    \n",
    "    return hydroelectric_consumption + solar_consumption + wind_consumption + wood_consumption + biomass_consumption"
   ]
  },
  {
   "cell_type": "code",
   "execution_count": 20,
   "id": "82fac4d4",
   "metadata": {},
   "outputs": [
    {
     "data": {
      "text/plain": [
       "5609.637000000001"
      ]
     },
     "execution_count": 20,
     "metadata": {},
     "output_type": "execute_result"
    }
   ],
   "source": [
    "#Q11\n",
    "year_sum()"
   ]
  },
  {
   "cell_type": "code",
   "execution_count": 21,
   "id": "229b24e6",
   "metadata": {},
   "outputs": [
    {
     "data": {
      "text/plain": [
       "6990.408"
      ]
     },
     "execution_count": 21,
     "metadata": {},
     "output_type": "execute_result"
    }
   ],
   "source": [
    "#Q12\n",
    "year_sum(2020)"
   ]
  },
  {
   "cell_type": "code",
   "execution_count": 22,
   "id": "fc1381e3",
   "metadata": {},
   "outputs": [],
   "source": [
    "def change_per_year(energy, start_year=2015, end_year=2020):\n",
    "    source_idx = project.get_idx(energy)    \n",
    "    start_year_consumption = project.get_consumption(source_idx, start_year)\n",
    "    end_year_consumption = project.get_consumption(source_idx, end_year)\n",
    "    \n",
    "    return (end_year_consumption - start_year_consumption) / (end_year - start_year)"
   ]
  },
  {
   "cell_type": "code",
   "execution_count": 23,
   "id": "16e9e540",
   "metadata": {},
   "outputs": [
    {
     "data": {
      "text/plain": [
       "114.88319999999999"
      ]
     },
     "execution_count": 23,
     "metadata": {},
     "output_type": "execute_result"
    }
   ],
   "source": [
    "#Q13\n",
    "change_per_year(\"Solar Energy\")"
   ]
  },
  {
   "cell_type": "code",
   "execution_count": 24,
   "id": "a8215049",
   "metadata": {},
   "outputs": [
    {
     "data": {
      "text/plain": [
       "226.10349999999994"
      ]
     },
     "execution_count": 24,
     "metadata": {},
     "output_type": "execute_result"
    }
   ],
   "source": [
    "#Q14\n",
    "change_per_year(\"Wind Energy\", 2016)"
   ]
  },
  {
   "cell_type": "code",
   "execution_count": 25,
   "id": "3cc65fcc",
   "metadata": {},
   "outputs": [],
   "source": [
    "import math"
   ]
  },
  {
   "cell_type": "code",
   "execution_count": 26,
   "id": "16720ac6",
   "metadata": {},
   "outputs": [],
   "source": [
    "def find_threshold_year (energy, threshold=0):\n",
    "    source_idx = project.get_idx(energy)    \n",
    "    year_2020_consumption = project.get_consumption(source_idx, 2020)\n",
    "    required_decrease = year_2020_consumption - threshold\n",
    "    exact_number_of_years = - required_decrease / change_per_year(energy)\n",
    "    year_from_2020 = 2020 + exact_number_of_years\n",
    "    \n",
    "    return math.ceil(year_from_2020)"
   ]
  },
  {
   "cell_type": "code",
   "execution_count": 27,
   "id": "cd2baf9f",
   "metadata": {},
   "outputs": [
    {
     "data": {
      "text/plain": [
       "2036"
      ]
     },
     "execution_count": 27,
     "metadata": {},
     "output_type": "execute_result"
    }
   ],
   "source": [
    "#Q15\n",
    "find_threshold_year(\"Wood Energy\")"
   ]
  },
  {
   "cell_type": "code",
   "execution_count": 28,
   "id": "641aa350",
   "metadata": {},
   "outputs": [
    {
     "data": {
      "text/plain": [
       "2041"
      ]
     },
     "execution_count": 28,
     "metadata": {},
     "output_type": "execute_result"
    }
   ],
   "source": [
    "#Q16\n",
    "find_threshold_year(\"Biomass Energy\")"
   ]
  },
  {
   "cell_type": "code",
   "execution_count": 29,
   "id": "a8394d33",
   "metadata": {},
   "outputs": [
    {
     "data": {
      "text/plain": [
       "2032"
      ]
     },
     "execution_count": 29,
     "metadata": {},
     "output_type": "execute_result"
    }
   ],
   "source": [
    "#Q17\n",
    "find_threshold_year(\"Biomass Energy\", project.get_consumption(wood_idx, 2020))"
   ]
  },
  {
   "cell_type": "code",
   "execution_count": 30,
   "id": "216bc046",
   "metadata": {},
   "outputs": [],
   "source": [
    "def find_overtake_year(energy1, energy2):\n",
    "    change_per_year_energy1 = change_per_year(energy1) #increasing, hence positive\n",
    "    change_per_year_energy2 = change_per_year(energy2) #decreasing, hence negative\n",
    "    change_per_year_of_gap = change_per_year_energy1 - change_per_year_energy2 #positive\n",
    "    initial_gap = - project.get_consumption(project.get_idx(energy1), 2020) + project.get_consumption(project.get_idx(energy2), 2020)\n",
    "    #initial_gap is positive now, because it's an \"overtake\", i.e Energy 1 is smaller initially\n",
    "    exact_number_of_years =  initial_gap / change_per_year_of_gap\n",
    "    year_from_2020 = 2020 + exact_number_of_years\n",
    "    \n",
    "    return math.ceil(year_from_2020)"
   ]
  },
  {
   "cell_type": "code",
   "execution_count": 31,
   "id": "b60d104b",
   "metadata": {},
   "outputs": [
    {
     "data": {
      "text/plain": [
       "2048"
      ]
     },
     "execution_count": 31,
     "metadata": {},
     "output_type": "execute_result"
    }
   ],
   "source": [
    "#Q18\n",
    "find_overtake_year(\"Wood Energy\", \"Biomass Energy\")"
   ]
  },
  {
   "cell_type": "code",
   "execution_count": 32,
   "id": "a277ccd2",
   "metadata": {},
   "outputs": [
    {
     "data": {
      "text/plain": [
       "2050"
      ]
     },
     "execution_count": 32,
     "metadata": {},
     "output_type": "execute_result"
    }
   ],
   "source": [
    "#Q19\n",
    "find_overtake_year(\"Solar Energy\", \"Conventional Hydroelectric Power\")"
   ]
  },
  {
   "cell_type": "code",
   "execution_count": 33,
   "id": "5136bca2",
   "metadata": {},
   "outputs": [],
   "source": [
    "def increase_market_share(energy, start_year, end_year):\n",
    "    source_idx = project.get_idx(energy)  \n",
    "    start_year_market_share = project.get_consumption(source_idx, start_year) / year_sum(start_year) * 100\n",
    "    end_year_market_share = project.get_consumption(source_idx, end_year) / year_sum(end_year) * 100\n",
    "    \n",
    "    return end_year_market_share - start_year_market_share"
   ]
  },
  {
   "cell_type": "code",
   "execution_count": 34,
   "id": "2ebe4075",
   "metadata": {},
   "outputs": [
    {
     "data": {
      "text/plain": [
       "1.6662191138389897"
      ]
     },
     "execution_count": 34,
     "metadata": {},
     "output_type": "execute_result"
    }
   ],
   "source": [
    "#Q20\n",
    "increase_market_share(\"Solar Energy\", 2019, 2020)"
   ]
  },
  {
   "cell_type": "code",
   "execution_count": null,
   "id": "c96c4420",
   "metadata": {},
   "outputs": [],
   "source": []
  }
 ],
 "metadata": {
  "kernelspec": {
   "display_name": "Python 3",
   "language": "python",
   "name": "python3"
  },
  "language_info": {
   "codemirror_mode": {
    "name": "ipython",
    "version": 3
   },
   "file_extension": ".py",
   "mimetype": "text/x-python",
   "name": "python",
   "nbconvert_exporter": "python",
   "pygments_lexer": "ipython3",
   "version": "3.8.8"
  }
 },
 "nbformat": 4,
 "nbformat_minor": 5
}
