{
 "cells": [
  {
   "cell_type": "code",
   "execution_count": 1,
   "metadata": {
    "execution": {
     "iopub.execute_input": "2021-09-22T04:47:44.296297Z",
     "iopub.status.busy": "2021-09-22T04:47:44.295302Z",
     "iopub.status.idle": "2021-09-22T04:47:44.303280Z",
     "shell.execute_reply": "2021-09-22T04:47:44.302282Z"
    }
   },
   "outputs": [],
   "source": [
    "# This line is a comment because it starts with a pound sign (#). That                                                                                                                                         \n",
    "# means Python ignores it.  A comment is just for a human reading the                                                                                                                                          \n",
    "# code.  This project involves 20 small problems to give you practice                                                                                                                                          \n",
    "# with operators, types, and boolean logic.  We'll give you directions                                                                                                                                         \n",
    "# (as comments) on what to do for each problem.                                                                                                                                                                \n",
    "#                                                                                                                                                                                                              \n",
    "# Before you get started, please tell us who you are, putting your\n",
    "# Net ID and your partner's Net ID below (or none if your working solo)                                                                                                                                      \n",
    "\n",
    "# project: p2\n",
    "# submitter: thieu\n",
    "# partner: none\n",
    "# hours: 1.25"
   ]
  },
  {
   "cell_type": "code",
   "execution_count": 2,
   "metadata": {
    "execution": {
     "iopub.execute_input": "2021-09-22T04:47:44.317242Z",
     "iopub.status.busy": "2021-09-22T04:47:44.316525Z",
     "iopub.status.idle": "2021-09-22T04:47:44.338188Z",
     "shell.execute_reply": "2021-09-22T04:47:44.337192Z"
    }
   },
   "outputs": [
    {
     "data": {
      "text/plain": [
       "220"
      ]
     },
     "execution_count": 1,
     "metadata": {},
     "output_type": "execute_result"
    }
   ],
   "source": [
    "#q1: What is 11*20?\n",
    "\n",
    "# We did this one for you :)\n",
    "\n",
    "11*20"
   ]
  },
  {
   "cell_type": "code",
   "execution_count": 3,
   "metadata": {
    "execution": {
     "iopub.execute_input": "2021-09-22T04:47:44.344194Z",
     "iopub.status.busy": "2021-09-22T04:47:44.343175Z",
     "iopub.status.idle": "2021-09-22T04:47:44.353177Z",
     "shell.execute_reply": "2021-09-22T04:47:44.353177Z"
    }
   },
   "outputs": [
    {
     "data": {
      "text/plain": [
       "22"
      ]
     },
     "execution_count": 1,
     "metadata": {},
     "output_type": "execute_result"
    }
   ],
   "source": [
    "#q2: What is 2 + 20?\n",
    "\n",
    "# We expect your answer to be similar to the answer for q1 and not just the final value of the expression\n",
    "\n",
    "2 + 20"
   ]
  },
  {
   "cell_type": "code",
   "execution_count": 4,
   "metadata": {
    "execution": {
     "iopub.execute_input": "2021-09-22T04:47:44.360129Z",
     "iopub.status.busy": "2021-09-22T04:47:44.359129Z",
     "iopub.status.idle": "2021-09-22T04:47:44.366159Z",
     "shell.execute_reply": "2021-09-22T04:47:44.367161Z"
    }
   },
   "outputs": [
    {
     "data": {
      "text/plain": [
       "int"
      ]
     },
     "execution_count": 1,
     "metadata": {},
     "output_type": "execute_result"
    }
   ],
   "source": [
    "#q3: What is the type of 11*20?\n",
    "\n",
    "# We did this one for you too...\n",
    "\n",
    "type(11*20)"
   ]
  },
  {
   "cell_type": "code",
   "execution_count": 5,
   "metadata": {
    "execution": {
     "iopub.execute_input": "2021-09-22T04:47:44.373091Z",
     "iopub.status.busy": "2021-09-22T04:47:44.372096Z",
     "iopub.status.idle": "2021-09-22T04:47:44.383111Z",
     "shell.execute_reply": "2021-09-22T04:47:44.383111Z"
    }
   },
   "outputs": [
    {
     "data": {
      "text/plain": [
       "int"
      ]
     },
     "execution_count": 1,
     "metadata": {},
     "output_type": "execute_result"
    }
   ],
   "source": [
    "#q4: What is the type of 220//9?\n",
    "\n",
    "# We expect the answers for q4-q9 to be similar to the answer for q3 and not just the final type value\n",
    "\n",
    "type(220//9)"
   ]
  },
  {
   "cell_type": "code",
   "execution_count": 6,
   "metadata": {
    "execution": {
     "iopub.execute_input": "2021-09-22T04:47:44.388376Z",
     "iopub.status.busy": "2021-09-22T04:47:44.388053Z",
     "iopub.status.idle": "2021-09-22T04:47:44.396031Z",
     "shell.execute_reply": "2021-09-22T04:47:44.395067Z"
    }
   },
   "outputs": [
    {
     "data": {
      "text/plain": [
       "float"
      ]
     },
     "execution_count": 1,
     "metadata": {},
     "output_type": "execute_result"
    }
   ],
   "source": [
    "#q5: What is the type of 220.0?\n",
    "\n",
    "type(220.0)"
   ]
  },
  {
   "cell_type": "code",
   "execution_count": 7,
   "metadata": {
    "execution": {
     "iopub.execute_input": "2021-09-22T04:47:44.405007Z",
     "iopub.status.busy": "2021-09-22T04:47:44.404011Z",
     "iopub.status.idle": "2021-09-22T04:47:44.410992Z",
     "shell.execute_reply": "2021-09-22T04:47:44.410992Z"
    }
   },
   "outputs": [
    {
     "data": {
      "text/plain": [
       "str"
      ]
     },
     "execution_count": 1,
     "metadata": {},
     "output_type": "execute_result"
    }
   ],
   "source": [
    "#q6: What is the type of \"220\"?  Note the quotes!\n",
    "\n",
    "type(\"220\")"
   ]
  },
  {
   "cell_type": "code",
   "execution_count": 8,
   "metadata": {
    "execution": {
     "iopub.execute_input": "2021-09-22T04:47:44.419967Z",
     "iopub.status.busy": "2021-09-22T04:47:44.418969Z",
     "iopub.status.idle": "2021-09-22T04:47:44.426183Z",
     "shell.execute_reply": "2021-09-22T04:47:44.426183Z"
    }
   },
   "outputs": [
    {
     "data": {
      "text/plain": [
       "bool"
      ]
     },
     "execution_count": 1,
     "metadata": {},
     "output_type": "execute_result"
    }
   ],
   "source": [
    "#q7: What is the type of False?\n",
    "\n",
    "type(False)"
   ]
  },
  {
   "cell_type": "code",
   "execution_count": 9,
   "metadata": {
    "execution": {
     "iopub.execute_input": "2021-09-22T04:47:44.435131Z",
     "iopub.status.busy": "2021-09-22T04:47:44.434131Z",
     "iopub.status.idle": "2021-09-22T04:47:44.441111Z",
     "shell.execute_reply": "2021-09-22T04:47:44.440115Z"
    }
   },
   "outputs": [
    {
     "data": {
      "text/plain": [
       "str"
      ]
     },
     "execution_count": 1,
     "metadata": {},
     "output_type": "execute_result"
    }
   ],
   "source": [
    "#q8: What is the type of \"False\"?  Note the quotes!\n",
    "\n",
    "type(\"False\")"
   ]
  },
  {
   "cell_type": "code",
   "execution_count": 10,
   "metadata": {
    "execution": {
     "iopub.execute_input": "2021-09-22T04:47:44.449104Z",
     "iopub.status.busy": "2021-09-22T04:47:44.447108Z",
     "iopub.status.idle": "2021-09-22T04:47:44.456357Z",
     "shell.execute_reply": "2021-09-22T04:47:44.456357Z"
    }
   },
   "outputs": [
    {
     "data": {
      "text/plain": [
       "bool"
      ]
     },
     "execution_count": 1,
     "metadata": {},
     "output_type": "execute_result"
    }
   ],
   "source": [
    "#q9: What is the type of 220<320?\n",
    "\n",
    "type(220<320)"
   ]
  },
  {
   "cell_type": "code",
   "execution_count": 11,
   "metadata": {
    "execution": {
     "iopub.execute_input": "2021-09-22T04:47:44.461423Z",
     "iopub.status.busy": "2021-09-22T04:47:44.460344Z",
     "iopub.status.idle": "2021-09-22T04:47:44.471414Z",
     "shell.execute_reply": "2021-09-22T04:47:44.472409Z"
    }
   },
   "outputs": [
    {
     "data": {
      "text/plain": [
       "220"
      ]
     },
     "execution_count": 1,
     "metadata": {},
     "output_type": "execute_result"
    }
   ],
   "source": [
    "#q10: What is two hundred plus twenty?\n",
    "\n",
    "# Fix the below to make Python do an addition that produces 220\n",
    "\n",
    "200 + 20"
   ]
  },
  {
   "cell_type": "code",
   "execution_count": 12,
   "metadata": {
    "execution": {
     "iopub.execute_input": "2021-09-22T04:47:44.477400Z",
     "iopub.status.busy": "2021-09-22T04:47:44.476402Z",
     "iopub.status.idle": "2021-09-22T04:47:44.488399Z",
     "shell.execute_reply": "2021-09-22T04:47:44.487371Z"
    }
   },
   "outputs": [
    {
     "data": {
      "text/plain": [
       "':-(:-):-):-)'"
      ]
     },
     "execution_count": 1,
     "metadata": {},
     "output_type": "execute_result"
    }
   ],
   "source": [
    "#q11: Please fix the following to display 1 sad smiley and 3 happy smileys\n",
    "\n",
    "\":-(\" * 1 + \":-)\" * 3"
   ]
  },
  {
   "cell_type": "code",
   "execution_count": 13,
   "metadata": {
    "execution": {
     "iopub.execute_input": "2021-09-22T04:47:44.492358Z",
     "iopub.status.busy": "2021-09-22T04:47:44.492358Z",
     "iopub.status.idle": "2021-09-22T04:47:44.502789Z",
     "shell.execute_reply": "2021-09-22T04:47:44.503786Z"
    }
   },
   "outputs": [
    {
     "data": {
      "text/plain": [
       "220"
      ]
     },
     "execution_count": 1,
     "metadata": {},
     "output_type": "execute_result"
    }
   ],
   "source": [
    "#q12: Please fix the following to get 220\n",
    "\n",
    "44 * 5"
   ]
  },
  {
   "cell_type": "code",
   "execution_count": 14,
   "metadata": {
    "execution": {
     "iopub.execute_input": "2021-09-22T04:47:44.508773Z",
     "iopub.status.busy": "2021-09-22T04:47:44.507777Z",
     "iopub.status.idle": "2021-09-22T04:47:44.520042Z",
     "shell.execute_reply": "2021-09-22T04:47:44.520042Z"
    }
   },
   "outputs": [
    {
     "data": {
      "text/plain": [
       "49"
      ]
     },
     "execution_count": 1,
     "metadata": {},
     "output_type": "execute_result"
    }
   ],
   "source": [
    "#q13: What is the area of a square with side length of 7?\n",
    "\n",
    "# Oops, it is currently computing the volume of a cube (please fix)\n",
    "\n",
    "7 ** 2"
   ]
  },
  {
   "cell_type": "code",
   "execution_count": 15,
   "metadata": {
    "execution": {
     "iopub.execute_input": "2021-09-22T04:47:44.525052Z",
     "iopub.status.busy": "2021-09-22T04:47:44.525052Z",
     "iopub.status.idle": "2021-09-22T04:47:44.535066Z",
     "shell.execute_reply": "2021-09-22T04:47:44.534068Z"
    }
   },
   "outputs": [
    {
     "data": {
      "text/plain": [
       "7040"
      ]
     },
     "execution_count": 1,
     "metadata": {},
     "output_type": "execute_result"
    }
   ],
   "source": [
    "#q14: You start with 220 dollars and double your money every decade.\n",
    "# How much will you have after 5 decades?\n",
    "\n",
    "# We expect the answer to be a mathematical expression, and not just the final value\n",
    "\n",
    "220*(2**5)"
   ]
  },
  {
   "cell_type": "code",
   "execution_count": 16,
   "metadata": {
    "execution": {
     "iopub.execute_input": "2021-09-22T04:47:44.540054Z",
     "iopub.status.busy": "2021-09-22T04:47:44.539105Z",
     "iopub.status.idle": "2021-09-22T04:47:44.552346Z",
     "shell.execute_reply": "2021-09-22T04:47:44.551320Z"
    }
   },
   "outputs": [
    {
     "data": {
      "text/plain": [
       "True"
      ]
     },
     "execution_count": 1,
     "metadata": {},
     "output_type": "execute_result"
    }
   ],
   "source": [
    "#q15: Fix the Python logic to match the English\n",
    "\n",
    "# In English: 220 is less than 320 and greater than 200\n",
    "\n",
    "# In Python:\n",
    "\n",
    "220 < 320 and 220 > 200 "
   ]
  },
  {
   "cell_type": "code",
   "execution_count": 17,
   "metadata": {
    "execution": {
     "iopub.execute_input": "2021-09-22T04:47:44.557302Z",
     "iopub.status.busy": "2021-09-22T04:47:44.556304Z",
     "iopub.status.idle": "2021-09-22T04:47:44.568270Z",
     "shell.execute_reply": "2021-09-22T04:47:44.567281Z"
    }
   },
   "outputs": [
    {
     "data": {
      "text/plain": [
       "True"
      ]
     },
     "execution_count": 1,
     "metadata": {},
     "output_type": "execute_result"
    }
   ],
   "source": [
    "#q16: Change ONLY the value of x to get True for the output\n",
    "\n",
    "x = 230 \n",
    "\n",
    "x > 220 and x < 320"
   ]
  },
  {
   "cell_type": "code",
   "execution_count": 18,
   "metadata": {
    "execution": {
     "iopub.execute_input": "2021-09-22T04:47:44.573257Z",
     "iopub.status.busy": "2021-09-22T04:47:44.573057Z",
     "iopub.status.idle": "2021-09-22T04:47:44.580237Z",
     "shell.execute_reply": "2021-09-22T04:47:44.579349Z"
    }
   },
   "outputs": [
    {
     "data": {
      "text/plain": [
       "True"
      ]
     },
     "execution_count": 1,
     "metadata": {},
     "output_type": "execute_result"
    }
   ],
   "source": [
    "#q17: Change ONLY the value of x to get True for the output\n",
    "\n",
    "x = 319\n",
    "\n",
    "(x >= 200 and x <= 320) and (x >= 319 and x <= 400)"
   ]
  },
  {
   "cell_type": "code",
   "execution_count": 19,
   "metadata": {
    "execution": {
     "iopub.execute_input": "2021-09-22T04:47:44.585225Z",
     "iopub.status.busy": "2021-09-22T04:47:44.584227Z",
     "iopub.status.idle": "2021-09-22T04:47:44.596814Z",
     "shell.execute_reply": "2021-09-22T04:47:44.595798Z"
    }
   },
   "outputs": [
    {
     "data": {
      "text/plain": [
       "True"
      ]
     },
     "execution_count": 1,
     "metadata": {},
     "output_type": "execute_result"
    }
   ],
   "source": [
    "#q18: Fix the following logic so that it checks whether x is \n",
    "# either -220 or 220.\n",
    "\n",
    "x = 220\n",
    "\n",
    "# The correct output should be True,\n",
    "# as x indeed equals to -220 or 220.\n",
    "# The problem here is that for \n",
    "# logical operators to work properly, \n",
    "# they require booleans on either\n",
    "# side\n",
    "\n",
    "x == -220 or x == 220"
   ]
  },
  {
   "cell_type": "code",
   "execution_count": 20,
   "metadata": {
    "execution": {
     "iopub.execute_input": "2021-09-22T04:47:44.601767Z",
     "iopub.status.busy": "2021-09-22T04:47:44.601767Z",
     "iopub.status.idle": "2021-09-22T04:47:44.611031Z",
     "shell.execute_reply": "2021-09-22T04:47:44.610034Z"
    }
   },
   "outputs": [
    {
     "data": {
      "text/plain": [
       "True"
      ]
     },
     "execution_count": 1,
     "metadata": {},
     "output_type": "execute_result"
    }
   ],
   "source": [
    "#q19: We should win!\n",
    "\n",
    "number = 319 \n",
    "\n",
    "# There are three winning numbers: 220, 319, and 320\n",
    "# The following should output True if number is changed\n",
    "# to be any of these, and it should output False otherwise\n",
    "# (but the logic is currently wrong).\n",
    "# Please update the following expression so we get True\n",
    "# if the number variable is changed to any of the winning\n",
    "# options.\n",
    "\n",
    "# Did we win?\n",
    "number == 220 or number == 319 or number == 320"
   ]
  },
  {
   "cell_type": "code",
   "execution_count": 21,
   "metadata": {
    "execution": {
     "iopub.execute_input": "2021-09-22T04:47:44.616018Z",
     "iopub.status.busy": "2021-09-22T04:47:44.615021Z",
     "iopub.status.idle": "2021-09-22T04:47:44.627428Z",
     "shell.execute_reply": "2021-09-22T04:47:44.626311Z"
    }
   },
   "outputs": [
    {
     "data": {
      "text/plain": [
       "113.04"
      ]
     },
     "execution_count": 1,
     "metadata": {},
     "output_type": "execute_result"
    }
   ],
   "source": [
    "#q20: What is the volume of a cylinder with radius 3 and height 4?\n",
    "# You may assume PI is 3.14 \n",
    "\n",
    "# We expect the answer to be a mathematical expression, and not just the final value\n",
    "\n",
    "3.14 * (3**2) *4"
   ]
  },
  {
   "cell_type": "code",
   "execution_count": null,
   "metadata": {},
   "outputs": [],
   "source": []
  }
 ],
 "metadata": {
  "anaconda-cloud": {},
  "kernelspec": {
   "display_name": "Python 3",
   "language": "python",
   "name": "python3"
  },
  "language_info": {
   "codemirror_mode": {
    "name": "ipython",
    "version": 3
   },
   "file_extension": ".py",
   "mimetype": "text/x-python",
   "name": "python",
   "nbconvert_exporter": "python",
   "pygments_lexer": "ipython3",
   "version": "3.8.8"
  }
 },
 "nbformat": 4,
 "nbformat_minor": 4
}
